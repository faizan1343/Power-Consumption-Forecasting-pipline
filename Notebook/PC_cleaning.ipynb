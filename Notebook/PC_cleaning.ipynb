{
 "cells": [
  {
   "cell_type": "code",
   "execution_count": 1,
   "id": "84790529-8f85-4c92-b7ec-2f1acc15f55f",
   "metadata": {},
   "outputs": [],
   "source": [
    "import pandas as pd\n",
    "import plotly.express as px\n",
    "import plotly.graph_objects as go\n",
    "import os\n",
    "\n",
    "# Define file paths\n",
    "DATASET_PATH = r\"E:\\TIme series proj\\Dataset\\AEP_hourly.csv\"\n",
    "OUTPUT_CSV_PATH = r\"E:\\TIme series proj\\Dataset\\cleaned_dataset.csv\"\n",
    "PLOT_DIR = r\"E:\\TIme series proj\\Dataset\"\n",
    "PICKLE_DIR = r\"E:\\TIme series proj\\files\"\n",
    "\n",
    "# Ensure output directories exist\n",
    "os.makedirs(PLOT_DIR, exist_ok=True)\n",
    "os.makedirs(PICKLE_DIR, exist_ok=True)"
   ]
  },
  {
   "cell_type": "code",
   "execution_count": 2,
   "id": "7068c67b-78a8-47f5-afee-e682588edbb0",
   "metadata": {},
   "outputs": [
    {
     "name": "stdout",
     "output_type": "stream",
     "text": [
      "Section 1: Loading and Inspecting Data\n",
      "Dataset loaded successfully!\n",
      "\n",
      "First 5 rows of the dataset:\n",
      "              Datetime   AEP_MW\n",
      "0  2004-12-31 01:00:00  13478.0\n",
      "1  2004-12-31 02:00:00  12865.0\n",
      "2  2004-12-31 03:00:00  12577.0\n",
      "3  2004-12-31 04:00:00  12517.0\n",
      "4  2004-12-31 05:00:00  12670.0\n",
      "\n",
      "Dataset Info:\n",
      "<class 'pandas.core.frame.DataFrame'>\n",
      "RangeIndex: 121273 entries, 0 to 121272\n",
      "Data columns (total 2 columns):\n",
      " #   Column    Non-Null Count   Dtype  \n",
      "---  ------    --------------   -----  \n",
      " 0   Datetime  121273 non-null  object \n",
      " 1   AEP_MW    121273 non-null  float64\n",
      "dtypes: float64(1), object(1)\n",
      "memory usage: 1.9+ MB\n",
      "None\n",
      "\n",
      "Initial Summary Statistics:\n",
      "              AEP_MW\n",
      "count  121273.000000\n",
      "mean    15499.513717\n",
      "std      2591.399065\n",
      "min      9581.000000\n",
      "25%     13630.000000\n",
      "50%     15310.000000\n",
      "75%     17200.000000\n",
      "max     25695.000000\n"
     ]
    }
   ],
   "source": [
    "print(\"Section 1: Loading and Inspecting Data\")\n",
    "# Load the dataset\n",
    "try:\n",
    "    df = pd.read_csv(DATASET_PATH)\n",
    "    print(\"Dataset loaded successfully!\")\n",
    "except FileNotFoundError:\n",
    "    print(f\"Error: File not found at {DATASET_PATH}\")\n",
    "    exit()\n",
    "\n",
    "# Display first few rows\n",
    "print(\"\\nFirst 5 rows of the dataset:\")\n",
    "print(df.head())\n",
    "\n",
    "# Display basic info (data types, non-null counts)\n",
    "print(\"\\nDataset Info:\")\n",
    "print(df.info())\n",
    "\n",
    "# Display summary statistics\n",
    "print(\"\\nInitial Summary Statistics:\")\n",
    "print(df.describe())"
   ]
  },
  {
   "cell_type": "code",
   "execution_count": null,
   "id": "379f441f-4896-4e68-8297-b61b98556e50",
   "metadata": {},
   "outputs": [],
   "source": [
    "Inferences:\n",
    "\n",
    "1. The dataset is large (121,273 hourly records, ~14 years from 2004–2018), ideal for time-series analysis.\n",
    "2. No immediate red flags\n",
    "3. The max (25,695 MW) is high compared to the 75th percentile (17,200 MW). This could indicate outliers."
   ]
  },
  {
   "cell_type": "code",
   "execution_count": 3,
   "id": "4ad6fe4d-eefe-42d1-ac5e-385d6588b4c5",
   "metadata": {},
   "outputs": [
    {
     "name": "stdout",
     "output_type": "stream",
     "text": [
      "\n",
      "Section 2: Data Cleaning\n",
      "No invalid datetime entries found.\n",
      "\n",
      "Missing Values:\n",
      "AEP_MW    0\n",
      "dtype: int64\n",
      "No missing values in AEP_MW to fill.\n",
      "Found 4 duplicate timestamps. Keeping first occurrence.\n",
      "\n",
      "Outliers Detected (259 rows):\n",
      "                      AEP_MW\n",
      "Datetime                    \n",
      "2005-07-25 14:00:00  23558.0\n",
      "2005-07-25 15:00:00  23741.0\n",
      "2005-07-26 14:00:00  23470.0\n",
      "2005-07-26 15:00:00  23860.0\n",
      "2005-07-26 16:00:00  24015.0\n",
      "Outliers noted but not removed for initial analysis.\n"
     ]
    }
   ],
   "source": [
    "# --- Section 2: Data Cleaning ---\n",
    "print(\"\\nSection 2: Data Cleaning\")\n",
    "# Convert 'Datetime' column to datetime format\n",
    "df['Datetime'] = pd.to_datetime(df['Datetime'], errors='coerce')\n",
    "\n",
    "# Check for invalid datetime entries\n",
    "invalid_dates = df[df['Datetime'].isna()]\n",
    "if not invalid_dates.empty:\n",
    "    print(f\"Warning: {len(invalid_dates)} rows with invalid dates found!\")\n",
    "    print(invalid_dates)\n",
    "else:\n",
    "    print(\"No invalid datetime entries found.\")\n",
    "\n",
    "# Set Datetime as index and sort chronologically\n",
    "df.set_index('Datetime', inplace=True)\n",
    "df.sort_index(inplace=True)\n",
    "\n",
    "print(\"\\nMissing Values:\")\n",
    "print(df.isnull().sum())\n",
    "\n",
    "# Handle missing values in 'AEP_MW' (forward fill approach)\n",
    "if df['AEP_MW'].isnull().sum() > 0:\n",
    "    print(\"Filling missing AEP_MW values with forward fill.\")\n",
    "    df['AEP_MW'].fillna(method='ffill', inplace=True)\n",
    "else:\n",
    "    print(\"No missing values in AEP_MW to fill.\")\n",
    "\n",
    "# Check for duplicates in the index (duplicate timestamps)\n",
    "duplicates = df.index.duplicated().sum()\n",
    "if duplicates > 0:\n",
    "    print(f\"Found {duplicates} duplicate timestamps. Keeping first occurrence.\")\n",
    "    df = df[~df.index.duplicated(keep='first')]\n",
    "else:\n",
    "    print(\"No duplicate timestamps found.\")\n",
    "\n",
    "# Check for outliers using a simple rule (beyond 3 standard deviations, 3 sigma rule)\n",
    "mean_mw = df['AEP_MW'].mean()\n",
    "std_mw = df['AEP_MW'].std()\n",
    "outliers = df[(df['AEP_MW'] > mean_mw + 3*std_mw) | (df['AEP_MW'] < mean_mw - 3*std_mw)]\n",
    "print(f\"\\nOutliers Detected ({len(outliers)} rows):\")\n",
    "print(outliers.head() if not outliers.empty else \"No outliers detected.\")\n",
    "\n",
    "print(\"Outliers noted but not removed for initial analysis.\")"
   ]
  },
  {
   "cell_type": "code",
   "execution_count": null,
   "id": "0acca275-ba79-4c83-8355-43696fb3a513",
   "metadata": {},
   "outputs": [],
   "source": [
    "Inferences:\n",
    "1. Outliers (259): Significant but not excessive. They align with expected patterns (summer peaks)"
   ]
  },
  {
   "cell_type": "code",
   "execution_count": 9,
   "id": "9ccf8e12-8c18-44fe-a050-1b0801337243",
   "metadata": {},
   "outputs": [
    {
     "data": {
      "application/vnd.plotly.v1+json": {
       "config": {
        "plotlyServerURL": "https://plot.ly"
       },
       "data": [
        {
         "hovertemplate": "Date=%{x}<br>Load (MW)=%{y}<extra></extra>",
         "legendgroup": "",
         "line": {
          "color": "#636efa",
          "dash": "solid"
         },
         "marker": {
          "symbol": "circle"
         },
         "mode": "lines",
         "name": "",
         "orientation": "v",
         "showlegend": false,
         "type": "scatter",
         "x": [
          "2005-07-25T00:00:00",
          "2005-07-25T01:00:00",
          "2005-07-25T02:00:00",
          "2005-07-25T03:00:00",
          "2005-07-25T04:00:00",
          "2005-07-25T05:00:00",
          "2005-07-25T06:00:00",
          "2005-07-25T07:00:00",
          "2005-07-25T08:00:00",
          "2005-07-25T09:00:00",
          "2005-07-25T10:00:00",
          "2005-07-25T11:00:00",
          "2005-07-25T12:00:00",
          "2005-07-25T13:00:00",
          "2005-07-25T14:00:00",
          "2005-07-25T15:00:00",
          "2005-07-25T16:00:00",
          "2005-07-25T17:00:00",
          "2005-07-25T18:00:00",
          "2005-07-25T19:00:00",
          "2005-07-25T20:00:00",
          "2005-07-25T21:00:00",
          "2005-07-25T22:00:00",
          "2005-07-25T23:00:00",
          "2005-07-26T00:00:00",
          "2005-07-26T01:00:00",
          "2005-07-26T02:00:00",
          "2005-07-26T03:00:00",
          "2005-07-26T04:00:00",
          "2005-07-26T05:00:00",
          "2005-07-26T06:00:00",
          "2005-07-26T07:00:00",
          "2005-07-26T08:00:00",
          "2005-07-26T09:00:00",
          "2005-07-26T10:00:00",
          "2005-07-26T11:00:00",
          "2005-07-26T12:00:00",
          "2005-07-26T13:00:00",
          "2005-07-26T14:00:00",
          "2005-07-26T15:00:00",
          "2005-07-26T16:00:00",
          "2005-07-26T17:00:00",
          "2005-07-26T18:00:00",
          "2005-07-26T19:00:00",
          "2005-07-26T20:00:00",
          "2005-07-26T21:00:00",
          "2005-07-26T22:00:00",
          "2005-07-26T23:00:00"
         ],
         "xaxis": "x",
         "y": [
          17828,
          16572,
          15778,
          15248,
          14907,
          14883,
          15408,
          16224,
          17252,
          18774,
          20199,
          21489,
          22363,
          23022,
          23558,
          23741,
          22942,
          22455,
          22107,
          21808,
          21317,
          21003,
          20801,
          19724,
          18105,
          16753,
          15709,
          15161,
          14732,
          14695,
          15039,
          15772,
          16847,
          18191,
          19649,
          21014,
          22058,
          22922,
          23470,
          23860,
          24015,
          23708,
          23543,
          22910,
          22483,
          21982,
          21789,
          20465
         ],
         "yaxis": "y"
        }
       ],
       "layout": {
        "autosize": true,
        "legend": {
         "tracegroupgap": 0
        },
        "showlegend": true,
        "template": {
         "data": {
          "bar": [
           {
            "error_x": {
             "color": "#2a3f5f"
            },
            "error_y": {
             "color": "#2a3f5f"
            },
            "marker": {
             "line": {
              "color": "#E5ECF6",
              "width": 0.5
             },
             "pattern": {
              "fillmode": "overlay",
              "size": 10,
              "solidity": 0.2
             }
            },
            "type": "bar"
           }
          ],
          "barpolar": [
           {
            "marker": {
             "line": {
              "color": "#E5ECF6",
              "width": 0.5
             },
             "pattern": {
              "fillmode": "overlay",
              "size": 10,
              "solidity": 0.2
             }
            },
            "type": "barpolar"
           }
          ],
          "carpet": [
           {
            "aaxis": {
             "endlinecolor": "#2a3f5f",
             "gridcolor": "white",
             "linecolor": "white",
             "minorgridcolor": "white",
             "startlinecolor": "#2a3f5f"
            },
            "baxis": {
             "endlinecolor": "#2a3f5f",
             "gridcolor": "white",
             "linecolor": "white",
             "minorgridcolor": "white",
             "startlinecolor": "#2a3f5f"
            },
            "type": "carpet"
           }
          ],
          "choropleth": [
           {
            "colorbar": {
             "outlinewidth": 0,
             "ticks": ""
            },
            "type": "choropleth"
           }
          ],
          "contour": [
           {
            "colorbar": {
             "outlinewidth": 0,
             "ticks": ""
            },
            "colorscale": [
             [
              0,
              "#0d0887"
             ],
             [
              0.1111111111111111,
              "#46039f"
             ],
             [
              0.2222222222222222,
              "#7201a8"
             ],
             [
              0.3333333333333333,
              "#9c179e"
             ],
             [
              0.4444444444444444,
              "#bd3786"
             ],
             [
              0.5555555555555556,
              "#d8576b"
             ],
             [
              0.6666666666666666,
              "#ed7953"
             ],
             [
              0.7777777777777778,
              "#fb9f3a"
             ],
             [
              0.8888888888888888,
              "#fdca26"
             ],
             [
              1,
              "#f0f921"
             ]
            ],
            "type": "contour"
           }
          ],
          "contourcarpet": [
           {
            "colorbar": {
             "outlinewidth": 0,
             "ticks": ""
            },
            "type": "contourcarpet"
           }
          ],
          "heatmap": [
           {
            "colorbar": {
             "outlinewidth": 0,
             "ticks": ""
            },
            "colorscale": [
             [
              0,
              "#0d0887"
             ],
             [
              0.1111111111111111,
              "#46039f"
             ],
             [
              0.2222222222222222,
              "#7201a8"
             ],
             [
              0.3333333333333333,
              "#9c179e"
             ],
             [
              0.4444444444444444,
              "#bd3786"
             ],
             [
              0.5555555555555556,
              "#d8576b"
             ],
             [
              0.6666666666666666,
              "#ed7953"
             ],
             [
              0.7777777777777778,
              "#fb9f3a"
             ],
             [
              0.8888888888888888,
              "#fdca26"
             ],
             [
              1,
              "#f0f921"
             ]
            ],
            "type": "heatmap"
           }
          ],
          "heatmapgl": [
           {
            "colorbar": {
             "outlinewidth": 0,
             "ticks": ""
            },
            "colorscale": [
             [
              0,
              "#0d0887"
             ],
             [
              0.1111111111111111,
              "#46039f"
             ],
             [
              0.2222222222222222,
              "#7201a8"
             ],
             [
              0.3333333333333333,
              "#9c179e"
             ],
             [
              0.4444444444444444,
              "#bd3786"
             ],
             [
              0.5555555555555556,
              "#d8576b"
             ],
             [
              0.6666666666666666,
              "#ed7953"
             ],
             [
              0.7777777777777778,
              "#fb9f3a"
             ],
             [
              0.8888888888888888,
              "#fdca26"
             ],
             [
              1,
              "#f0f921"
             ]
            ],
            "type": "heatmapgl"
           }
          ],
          "histogram": [
           {
            "marker": {
             "pattern": {
              "fillmode": "overlay",
              "size": 10,
              "solidity": 0.2
             }
            },
            "type": "histogram"
           }
          ],
          "histogram2d": [
           {
            "colorbar": {
             "outlinewidth": 0,
             "ticks": ""
            },
            "colorscale": [
             [
              0,
              "#0d0887"
             ],
             [
              0.1111111111111111,
              "#46039f"
             ],
             [
              0.2222222222222222,
              "#7201a8"
             ],
             [
              0.3333333333333333,
              "#9c179e"
             ],
             [
              0.4444444444444444,
              "#bd3786"
             ],
             [
              0.5555555555555556,
              "#d8576b"
             ],
             [
              0.6666666666666666,
              "#ed7953"
             ],
             [
              0.7777777777777778,
              "#fb9f3a"
             ],
             [
              0.8888888888888888,
              "#fdca26"
             ],
             [
              1,
              "#f0f921"
             ]
            ],
            "type": "histogram2d"
           }
          ],
          "histogram2dcontour": [
           {
            "colorbar": {
             "outlinewidth": 0,
             "ticks": ""
            },
            "colorscale": [
             [
              0,
              "#0d0887"
             ],
             [
              0.1111111111111111,
              "#46039f"
             ],
             [
              0.2222222222222222,
              "#7201a8"
             ],
             [
              0.3333333333333333,
              "#9c179e"
             ],
             [
              0.4444444444444444,
              "#bd3786"
             ],
             [
              0.5555555555555556,
              "#d8576b"
             ],
             [
              0.6666666666666666,
              "#ed7953"
             ],
             [
              0.7777777777777778,
              "#fb9f3a"
             ],
             [
              0.8888888888888888,
              "#fdca26"
             ],
             [
              1,
              "#f0f921"
             ]
            ],
            "type": "histogram2dcontour"
           }
          ],
          "mesh3d": [
           {
            "colorbar": {
             "outlinewidth": 0,
             "ticks": ""
            },
            "type": "mesh3d"
           }
          ],
          "parcoords": [
           {
            "line": {
             "colorbar": {
              "outlinewidth": 0,
              "ticks": ""
             }
            },
            "type": "parcoords"
           }
          ],
          "pie": [
           {
            "automargin": true,
            "type": "pie"
           }
          ],
          "scatter": [
           {
            "fillpattern": {
             "fillmode": "overlay",
             "size": 10,
             "solidity": 0.2
            },
            "type": "scatter"
           }
          ],
          "scatter3d": [
           {
            "line": {
             "colorbar": {
              "outlinewidth": 0,
              "ticks": ""
             }
            },
            "marker": {
             "colorbar": {
              "outlinewidth": 0,
              "ticks": ""
             }
            },
            "type": "scatter3d"
           }
          ],
          "scattercarpet": [
           {
            "marker": {
             "colorbar": {
              "outlinewidth": 0,
              "ticks": ""
             }
            },
            "type": "scattercarpet"
           }
          ],
          "scattergeo": [
           {
            "marker": {
             "colorbar": {
              "outlinewidth": 0,
              "ticks": ""
             }
            },
            "type": "scattergeo"
           }
          ],
          "scattergl": [
           {
            "marker": {
             "colorbar": {
              "outlinewidth": 0,
              "ticks": ""
             }
            },
            "type": "scattergl"
           }
          ],
          "scattermapbox": [
           {
            "marker": {
             "colorbar": {
              "outlinewidth": 0,
              "ticks": ""
             }
            },
            "type": "scattermapbox"
           }
          ],
          "scatterpolar": [
           {
            "marker": {
             "colorbar": {
              "outlinewidth": 0,
              "ticks": ""
             }
            },
            "type": "scatterpolar"
           }
          ],
          "scatterpolargl": [
           {
            "marker": {
             "colorbar": {
              "outlinewidth": 0,
              "ticks": ""
             }
            },
            "type": "scatterpolargl"
           }
          ],
          "scatterternary": [
           {
            "marker": {
             "colorbar": {
              "outlinewidth": 0,
              "ticks": ""
             }
            },
            "type": "scatterternary"
           }
          ],
          "surface": [
           {
            "colorbar": {
             "outlinewidth": 0,
             "ticks": ""
            },
            "colorscale": [
             [
              0,
              "#0d0887"
             ],
             [
              0.1111111111111111,
              "#46039f"
             ],
             [
              0.2222222222222222,
              "#7201a8"
             ],
             [
              0.3333333333333333,
              "#9c179e"
             ],
             [
              0.4444444444444444,
              "#bd3786"
             ],
             [
              0.5555555555555556,
              "#d8576b"
             ],
             [
              0.6666666666666666,
              "#ed7953"
             ],
             [
              0.7777777777777778,
              "#fb9f3a"
             ],
             [
              0.8888888888888888,
              "#fdca26"
             ],
             [
              1,
              "#f0f921"
             ]
            ],
            "type": "surface"
           }
          ],
          "table": [
           {
            "cells": {
             "fill": {
              "color": "#EBF0F8"
             },
             "line": {
              "color": "white"
             }
            },
            "header": {
             "fill": {
              "color": "#C8D4E3"
             },
             "line": {
              "color": "white"
             }
            },
            "type": "table"
           }
          ]
         },
         "layout": {
          "annotationdefaults": {
           "arrowcolor": "#2a3f5f",
           "arrowhead": 0,
           "arrowwidth": 1
          },
          "autotypenumbers": "strict",
          "coloraxis": {
           "colorbar": {
            "outlinewidth": 0,
            "ticks": ""
           }
          },
          "colorscale": {
           "diverging": [
            [
             0,
             "#8e0152"
            ],
            [
             0.1,
             "#c51b7d"
            ],
            [
             0.2,
             "#de77ae"
            ],
            [
             0.3,
             "#f1b6da"
            ],
            [
             0.4,
             "#fde0ef"
            ],
            [
             0.5,
             "#f7f7f7"
            ],
            [
             0.6,
             "#e6f5d0"
            ],
            [
             0.7,
             "#b8e186"
            ],
            [
             0.8,
             "#7fbc41"
            ],
            [
             0.9,
             "#4d9221"
            ],
            [
             1,
             "#276419"
            ]
           ],
           "sequential": [
            [
             0,
             "#0d0887"
            ],
            [
             0.1111111111111111,
             "#46039f"
            ],
            [
             0.2222222222222222,
             "#7201a8"
            ],
            [
             0.3333333333333333,
             "#9c179e"
            ],
            [
             0.4444444444444444,
             "#bd3786"
            ],
            [
             0.5555555555555556,
             "#d8576b"
            ],
            [
             0.6666666666666666,
             "#ed7953"
            ],
            [
             0.7777777777777778,
             "#fb9f3a"
            ],
            [
             0.8888888888888888,
             "#fdca26"
            ],
            [
             1,
             "#f0f921"
            ]
           ],
           "sequentialminus": [
            [
             0,
             "#0d0887"
            ],
            [
             0.1111111111111111,
             "#46039f"
            ],
            [
             0.2222222222222222,
             "#7201a8"
            ],
            [
             0.3333333333333333,
             "#9c179e"
            ],
            [
             0.4444444444444444,
             "#bd3786"
            ],
            [
             0.5555555555555556,
             "#d8576b"
            ],
            [
             0.6666666666666666,
             "#ed7953"
            ],
            [
             0.7777777777777778,
             "#fb9f3a"
            ],
            [
             0.8888888888888888,
             "#fdca26"
            ],
            [
             1,
             "#f0f921"
            ]
           ]
          },
          "colorway": [
           "#636efa",
           "#EF553B",
           "#00cc96",
           "#ab63fa",
           "#FFA15A",
           "#19d3f3",
           "#FF6692",
           "#B6E880",
           "#FF97FF",
           "#FECB52"
          ],
          "font": {
           "color": "#2a3f5f"
          },
          "geo": {
           "bgcolor": "white",
           "lakecolor": "white",
           "landcolor": "#E5ECF6",
           "showlakes": true,
           "showland": true,
           "subunitcolor": "white"
          },
          "hoverlabel": {
           "align": "left"
          },
          "hovermode": "closest",
          "mapbox": {
           "style": "light"
          },
          "paper_bgcolor": "white",
          "plot_bgcolor": "#E5ECF6",
          "polar": {
           "angularaxis": {
            "gridcolor": "white",
            "linecolor": "white",
            "ticks": ""
           },
           "bgcolor": "#E5ECF6",
           "radialaxis": {
            "gridcolor": "white",
            "linecolor": "white",
            "ticks": ""
           }
          },
          "scene": {
           "xaxis": {
            "backgroundcolor": "#E5ECF6",
            "gridcolor": "white",
            "gridwidth": 2,
            "linecolor": "white",
            "showbackground": true,
            "ticks": "",
            "zerolinecolor": "white"
           },
           "yaxis": {
            "backgroundcolor": "#E5ECF6",
            "gridcolor": "white",
            "gridwidth": 2,
            "linecolor": "white",
            "showbackground": true,
            "ticks": "",
            "zerolinecolor": "white"
           },
           "zaxis": {
            "backgroundcolor": "#E5ECF6",
            "gridcolor": "white",
            "gridwidth": 2,
            "linecolor": "white",
            "showbackground": true,
            "ticks": "",
            "zerolinecolor": "white"
           }
          },
          "shapedefaults": {
           "line": {
            "color": "#2a3f5f"
           }
          },
          "ternary": {
           "aaxis": {
            "gridcolor": "white",
            "linecolor": "white",
            "ticks": ""
           },
           "baxis": {
            "gridcolor": "white",
            "linecolor": "white",
            "ticks": ""
           },
           "bgcolor": "#E5ECF6",
           "caxis": {
            "gridcolor": "white",
            "linecolor": "white",
            "ticks": ""
           }
          },
          "title": {
           "x": 0.05
          },
          "xaxis": {
           "automargin": true,
           "gridcolor": "white",
           "linecolor": "white",
           "ticks": "",
           "title": {
            "standoff": 15
           },
           "zerolinecolor": "white",
           "zerolinewidth": 2
          },
          "yaxis": {
           "automargin": true,
           "gridcolor": "white",
           "linecolor": "white",
           "ticks": "",
           "title": {
            "standoff": 15
           },
           "zerolinecolor": "white",
           "zerolinewidth": 2
          }
         }
        },
        "title": {
         "text": "AEP Load - Outlier Period (July 25-26, 2005)"
        },
        "xaxis": {
         "anchor": "y",
         "autorange": true,
         "domain": [
          0,
          1
         ],
         "range": [
          "2005-07-25",
          "2005-07-26 23:00"
         ],
         "title": {
          "text": "Date"
         },
         "type": "date"
        },
        "yaxis": {
         "anchor": "x",
         "autorange": true,
         "domain": [
          0,
          1
         ],
         "range": [
          14177.222222222223,
          24532.777777777777
         ],
         "title": {
          "text": "Load (MW)"
         },
         "type": "linear"
        }
       }
      },
      "image/png": "[encoded data removed]",
      "text/html": [
       "<div>                            <div id=\"aeb68dc5-3556-40d3-b62d-b0d5f7a3608b\" class=\"plotly-graph-div\" style=\"height:525px; width:100%;\"></div>            <script type=\"text/javascript\">                require([\"plotly\"], function(Plotly) {                    window.PLOTLYENV=window.PLOTLYENV || {};                                    if (document.getElementById(\"aeb68dc5-3556-40d3-b62d-b0d5f7a3608b\")) {                    Plotly.newPlot(                        \"aeb68dc5-3556-40d3-b62d-b0d5f7a3608b\",                        [{\"hovertemplate\":\"Date=%{x}\\u003cbr\\u003eLoad (MW)=%{y}\\u003cextra\\u003e\\u003c\\u002fextra\\u003e\",\"legendgroup\":\"\",\"line\":{\"color\":\"#636efa\",\"dash\":\"solid\"},\"marker\":{\"symbol\":\"circle\"},\"mode\":\"lines\",\"name\":\"\",\"orientation\":\"v\",\"showlegend\":false,\"x\":[\"2005-07-25T00:00:00\",\"2005-07-25T01:00:00\",\"2005-07-25T02:00:00\",\"2005-07-25T03:00:00\",\"2005-07-25T04:00:00\",\"2005-07-25T05:00:00\",\"2005-07-25T06:00:00\",\"2005-07-25T07:00:00\",\"2005-07-25T08:00:00\",\"2005-07-25T09:00:00\",\"2005-07-25T10:00:00\",\"2005-07-25T11:00:00\",\"2005-07-25T12:00:00\",\"2005-07-25T13:00:00\",\"2005-07-25T14:00:00\",\"2005-07-25T15:00:00\",\"2005-07-25T16:00:00\",\"2005-07-25T17:00:00\",\"2005-07-25T18:00:00\",\"2005-07-25T19:00:00\",\"2005-07-25T20:00:00\",\"2005-07-25T21:00:00\",\"2005-07-25T22:00:00\",\"2005-07-25T23:00:00\",\"2005-07-26T00:00:00\",\"2005-07-26T01:00:00\",\"2005-07-26T02:00:00\",\"2005-07-26T03:00:00\",\"2005-07-26T04:00:00\",\"2005-07-26T05:00:00\",\"2005-07-26T06:00:00\",\"2005-07-26T07:00:00\",\"2005-07-26T08:00:00\",\"2005-07-26T09:00:00\",\"2005-07-26T10:00:00\",\"2005-07-26T11:00:00\",\"2005-07-26T12:00:00\",\"2005-07-26T13:00:00\",\"2005-07-26T14:00:00\",\"2005-07-26T15:00:00\",\"2005-07-26T16:00:00\",\"2005-07-26T17:00:00\",\"2005-07-26T18:00:00\",\"2005-07-26T19:00:00\",\"2005-07-26T20:00:00\",\"2005-07-26T21:00:00\",\"2005-07-26T22:00:00\",\"2005-07-26T23:00:00\"],\"xaxis\":\"x\",\"y\":[17828.0,16572.0,15778.0,15248.0,14907.0,14883.0,15408.0,16224.0,17252.0,18774.0,20199.0,21489.0,22363.0,23022.0,23558.0,23741.0,22942.0,22455.0,22107.0,21808.0,21317.0,21003.0,20801.0,19724.0,18105.0,16753.0,15709.0,15161.0,14732.0,14695.0,15039.0,15772.0,16847.0,18191.0,19649.0,21014.0,22058.0,22922.0,23470.0,23860.0,24015.0,23708.0,23543.0,22910.0,22483.0,21982.0,21789.0,20465.0],\"yaxis\":\"y\",\"type\":\"scatter\"}],                        {\"template\":{\"data\":{\"histogram2dcontour\":[{\"type\":\"histogram2dcontour\",\"colorbar\":{\"outlinewidth\":0,\"ticks\":\"\"},\"colorscale\":[[0.0,\"#0d0887\"],[0.1111111111111111,\"#46039f\"],[0.2222222222222222,\"#7201a8\"],[0.3333333333333333,\"#9c179e\"],[0.4444444444444444,\"#bd3786\"],[0.5555555555555556,\"#d8576b\"],[0.6666666666666666,\"#ed7953\"],[0.7777777777777778,\"#fb9f3a\"],[0.8888888888888888,\"#fdca26\"],[1.0,\"#f0f921\"]]}],\"choropleth\":[{\"type\":\"choropleth\",\"colorbar\":{\"outlinewidth\":0,\"ticks\":\"\"}}],\"histogram2d\":[{\"type\":\"histogram2d\",\"colorbar\":{\"outlinewidth\":0,\"ticks\":\"\"},\"colorscale\":[[0.0,\"#0d0887\"],[0.1111111111111111,\"#46039f\"],[0.2222222222222222,\"#7201a8\"],[0.3333333333333333,\"#9c179e\"],[0.4444444444444444,\"#bd3786\"],[0.5555555555555556,\"#d8576b\"],[0.6666666666666666,\"#ed7953\"],[0.7777777777777778,\"#fb9f3a\"],[0.8888888888888888,\"#fdca26\"],[1.0,\"#f0f921\"]]}],\"heatmap\":[{\"type\":\"heatmap\",\"colorbar\":{\"outlinewidth\":0,\"ticks\":\"\"},\"colorscale\":[[0.0,\"#0d0887\"],[0.1111111111111111,\"#46039f\"],[0.2222222222222222,\"#7201a8\"],[0.3333333333333333,\"#9c179e\"],[0.4444444444444444,\"#bd3786\"],[0.5555555555555556,\"#d8576b\"],[0.6666666666666666,\"#ed7953\"],[0.7777777777777778,\"#fb9f3a\"],[0.8888888888888888,\"#fdca26\"],[1.0,\"#f0f921\"]]}],\"heatmapgl\":[{\"type\":\"heatmapgl\",\"colorbar\":{\"outlinewidth\":0,\"ticks\":\"\"},\"colorscale\":[[0.0,\"#0d0887\"],[0.1111111111111111,\"#46039f\"],[0.2222222222222222,\"#7201a8\"],[0.3333333333333333,\"#9c179e\"],[0.4444444444444444,\"#bd3786\"],[0.5555555555555556,\"#d8576b\"],[0.6666666666666666,\"#ed7953\"],[0.7777777777777778,\"#fb9f3a\"],[0.8888888888888888,\"#fdca26\"],[1.0,\"#f0f921\"]]}],\"contourcarpet\":[{\"type\":\"contourcarpet\",\"colorbar\":{\"outlinewidth\":0,\"ticks\":\"\"}}],\"contour\":[{\"type\":\"contour\",\"colorbar\":{\"outlinewidth\":0,\"ticks\":\"\"},\"colorscale\":[[0.0,\"#0d0887\"],[0.1111111111111111,\"#46039f\"],[0.2222222222222222,\"#7201a8\"],[0.3333333333333333,\"#9c179e\"],[0.4444444444444444,\"#bd3786\"],[0.5555555555555556,\"#d8576b\"],[0.6666666666666666,\"#ed7953\"],[0.7777777777777778,\"#fb9f3a\"],[0.8888888888888888,\"#fdca26\"],[1.0,\"#f0f921\"]]}],\"surface\":[{\"type\":\"surface\",\"colorbar\":{\"outlinewidth\":0,\"ticks\":\"\"},\"colorscale\":[[0.0,\"#0d0887\"],[0.1111111111111111,\"#46039f\"],[0.2222222222222222,\"#7201a8\"],[0.3333333333333333,\"#9c179e\"],[0.4444444444444444,\"#bd3786\"],[0.5555555555555556,\"#d8576b\"],[0.6666666666666666,\"#ed7953\"],[0.7777777777777778,\"#fb9f3a\"],[0.8888888888888888,\"#fdca26\"],[1.0,\"#f0f921\"]]}],\"mesh3d\":[{\"type\":\"mesh3d\",\"colorbar\":{\"outlinewidth\":0,\"ticks\":\"\"}}],\"scatter\":[{\"fillpattern\":{\"fillmode\":\"overlay\",\"size\":10,\"solidity\":0.2},\"type\":\"scatter\"}],\"parcoords\":[{\"type\":\"parcoords\",\"line\":{\"colorbar\":{\"outlinewidth\":0,\"ticks\":\"\"}}}],\"scatterpolargl\":[{\"type\":\"scatterpolargl\",\"marker\":{\"colorbar\":{\"outlinewidth\":0,\"ticks\":\"\"}}}],\"bar\":[{\"error_x\":{\"color\":\"#2a3f5f\"},\"error_y\":{\"color\":\"#2a3f5f\"},\"marker\":{\"line\":{\"color\":\"#E5ECF6\",\"width\":0.5},\"pattern\":{\"fillmode\":\"overlay\",\"size\":10,\"solidity\":0.2}},\"type\":\"bar\"}],\"scattergeo\":[{\"type\":\"scattergeo\",\"marker\":{\"colorbar\":{\"outlinewidth\":0,\"ticks\":\"\"}}}],\"scatterpolar\":[{\"type\":\"scatterpolar\",\"marker\":{\"colorbar\":{\"outlinewidth\":0,\"ticks\":\"\"}}}],\"histogram\":[{\"marker\":{\"pattern\":{\"fillmode\":\"overlay\",\"size\":10,\"solidity\":0.2}},\"type\":\"histogram\"}],\"scattergl\":[{\"type\":\"scattergl\",\"marker\":{\"colorbar\":{\"outlinewidth\":0,\"ticks\":\"\"}}}],\"scatter3d\":[{\"type\":\"scatter3d\",\"line\":{\"colorbar\":{\"outlinewidth\":0,\"ticks\":\"\"}},\"marker\":{\"colorbar\":{\"outlinewidth\":0,\"ticks\":\"\"}}}],\"scattermapbox\":[{\"type\":\"scattermapbox\",\"marker\":{\"colorbar\":{\"outlinewidth\":0,\"ticks\":\"\"}}}],\"scatterternary\":[{\"type\":\"scatterternary\",\"marker\":{\"colorbar\":{\"outlinewidth\":0,\"ticks\":\"\"}}}],\"scattercarpet\":[{\"type\":\"scattercarpet\",\"marker\":{\"colorbar\":{\"outlinewidth\":0,\"ticks\":\"\"}}}],\"carpet\":[{\"aaxis\":{\"endlinecolor\":\"#2a3f5f\",\"gridcolor\":\"white\",\"linecolor\":\"white\",\"minorgridcolor\":\"white\",\"startlinecolor\":\"#2a3f5f\"},\"baxis\":{\"endlinecolor\":\"#2a3f5f\",\"gridcolor\":\"white\",\"linecolor\":\"white\",\"minorgridcolor\":\"white\",\"startlinecolor\":\"#2a3f5f\"},\"type\":\"carpet\"}],\"table\":[{\"cells\":{\"fill\":{\"color\":\"#EBF0F8\"},\"line\":{\"color\":\"white\"}},\"header\":{\"fill\":{\"color\":\"#C8D4E3\"},\"line\":{\"color\":\"white\"}},\"type\":\"table\"}],\"barpolar\":[{\"marker\":{\"line\":{\"color\":\"#E5ECF6\",\"width\":0.5},\"pattern\":{\"fillmode\":\"overlay\",\"size\":10,\"solidity\":0.2}},\"type\":\"barpolar\"}],\"pie\":[{\"automargin\":true,\"type\":\"pie\"}]},\"layout\":{\"autotypenumbers\":\"strict\",\"colorway\":[\"#636efa\",\"#EF553B\",\"#00cc96\",\"#ab63fa\",\"#FFA15A\",\"#19d3f3\",\"#FF6692\",\"#B6E880\",\"#FF97FF\",\"#FECB52\"],\"font\":{\"color\":\"#2a3f5f\"},\"hovermode\":\"closest\",\"hoverlabel\":{\"align\":\"left\"},\"paper_bgcolor\":\"white\",\"plot_bgcolor\":\"#E5ECF6\",\"polar\":{\"bgcolor\":\"#E5ECF6\",\"angularaxis\":{\"gridcolor\":\"white\",\"linecolor\":\"white\",\"ticks\":\"\"},\"radialaxis\":{\"gridcolor\":\"white\",\"linecolor\":\"white\",\"ticks\":\"\"}},\"ternary\":{\"bgcolor\":\"#E5ECF6\",\"aaxis\":{\"gridcolor\":\"white\",\"linecolor\":\"white\",\"ticks\":\"\"},\"baxis\":{\"gridcolor\":\"white\",\"linecolor\":\"white\",\"ticks\":\"\"},\"caxis\":{\"gridcolor\":\"white\",\"linecolor\":\"white\",\"ticks\":\"\"}},\"coloraxis\":{\"colorbar\":{\"outlinewidth\":0,\"ticks\":\"\"}},\"colorscale\":{\"sequential\":[[0.0,\"#0d0887\"],[0.1111111111111111,\"#46039f\"],[0.2222222222222222,\"#7201a8\"],[0.3333333333333333,\"#9c179e\"],[0.4444444444444444,\"#bd3786\"],[0.5555555555555556,\"#d8576b\"],[0.6666666666666666,\"#ed7953\"],[0.7777777777777778,\"#fb9f3a\"],[0.8888888888888888,\"#fdca26\"],[1.0,\"#f0f921\"]],\"sequentialminus\":[[0.0,\"#0d0887\"],[0.1111111111111111,\"#46039f\"],[0.2222222222222222,\"#7201a8\"],[0.3333333333333333,\"#9c179e\"],[0.4444444444444444,\"#bd3786\"],[0.5555555555555556,\"#d8576b\"],[0.6666666666666666,\"#ed7953\"],[0.7777777777777778,\"#fb9f3a\"],[0.8888888888888888,\"#fdca26\"],[1.0,\"#f0f921\"]],\"diverging\":[[0,\"#8e0152\"],[0.1,\"#c51b7d\"],[0.2,\"#de77ae\"],[0.3,\"#f1b6da\"],[0.4,\"#fde0ef\"],[0.5,\"#f7f7f7\"],[0.6,\"#e6f5d0\"],[0.7,\"#b8e186\"],[0.8,\"#7fbc41\"],[0.9,\"#4d9221\"],[1,\"#276419\"]]},\"xaxis\":{\"gridcolor\":\"white\",\"linecolor\":\"white\",\"ticks\":\"\",\"title\":{\"standoff\":15},\"zerolinecolor\":\"white\",\"automargin\":true,\"zerolinewidth\":2},\"yaxis\":{\"gridcolor\":\"white\",\"linecolor\":\"white\",\"ticks\":\"\",\"title\":{\"standoff\":15},\"zerolinecolor\":\"white\",\"automargin\":true,\"zerolinewidth\":2},\"scene\":{\"xaxis\":{\"backgroundcolor\":\"#E5ECF6\",\"gridcolor\":\"white\",\"linecolor\":\"white\",\"showbackground\":true,\"ticks\":\"\",\"zerolinecolor\":\"white\",\"gridwidth\":2},\"yaxis\":{\"backgroundcolor\":\"#E5ECF6\",\"gridcolor\":\"white\",\"linecolor\":\"white\",\"showbackground\":true,\"ticks\":\"\",\"zerolinecolor\":\"white\",\"gridwidth\":2},\"zaxis\":{\"backgroundcolor\":\"#E5ECF6\",\"gridcolor\":\"white\",\"linecolor\":\"white\",\"showbackground\":true,\"ticks\":\"\",\"zerolinecolor\":\"white\",\"gridwidth\":2}},\"shapedefaults\":{\"line\":{\"color\":\"#2a3f5f\"}},\"annotationdefaults\":{\"arrowcolor\":\"#2a3f5f\",\"arrowhead\":0,\"arrowwidth\":1},\"geo\":{\"bgcolor\":\"white\",\"landcolor\":\"#E5ECF6\",\"subunitcolor\":\"white\",\"showland\":true,\"showlakes\":true,\"lakecolor\":\"white\"},\"title\":{\"x\":0.05},\"mapbox\":{\"style\":\"light\"}}},\"xaxis\":{\"anchor\":\"y\",\"domain\":[0.0,1.0],\"title\":{\"text\":\"Date\"}},\"yaxis\":{\"anchor\":\"x\",\"domain\":[0.0,1.0],\"title\":{\"text\":\"Load (MW)\"}},\"legend\":{\"tracegroupgap\":0},\"title\":{\"text\":\"AEP Load - Outlier Period (July 25-26, 2005)\"},\"showlegend\":true},                        {\"responsive\": true}                    ).then(function(){\n",
       "                            \n",
       "var gd = document.getElementById('aeb68dc5-3556-40d3-b62d-b0d5f7a3608b');\n",
       "var x = new MutationObserver(function (mutations, observer) {{\n",
       "        var display = window.getComputedStyle(gd).display;\n",
       "        if (!display || display === 'none') {{\n",
       "            console.log([gd, 'removed!']);\n",
       "            Plotly.purge(gd);\n",
       "            observer.disconnect();\n",
       "        }}\n",
       "}});\n",
       "\n",
       "// Listen for the removal of the full notebook cells\n",
       "var notebookContainer = gd.closest('#notebook-container');\n",
       "if (notebookContainer) {{\n",
       "    x.observe(notebookContainer, {childList: true});\n",
       "}}\n",
       "\n",
       "// Listen for the clearing of the current output cell\n",
       "var outputEl = gd.closest('.output');\n",
       "if (outputEl) {{\n",
       "    x.observe(outputEl, {childList: true});\n",
       "}}\n",
       "\n",
       "                        })                };                });            </script>        </div>"
      ]
     },
     "metadata": {},
     "output_type": "display_data"
    }
   ],
   "source": [
    "# Plot: Zoom into outlier period (July 25-26, 2005)\n",
    "outlier_data = df['2005-07-25':'2005-07-26'].reset_index()\n",
    "fig4 = px.line(outlier_data, x='Datetime', y='AEP_MW', title='AEP Load - Outlier Period (July 25-26, 2005)',\n",
    "               labels={'AEP_MW': 'Load (MW)', 'Datetime': 'Date'})\n",
    "fig4.update_layout(showlegend=True)\n",
    "outlier_plot_html = os.path.join(PLOT_DIR, 'outlier_july_2005.html')\n",
    "fig4.write_html(outlier_plot_html)\n",
    "\n",
    "fig4.show()"
   ]
  },
  {
   "cell_type": "code",
   "execution_count": null,
   "id": "ac51b065-322e-4a02-9339-b6a4dffeabec",
   "metadata": {},
   "outputs": [],
   "source": [
    "Inference: The electricity load exhibits clear seasonal patterns, \n",
    "with higher peaks in summer (e.g., 2005, 2010) and winter, likely due to increased demand from air conditioning and heating, \n",
    "and lower loads in spring/fall, indicating milder weather conditions."
   ]
  },
  {
   "cell_type": "code",
   "execution_count": 5,
   "id": "670d67d0-c5e4-428f-9ead-04d7cb138a68",
   "metadata": {},
   "outputs": [
    {
     "data": {
      "application/vnd.plotly.v1+json": {
       "config": {
        "plotlyServerURL": "https://plot.ly"
       },
       "data": [
        {
         "hovertemplate": "Date=%{x}<br>Load (MW)=%{y}<extra></extra>",
         "legendgroup": "",
         "line": {
          "color": "#636efa",
          "dash": "solid"
         },
         "marker": {
          "symbol": "circle"
         },
         "mode": "lines",
         "name": "",
         "orientation": "v",
         "showlegend": false,
         "type": "scatter",
         "x": [
          "2005-01-01T00:00:00",
          "2005-01-01T01:00:00",
          "2005-01-01T02:00:00",
          "2005-01-01T03:00:00",
          "2005-01-01T04:00:00",
          "2005-01-01T05:00:00",
          "2005-01-01T06:00:00",
          "2005-01-01T07:00:00",
          "2005-01-01T08:00:00",
          "2005-01-01T09:00:00",
          "2005-01-01T10:00:00",
          "2005-01-01T11:00:00",
          "2005-01-01T12:00:00",
          "2005-01-01T13:00:00",
          "2005-01-01T14:00:00",
          "2005-01-01T15:00:00",
          "2005-01-01T16:00:00",
          "2005-01-01T17:00:00",
          "2005-01-01T18:00:00",
          "2005-01-01T19:00:00",
          "2005-01-01T20:00:00",
          "2005-01-01T21:00:00",
          "2005-01-01T22:00:00",
          "2005-01-01T23:00:00",
          "2005-01-02T00:00:00",
          "2005-01-02T01:00:00",
          "2005-01-02T02:00:00",
          "2005-01-02T03:00:00",
          "2005-01-02T04:00:00",
          "2005-01-02T05:00:00",
          "2005-01-02T06:00:00",
          "2005-01-02T07:00:00",
          "2005-01-02T08:00:00",
          "2005-01-02T09:00:00",
          "2005-01-02T10:00:00",
          "2005-01-02T11:00:00",
          "2005-01-02T12:00:00",
          "2005-01-02T13:00:00",
          "2005-01-02T14:00:00",
          "2005-01-02T15:00:00",
          "2005-01-02T16:00:00",
          "2005-01-02T17:00:00",
          "2005-01-02T18:00:00",
          "2005-01-02T19:00:00",
          "2005-01-02T20:00:00",
          "2005-01-02T21:00:00",
          "2005-01-02T22:00:00",
          "2005-01-02T23:00:00",
          "2005-01-03T00:00:00",
          "2005-01-03T01:00:00",
          "2005-01-03T02:00:00",
          "2005-01-03T03:00:00",
          "2005-01-03T04:00:00",
          "2005-01-03T05:00:00",
          "2005-01-03T06:00:00",
          "2005-01-03T07:00:00",
          "2005-01-03T08:00:00",
          "2005-01-03T09:00:00",
          "2005-01-03T10:00:00",
          "2005-01-03T11:00:00",
          "2005-01-03T12:00:00",
          "2005-01-03T13:00:00",
          "2005-01-03T14:00:00",
          "2005-01-03T15:00:00",
          "2005-01-03T16:00:00",
          "2005-01-03T17:00:00",
          "2005-01-03T18:00:00",
          "2005-01-03T19:00:00",
          "2005-01-03T20:00:00",
          "2005-01-03T21:00:00",
          "2005-01-03T22:00:00",
          "2005-01-03T23:00:00",
          "2005-01-04T00:00:00",
          "2005-01-04T01:00:00",
          "2005-01-04T02:00:00",
          "2005-01-04T03:00:00",
          "2005-01-04T04:00:00",
          "2005-01-04T05:00:00",
          "2005-01-04T06:00:00",
          "2005-01-04T07:00:00",
          "2005-01-04T08:00:00",
          "2005-01-04T09:00:00",
          "2005-01-04T10:00:00",
          "2005-01-04T11:00:00",
          "2005-01-04T12:00:00",
          "2005-01-04T13:00:00",
          "2005-01-04T14:00:00",
          "2005-01-04T15:00:00",
          "2005-01-04T16:00:00",
          "2005-01-04T17:00:00",
          "2005-01-04T18:00:00",
          "2005-01-04T19:00:00",
          "2005-01-04T20:00:00",
          "2005-01-04T21:00:00",
          "2005-01-04T22:00:00",
          "2005-01-04T23:00:00",
          "2005-01-05T00:00:00",
          "2005-01-05T01:00:00",
          "2005-01-05T02:00:00",
          "2005-01-05T03:00:00",
          "2005-01-05T04:00:00",
          "2005-01-05T05:00:00",
          "2005-01-05T06:00:00",
          "2005-01-05T07:00:00",
          "2005-01-05T08:00:00",
          "2005-01-05T09:00:00",
          "2005-01-05T10:00:00",
          "2005-01-05T11:00:00",
          "2005-01-05T12:00:00",
          "2005-01-05T13:00:00",
          "2005-01-05T14:00:00",
          "2005-01-05T15:00:00",
          "2005-01-05T16:00:00",
          "2005-01-05T17:00:00",
          "2005-01-05T18:00:00",
          "2005-01-05T19:00:00",
          "2005-01-05T20:00:00",
          "2005-01-05T21:00:00",
          "2005-01-05T22:00:00",
          "2005-01-05T23:00:00",
          "2005-01-06T00:00:00",
          "2005-01-06T01:00:00",
          "2005-01-06T02:00:00",
          "2005-01-06T03:00:00",
          "2005-01-06T04:00:00",
          "2005-01-06T05:00:00",
          "2005-01-06T06:00:00",
          "2005-01-06T07:00:00",
          "2005-01-06T08:00:00",
          "2005-01-06T09:00:00",
          "2005-01-06T10:00:00",
          "2005-01-06T11:00:00",
          "2005-01-06T12:00:00",
          "2005-01-06T13:00:00",
          "2005-01-06T14:00:00",
          "2005-01-06T15:00:00",
          "2005-01-06T16:00:00",
          "2005-01-06T17:00:00",
          "2005-01-06T18:00:00",
          "2005-01-06T19:00:00",
          "2005-01-06T20:00:00",
          "2005-01-06T21:00:00",
          "2005-01-06T22:00:00",
          "2005-01-06T23:00:00",
          "2005-01-07T00:00:00",
          "2005-01-07T01:00:00",
          "2005-01-07T02:00:00",
          "2005-01-07T03:00:00",
          "2005-01-07T04:00:00",
          "2005-01-07T05:00:00",
          "2005-01-07T06:00:00",
          "2005-01-07T07:00:00",
          "2005-01-07T08:00:00",
          "2005-01-07T09:00:00",
          "2005-01-07T10:00:00",
          "2005-01-07T11:00:00",
          "2005-01-07T12:00:00",
          "2005-01-07T13:00:00",
          "2005-01-07T14:00:00",
          "2005-01-07T15:00:00",
          "2005-01-07T16:00:00",
          "2005-01-07T17:00:00",
          "2005-01-07T18:00:00",
          "2005-01-07T19:00:00",
          "2005-01-07T20:00:00",
          "2005-01-07T21:00:00",
          "2005-01-07T22:00:00",
          "2005-01-07T23:00:00"
         ],
         "xaxis": "x",
         "y": [
          12892,
          12316,
          11890,
          11579,
          11461,
          11472,
          11571,
          11898,
          12209,
          12396,
          12997,
          13455,
          13617,
          13665,
          13446,
          13340,
          13159,
          13449,
          14319,
          14536,
          14454,
          14248,
          13970,
          13558,
          12849,
          12291,
          11917,
          11681,
          11613,
          11685,
          11936,
          12342,
          12986,
          13485,
          13909,
          13840,
          13914,
          13991,
          13885,
          13818,
          13695,
          14026,
          15073,
          15269,
          15265,
          14916,
          14521,
          13805,
          13080,
          12566,
          12312,
          12179,
          12210,
          12610,
          13342,
          15021,
          16101,
          16225,
          16291,
          16440,
          16308,
          16242,
          16111,
          15992,
          15974,
          16098,
          16829,
          17097,
          16938,
          16638,
          16148,
          15185,
          14163,
          13421,
          12939,
          12764,
          12645,
          12942,
          13785,
          15375,
          16570,
          16474,
          16408,
          16494,
          16599,
          16428,
          16440,
          16266,
          16094,
          16471,
          17173,
          17434,
          17282,
          17120,
          16840,
          15876,
          14781,
          13994,
          13619,
          13369,
          13373,
          13599,
          14436,
          16068,
          17101,
          17132,
          17237,
          17398,
          17420,
          17450,
          17294,
          17184,
          16942,
          17262,
          17872,
          18061,
          17860,
          17394,
          16783,
          15816,
          14860,
          13813,
          13444,
          13136,
          13027,
          13251,
          13984,
          15342,
          16169,
          16065,
          16109,
          16205,
          16269,
          16194,
          16223,
          16081,
          15977,
          16309,
          17041,
          17492,
          17446,
          17342,
          17028,
          16044,
          15106,
          14471,
          14107,
          13946,
          13961,
          14198,
          15011,
          16459,
          17368,
          17339,
          17303,
          17377,
          17236,
          17117,
          16911,
          16769,
          16553,
          16692,
          17372,
          17474,
          17188,
          17039,
          16738,
          15944
         ],
         "yaxis": "y"
        }
       ],
       "layout": {
        "autosize": true,
        "legend": {
         "tracegroupgap": 0
        },
        "showlegend": true,
        "template": {
         "data": {
          "bar": [
           {
            "error_x": {
             "color": "#2a3f5f"
            },
            "error_y": {
             "color": "#2a3f5f"
            },
            "marker": {
             "line": {
              "color": "#E5ECF6",
              "width": 0.5
             },
             "pattern": {
              "fillmode": "overlay",
              "size": 10,
              "solidity": 0.2
             }
            },
            "type": "bar"
           }
          ],
          "barpolar": [
           {
            "marker": {
             "line": {
              "color": "#E5ECF6",
              "width": 0.5
             },
             "pattern": {
              "fillmode": "overlay",
              "size": 10,
              "solidity": 0.2
             }
            },
            "type": "barpolar"
           }
          ],
          "carpet": [
           {
            "aaxis": {
             "endlinecolor": "#2a3f5f",
             "gridcolor": "white",
             "linecolor": "white",
             "minorgridcolor": "white",
             "startlinecolor": "#2a3f5f"
            },
            "baxis": {
             "endlinecolor": "#2a3f5f",
             "gridcolor": "white",
             "linecolor": "white",
             "minorgridcolor": "white",
             "startlinecolor": "#2a3f5f"
            },
            "type": "carpet"
           }
          ],
          "choropleth": [
           {
            "colorbar": {
             "outlinewidth": 0,
             "ticks": ""
            },
            "type": "choropleth"
           }
          ],
          "contour": [
           {
            "colorbar": {
             "outlinewidth": 0,
             "ticks": ""
            },
            "colorscale": [
             [
              0,
              "#0d0887"
             ],
             [
              0.1111111111111111,
              "#46039f"
             ],
             [
              0.2222222222222222,
              "#7201a8"
             ],
             [
              0.3333333333333333,
              "#9c179e"
             ],
             [
              0.4444444444444444,
              "#bd3786"
             ],
             [
              0.5555555555555556,
              "#d8576b"
             ],
             [
              0.6666666666666666,
              "#ed7953"
             ],
             [
              0.7777777777777778,
              "#fb9f3a"
             ],
             [
              0.8888888888888888,
              "#fdca26"
             ],
             [
              1,
              "#f0f921"
             ]
            ],
            "type": "contour"
           }
          ],
          "contourcarpet": [
           {
            "colorbar": {
             "outlinewidth": 0,
             "ticks": ""
            },
            "type": "contourcarpet"
           }
          ],
          "heatmap": [
           {
            "colorbar": {
             "outlinewidth": 0,
             "ticks": ""
            },
            "colorscale": [
             [
              0,
              "#0d0887"
             ],
             [
              0.1111111111111111,
              "#46039f"
             ],
             [
              0.2222222222222222,
              "#7201a8"
             ],
             [
              0.3333333333333333,
              "#9c179e"
             ],
             [
              0.4444444444444444,
              "#bd3786"
             ],
             [
              0.5555555555555556,
              "#d8576b"
             ],
             [
              0.6666666666666666,
              "#ed7953"
             ],
             [
              0.7777777777777778,
              "#fb9f3a"
             ],
             [
              0.8888888888888888,
              "#fdca26"
             ],
             [
              1,
              "#f0f921"
             ]
            ],
            "type": "heatmap"
           }
          ],
          "heatmapgl": [
           {
            "colorbar": {
             "outlinewidth": 0,
             "ticks": ""
            },
            "colorscale": [
             [
              0,
              "#0d0887"
             ],
             [
              0.1111111111111111,
              "#46039f"
             ],
             [
              0.2222222222222222,
              "#7201a8"
             ],
             [
              0.3333333333333333,
              "#9c179e"
             ],
             [
              0.4444444444444444,
              "#bd3786"
             ],
             [
              0.5555555555555556,
              "#d8576b"
             ],
             [
              0.6666666666666666,
              "#ed7953"
             ],
             [
              0.7777777777777778,
              "#fb9f3a"
             ],
             [
              0.8888888888888888,
              "#fdca26"
             ],
             [
              1,
              "#f0f921"
             ]
            ],
            "type": "heatmapgl"
           }
          ],
          "histogram": [
           {
            "marker": {
             "pattern": {
              "fillmode": "overlay",
              "size": 10,
              "solidity": 0.2
             }
            },
            "type": "histogram"
           }
          ],
          "histogram2d": [
           {
            "colorbar": {
             "outlinewidth": 0,
             "ticks": ""
            },
            "colorscale": [
             [
              0,
              "#0d0887"
             ],
             [
              0.1111111111111111,
              "#46039f"
             ],
             [
              0.2222222222222222,
              "#7201a8"
             ],
             [
              0.3333333333333333,
              "#9c179e"
             ],
             [
              0.4444444444444444,
              "#bd3786"
             ],
             [
              0.5555555555555556,
              "#d8576b"
             ],
             [
              0.6666666666666666,
              "#ed7953"
             ],
             [
              0.7777777777777778,
              "#fb9f3a"
             ],
             [
              0.8888888888888888,
              "#fdca26"
             ],
             [
              1,
              "#f0f921"
             ]
            ],
            "type": "histogram2d"
           }
          ],
          "histogram2dcontour": [
           {
            "colorbar": {
             "outlinewidth": 0,
             "ticks": ""
            },
            "colorscale": [
             [
              0,
              "#0d0887"
             ],
             [
              0.1111111111111111,
              "#46039f"
             ],
             [
              0.2222222222222222,
              "#7201a8"
             ],
             [
              0.3333333333333333,
              "#9c179e"
             ],
             [
              0.4444444444444444,
              "#bd3786"
             ],
             [
              0.5555555555555556,
              "#d8576b"
             ],
             [
              0.6666666666666666,
              "#ed7953"
             ],
             [
              0.7777777777777778,
              "#fb9f3a"
             ],
             [
              0.8888888888888888,
              "#fdca26"
             ],
             [
              1,
              "#f0f921"
             ]
            ],
            "type": "histogram2dcontour"
           }
          ],
          "mesh3d": [
           {
            "colorbar": {
             "outlinewidth": 0,
             "ticks": ""
            },
            "type": "mesh3d"
           }
          ],
          "parcoords": [
           {
            "line": {
             "colorbar": {
              "outlinewidth": 0,
              "ticks": ""
             }
            },
            "type": "parcoords"
           }
          ],
          "pie": [
           {
            "automargin": true,
            "type": "pie"
           }
          ],
          "scatter": [
           {
            "fillpattern": {
             "fillmode": "overlay",
             "size": 10,
             "solidity": 0.2
            },
            "type": "scatter"
           }
          ],
          "scatter3d": [
           {
            "line": {
             "colorbar": {
              "outlinewidth": 0,
              "ticks": ""
             }
            },
            "marker": {
             "colorbar": {
              "outlinewidth": 0,
              "ticks": ""
             }
            },
            "type": "scatter3d"
           }
          ],
          "scattercarpet": [
           {
            "marker": {
             "colorbar": {
              "outlinewidth": 0,
              "ticks": ""
             }
            },
            "type": "scattercarpet"
           }
          ],
          "scattergeo": [
           {
            "marker": {
             "colorbar": {
              "outlinewidth": 0,
              "ticks": ""
             }
            },
            "type": "scattergeo"
           }
          ],
          "scattergl": [
           {
            "marker": {
             "colorbar": {
              "outlinewidth": 0,
              "ticks": ""
             }
            },
            "type": "scattergl"
           }
          ],
          "scattermapbox": [
           {
            "marker": {
             "colorbar": {
              "outlinewidth": 0,
              "ticks": ""
             }
            },
            "type": "scattermapbox"
           }
          ],
          "scatterpolar": [
           {
            "marker": {
             "colorbar": {
              "outlinewidth": 0,
              "ticks": ""
             }
            },
            "type": "scatterpolar"
           }
          ],
          "scatterpolargl": [
           {
            "marker": {
             "colorbar": {
              "outlinewidth": 0,
              "ticks": ""
             }
            },
            "type": "scatterpolargl"
           }
          ],
          "scatterternary": [
           {
            "marker": {
             "colorbar": {
              "outlinewidth": 0,
              "ticks": ""
             }
            },
            "type": "scatterternary"
           }
          ],
          "surface": [
           {
            "colorbar": {
             "outlinewidth": 0,
             "ticks": ""
            },
            "colorscale": [
             [
              0,
              "#0d0887"
             ],
             [
              0.1111111111111111,
              "#46039f"
             ],
             [
              0.2222222222222222,
              "#7201a8"
             ],
             [
              0.3333333333333333,
              "#9c179e"
             ],
             [
              0.4444444444444444,
              "#bd3786"
             ],
             [
              0.5555555555555556,
              "#d8576b"
             ],
             [
              0.6666666666666666,
              "#ed7953"
             ],
             [
              0.7777777777777778,
              "#fb9f3a"
             ],
             [
              0.8888888888888888,
              "#fdca26"
             ],
             [
              1,
              "#f0f921"
             ]
            ],
            "type": "surface"
           }
          ],
          "table": [
           {
            "cells": {
             "fill": {
              "color": "#EBF0F8"
             },
             "line": {
              "color": "white"
             }
            },
            "header": {
             "fill": {
              "color": "#C8D4E3"
             },
             "line": {
              "color": "white"
             }
            },
            "type": "table"
           }
          ]
         },
         "layout": {
          "annotationdefaults": {
           "arrowcolor": "#2a3f5f",
           "arrowhead": 0,
           "arrowwidth": 1
          },
          "autotypenumbers": "strict",
          "coloraxis": {
           "colorbar": {
            "outlinewidth": 0,
            "ticks": ""
           }
          },
          "colorscale": {
           "diverging": [
            [
             0,
             "#8e0152"
            ],
            [
             0.1,
             "#c51b7d"
            ],
            [
             0.2,
             "#de77ae"
            ],
            [
             0.3,
             "#f1b6da"
            ],
            [
             0.4,
             "#fde0ef"
            ],
            [
             0.5,
             "#f7f7f7"
            ],
            [
             0.6,
             "#e6f5d0"
            ],
            [
             0.7,
             "#b8e186"
            ],
            [
             0.8,
             "#7fbc41"
            ],
            [
             0.9,
             "#4d9221"
            ],
            [
             1,
             "#276419"
            ]
           ],
           "sequential": [
            [
             0,
             "#0d0887"
            ],
            [
             0.1111111111111111,
             "#46039f"
            ],
            [
             0.2222222222222222,
             "#7201a8"
            ],
            [
             0.3333333333333333,
             "#9c179e"
            ],
            [
             0.4444444444444444,
             "#bd3786"
            ],
            [
             0.5555555555555556,
             "#d8576b"
            ],
            [
             0.6666666666666666,
             "#ed7953"
            ],
            [
             0.7777777777777778,
             "#fb9f3a"
            ],
            [
             0.8888888888888888,
             "#fdca26"
            ],
            [
             1,
             "#f0f921"
            ]
           ],
           "sequentialminus": [
            [
             0,
             "#0d0887"
            ],
            [
             0.1111111111111111,
             "#46039f"
            ],
            [
             0.2222222222222222,
             "#7201a8"
            ],
            [
             0.3333333333333333,
             "#9c179e"
            ],
            [
             0.4444444444444444,
             "#bd3786"
            ],
            [
             0.5555555555555556,
             "#d8576b"
            ],
            [
             0.6666666666666666,
             "#ed7953"
            ],
            [
             0.7777777777777778,
             "#fb9f3a"
            ],
            [
             0.8888888888888888,
             "#fdca26"
            ],
            [
             1,
             "#f0f921"
            ]
           ]
          },
          "colorway": [
           "#636efa",
           "#EF553B",
           "#00cc96",
           "#ab63fa",
           "#FFA15A",
           "#19d3f3",
           "#FF6692",
           "#B6E880",
           "#FF97FF",
           "#FECB52"
          ],
          "font": {
           "color": "#2a3f5f"
          },
          "geo": {
           "bgcolor": "white",
           "lakecolor": "white",
           "landcolor": "#E5ECF6",
           "showlakes": true,
           "showland": true,
           "subunitcolor": "white"
          },
          "hoverlabel": {
           "align": "left"
          },
          "hovermode": "closest",
          "mapbox": {
           "style": "light"
          },
          "paper_bgcolor": "white",
          "plot_bgcolor": "#E5ECF6",
          "polar": {
           "angularaxis": {
            "gridcolor": "white",
            "linecolor": "white",
            "ticks": ""
           },
           "bgcolor": "#E5ECF6",
           "radialaxis": {
            "gridcolor": "white",
            "linecolor": "white",
            "ticks": ""
           }
          },
          "scene": {
           "xaxis": {
            "backgroundcolor": "#E5ECF6",
            "gridcolor": "white",
            "gridwidth": 2,
            "linecolor": "white",
            "showbackground": true,
            "ticks": "",
            "zerolinecolor": "white"
           },
           "yaxis": {
            "backgroundcolor": "#E5ECF6",
            "gridcolor": "white",
            "gridwidth": 2,
            "linecolor": "white",
            "showbackground": true,
            "ticks": "",
            "zerolinecolor": "white"
           },
           "zaxis": {
            "backgroundcolor": "#E5ECF6",
            "gridcolor": "white",
            "gridwidth": 2,
            "linecolor": "white",
            "showbackground": true,
            "ticks": "",
            "zerolinecolor": "white"
           }
          },
          "shapedefaults": {
           "line": {
            "color": "#2a3f5f"
           }
          },
          "ternary": {
           "aaxis": {
            "gridcolor": "white",
            "linecolor": "white",
            "ticks": ""
           },
           "baxis": {
            "gridcolor": "white",
            "linecolor": "white",
            "ticks": ""
           },
           "bgcolor": "#E5ECF6",
           "caxis": {
            "gridcolor": "white",
            "linecolor": "white",
            "ticks": ""
           }
          },
          "title": {
           "x": 0.05
          },
          "xaxis": {
           "automargin": true,
           "gridcolor": "white",
           "linecolor": "white",
           "ticks": "",
           "title": {
            "standoff": 15
           },
           "zerolinecolor": "white",
           "zerolinewidth": 2
          },
          "yaxis": {
           "automargin": true,
           "gridcolor": "white",
           "linecolor": "white",
           "ticks": "",
           "title": {
            "standoff": 15
           },
           "zerolinecolor": "white",
           "zerolinewidth": 2
          }
         }
        },
        "title": {
         "text": "AEP Load - First Week of 2005"
        },
        "xaxis": {
         "anchor": "y",
         "autorange": true,
         "domain": [
          0,
          1
         ],
         "range": [
          "2005-01-01",
          "2005-01-07 23:00"
         ],
         "title": {
          "text": "Date"
         },
         "type": "date"
        },
        "yaxis": {
         "anchor": "x",
         "autorange": true,
         "domain": [
          0,
          1
         ],
         "range": [
          11094.333333333334,
          18427.666666666668
         ],
         "title": {
          "text": "Load (MW)"
         },
         "type": "linear"
        }
       }
      },
      "image/png": "[encoded data removed]",
      "text/html": [
       "<div>                            <div id=\"1fb3aeb2-22a9-44fa-a986-5c5a760e4c12\" class=\"plotly-graph-div\" style=\"height:525px; width:100%;\"></div>            <script type=\"text/javascript\">                require([\"plotly\"], function(Plotly) {                    window.PLOTLYENV=window.PLOTLYENV || {};                                    if (document.getElementById(\"1fb3aeb2-22a9-44fa-a986-5c5a760e4c12\")) {                    Plotly.newPlot(                        \"1fb3aeb2-22a9-44fa-a986-5c5a760e4c12\",                        [{\"hovertemplate\":\"Date=%{x}\\u003cbr\\u003eLoad (MW)=%{y}\\u003cextra\\u003e\\u003c\\u002fextra\\u003e\",\"legendgroup\":\"\",\"line\":{\"color\":\"#636efa\",\"dash\":\"solid\"},\"marker\":{\"symbol\":\"circle\"},\"mode\":\"lines\",\"name\":\"\",\"orientation\":\"v\",\"showlegend\":false,\"x\":[\"2005-01-01T00:00:00\",\"2005-01-01T01:00:00\",\"2005-01-01T02:00:00\",\"2005-01-01T03:00:00\",\"2005-01-01T04:00:00\",\"2005-01-01T05:00:00\",\"2005-01-01T06:00:00\",\"2005-01-01T07:00:00\",\"2005-01-01T08:00:00\",\"2005-01-01T09:00:00\",\"2005-01-01T10:00:00\",\"2005-01-01T11:00:00\",\"2005-01-01T12:00:00\",\"2005-01-01T13:00:00\",\"2005-01-01T14:00:00\",\"2005-01-01T15:00:00\",\"2005-01-01T16:00:00\",\"2005-01-01T17:00:00\",\"2005-01-01T18:00:00\",\"2005-01-01T19:00:00\",\"2005-01-01T20:00:00\",\"2005-01-01T21:00:00\",\"2005-01-01T22:00:00\",\"2005-01-01T23:00:00\",\"2005-01-02T00:00:00\",\"2005-01-02T01:00:00\",\"2005-01-02T02:00:00\",\"2005-01-02T03:00:00\",\"2005-01-02T04:00:00\",\"2005-01-02T05:00:00\",\"2005-01-02T06:00:00\",\"2005-01-02T07:00:00\",\"2005-01-02T08:00:00\",\"2005-01-02T09:00:00\",\"2005-01-02T10:00:00\",\"2005-01-02T11:00:00\",\"2005-01-02T12:00:00\",\"2005-01-02T13:00:00\",\"2005-01-02T14:00:00\",\"2005-01-02T15:00:00\",\"2005-01-02T16:00:00\",\"2005-01-02T17:00:00\",\"2005-01-02T18:00:00\",\"2005-01-02T19:00:00\",\"2005-01-02T20:00:00\",\"2005-01-02T21:00:00\",\"2005-01-02T22:00:00\",\"2005-01-02T23:00:00\",\"2005-01-03T00:00:00\",\"2005-01-03T01:00:00\",\"2005-01-03T02:00:00\",\"2005-01-03T03:00:00\",\"2005-01-03T04:00:00\",\"2005-01-03T05:00:00\",\"2005-01-03T06:00:00\",\"2005-01-03T07:00:00\",\"2005-01-03T08:00:00\",\"2005-01-03T09:00:00\",\"2005-01-03T10:00:00\",\"2005-01-03T11:00:00\",\"2005-01-03T12:00:00\",\"2005-01-03T13:00:00\",\"2005-01-03T14:00:00\",\"2005-01-03T15:00:00\",\"2005-01-03T16:00:00\",\"2005-01-03T17:00:00\",\"2005-01-03T18:00:00\",\"2005-01-03T19:00:00\",\"2005-01-03T20:00:00\",\"2005-01-03T21:00:00\",\"2005-01-03T22:00:00\",\"2005-01-03T23:00:00\",\"2005-01-04T00:00:00\",\"2005-01-04T01:00:00\",\"2005-01-04T02:00:00\",\"2005-01-04T03:00:00\",\"2005-01-04T04:00:00\",\"2005-01-04T05:00:00\",\"2005-01-04T06:00:00\",\"2005-01-04T07:00:00\",\"2005-01-04T08:00:00\",\"2005-01-04T09:00:00\",\"2005-01-04T10:00:00\",\"2005-01-04T11:00:00\",\"2005-01-04T12:00:00\",\"2005-01-04T13:00:00\",\"2005-01-04T14:00:00\",\"2005-01-04T15:00:00\",\"2005-01-04T16:00:00\",\"2005-01-04T17:00:00\",\"2005-01-04T18:00:00\",\"2005-01-04T19:00:00\",\"2005-01-04T20:00:00\",\"2005-01-04T21:00:00\",\"2005-01-04T22:00:00\",\"2005-01-04T23:00:00\",\"2005-01-05T00:00:00\",\"2005-01-05T01:00:00\",\"2005-01-05T02:00:00\",\"2005-01-05T03:00:00\",\"2005-01-05T04:00:00\",\"2005-01-05T05:00:00\",\"2005-01-05T06:00:00\",\"2005-01-05T07:00:00\",\"2005-01-05T08:00:00\",\"2005-01-05T09:00:00\",\"2005-01-05T10:00:00\",\"2005-01-05T11:00:00\",\"2005-01-05T12:00:00\",\"2005-01-05T13:00:00\",\"2005-01-05T14:00:00\",\"2005-01-05T15:00:00\",\"2005-01-05T16:00:00\",\"2005-01-05T17:00:00\",\"2005-01-05T18:00:00\",\"2005-01-05T19:00:00\",\"2005-01-05T20:00:00\",\"2005-01-05T21:00:00\",\"2005-01-05T22:00:00\",\"2005-01-05T23:00:00\",\"2005-01-06T00:00:00\",\"2005-01-06T01:00:00\",\"2005-01-06T02:00:00\",\"2005-01-06T03:00:00\",\"2005-01-06T04:00:00\",\"2005-01-06T05:00:00\",\"2005-01-06T06:00:00\",\"2005-01-06T07:00:00\",\"2005-01-06T08:00:00\",\"2005-01-06T09:00:00\",\"2005-01-06T10:00:00\",\"2005-01-06T11:00:00\",\"2005-01-06T12:00:00\",\"2005-01-06T13:00:00\",\"2005-01-06T14:00:00\",\"2005-01-06T15:00:00\",\"2005-01-06T16:00:00\",\"2005-01-06T17:00:00\",\"2005-01-06T18:00:00\",\"2005-01-06T19:00:00\",\"2005-01-06T20:00:00\",\"2005-01-06T21:00:00\",\"2005-01-06T22:00:00\",\"2005-01-06T23:00:00\",\"2005-01-07T00:00:00\",\"2005-01-07T01:00:00\",\"2005-01-07T02:00:00\",\"2005-01-07T03:00:00\",\"2005-01-07T04:00:00\",\"2005-01-07T05:00:00\",\"2005-01-07T06:00:00\",\"2005-01-07T07:00:00\",\"2005-01-07T08:00:00\",\"2005-01-07T09:00:00\",\"2005-01-07T10:00:00\",\"2005-01-07T11:00:00\",\"2005-01-07T12:00:00\",\"2005-01-07T13:00:00\",\"2005-01-07T14:00:00\",\"2005-01-07T15:00:00\",\"2005-01-07T16:00:00\",\"2005-01-07T17:00:00\",\"2005-01-07T18:00:00\",\"2005-01-07T19:00:00\",\"2005-01-07T20:00:00\",\"2005-01-07T21:00:00\",\"2005-01-07T22:00:00\",\"2005-01-07T23:00:00\"],\"xaxis\":\"x\",\"y\":[12892.0,12316.0,11890.0,11579.0,11461.0,11472.0,11571.0,11898.0,12209.0,12396.0,12997.0,13455.0,13617.0,13665.0,13446.0,13340.0,13159.0,13449.0,14319.0,14536.0,14454.0,14248.0,13970.0,13558.0,12849.0,12291.0,11917.0,11681.0,11613.0,11685.0,11936.0,12342.0,12986.0,13485.0,13909.0,13840.0,13914.0,13991.0,13885.0,13818.0,13695.0,14026.0,15073.0,15269.0,15265.0,14916.0,14521.0,13805.0,13080.0,12566.0,12312.0,12179.0,12210.0,12610.0,13342.0,15021.0,16101.0,16225.0,16291.0,16440.0,16308.0,16242.0,16111.0,15992.0,15974.0,16098.0,16829.0,17097.0,16938.0,16638.0,16148.0,15185.0,14163.0,13421.0,12939.0,12764.0,12645.0,12942.0,13785.0,15375.0,16570.0,16474.0,16408.0,16494.0,16599.0,16428.0,16440.0,16266.0,16094.0,16471.0,17173.0,17434.0,17282.0,17120.0,16840.0,15876.0,14781.0,13994.0,13619.0,13369.0,13373.0,13599.0,14436.0,16068.0,17101.0,17132.0,17237.0,17398.0,17420.0,17450.0,17294.0,17184.0,16942.0,17262.0,17872.0,18061.0,17860.0,17394.0,16783.0,15816.0,14860.0,13813.0,13444.0,13136.0,13027.0,13251.0,13984.0,15342.0,16169.0,16065.0,16109.0,16205.0,16269.0,16194.0,16223.0,16081.0,15977.0,16309.0,17041.0,17492.0,17446.0,17342.0,17028.0,16044.0,15106.0,14471.0,14107.0,13946.0,13961.0,14198.0,15011.0,16459.0,17368.0,17339.0,17303.0,17377.0,17236.0,17117.0,16911.0,16769.0,16553.0,16692.0,17372.0,17474.0,17188.0,17039.0,16738.0,15944.0],\"yaxis\":\"y\",\"type\":\"scatter\"}],                        {\"template\":{\"data\":{\"histogram2dcontour\":[{\"type\":\"histogram2dcontour\",\"colorbar\":{\"outlinewidth\":0,\"ticks\":\"\"},\"colorscale\":[[0.0,\"#0d0887\"],[0.1111111111111111,\"#46039f\"],[0.2222222222222222,\"#7201a8\"],[0.3333333333333333,\"#9c179e\"],[0.4444444444444444,\"#bd3786\"],[0.5555555555555556,\"#d8576b\"],[0.6666666666666666,\"#ed7953\"],[0.7777777777777778,\"#fb9f3a\"],[0.8888888888888888,\"#fdca26\"],[1.0,\"#f0f921\"]]}],\"choropleth\":[{\"type\":\"choropleth\",\"colorbar\":{\"outlinewidth\":0,\"ticks\":\"\"}}],\"histogram2d\":[{\"type\":\"histogram2d\",\"colorbar\":{\"outlinewidth\":0,\"ticks\":\"\"},\"colorscale\":[[0.0,\"#0d0887\"],[0.1111111111111111,\"#46039f\"],[0.2222222222222222,\"#7201a8\"],[0.3333333333333333,\"#9c179e\"],[0.4444444444444444,\"#bd3786\"],[0.5555555555555556,\"#d8576b\"],[0.6666666666666666,\"#ed7953\"],[0.7777777777777778,\"#fb9f3a\"],[0.8888888888888888,\"#fdca26\"],[1.0,\"#f0f921\"]]}],\"heatmap\":[{\"type\":\"heatmap\",\"colorbar\":{\"outlinewidth\":0,\"ticks\":\"\"},\"colorscale\":[[0.0,\"#0d0887\"],[0.1111111111111111,\"#46039f\"],[0.2222222222222222,\"#7201a8\"],[0.3333333333333333,\"#9c179e\"],[0.4444444444444444,\"#bd3786\"],[0.5555555555555556,\"#d8576b\"],[0.6666666666666666,\"#ed7953\"],[0.7777777777777778,\"#fb9f3a\"],[0.8888888888888888,\"#fdca26\"],[1.0,\"#f0f921\"]]}],\"heatmapgl\":[{\"type\":\"heatmapgl\",\"colorbar\":{\"outlinewidth\":0,\"ticks\":\"\"},\"colorscale\":[[0.0,\"#0d0887\"],[0.1111111111111111,\"#46039f\"],[0.2222222222222222,\"#7201a8\"],[0.3333333333333333,\"#9c179e\"],[0.4444444444444444,\"#bd3786\"],[0.5555555555555556,\"#d8576b\"],[0.6666666666666666,\"#ed7953\"],[0.7777777777777778,\"#fb9f3a\"],[0.8888888888888888,\"#fdca26\"],[1.0,\"#f0f921\"]]}],\"contourcarpet\":[{\"type\":\"contourcarpet\",\"colorbar\":{\"outlinewidth\":0,\"ticks\":\"\"}}],\"contour\":[{\"type\":\"contour\",\"colorbar\":{\"outlinewidth\":0,\"ticks\":\"\"},\"colorscale\":[[0.0,\"#0d0887\"],[0.1111111111111111,\"#46039f\"],[0.2222222222222222,\"#7201a8\"],[0.3333333333333333,\"#9c179e\"],[0.4444444444444444,\"#bd3786\"],[0.5555555555555556,\"#d8576b\"],[0.6666666666666666,\"#ed7953\"],[0.7777777777777778,\"#fb9f3a\"],[0.8888888888888888,\"#fdca26\"],[1.0,\"#f0f921\"]]}],\"surface\":[{\"type\":\"surface\",\"colorbar\":{\"outlinewidth\":0,\"ticks\":\"\"},\"colorscale\":[[0.0,\"#0d0887\"],[0.1111111111111111,\"#46039f\"],[0.2222222222222222,\"#7201a8\"],[0.3333333333333333,\"#9c179e\"],[0.4444444444444444,\"#bd3786\"],[0.5555555555555556,\"#d8576b\"],[0.6666666666666666,\"#ed7953\"],[0.7777777777777778,\"#fb9f3a\"],[0.8888888888888888,\"#fdca26\"],[1.0,\"#f0f921\"]]}],\"mesh3d\":[{\"type\":\"mesh3d\",\"colorbar\":{\"outlinewidth\":0,\"ticks\":\"\"}}],\"scatter\":[{\"fillpattern\":{\"fillmode\":\"overlay\",\"size\":10,\"solidity\":0.2},\"type\":\"scatter\"}],\"parcoords\":[{\"type\":\"parcoords\",\"line\":{\"colorbar\":{\"outlinewidth\":0,\"ticks\":\"\"}}}],\"scatterpolargl\":[{\"type\":\"scatterpolargl\",\"marker\":{\"colorbar\":{\"outlinewidth\":0,\"ticks\":\"\"}}}],\"bar\":[{\"error_x\":{\"color\":\"#2a3f5f\"},\"error_y\":{\"color\":\"#2a3f5f\"},\"marker\":{\"line\":{\"color\":\"#E5ECF6\",\"width\":0.5},\"pattern\":{\"fillmode\":\"overlay\",\"size\":10,\"solidity\":0.2}},\"type\":\"bar\"}],\"scattergeo\":[{\"type\":\"scattergeo\",\"marker\":{\"colorbar\":{\"outlinewidth\":0,\"ticks\":\"\"}}}],\"scatterpolar\":[{\"type\":\"scatterpolar\",\"marker\":{\"colorbar\":{\"outlinewidth\":0,\"ticks\":\"\"}}}],\"histogram\":[{\"marker\":{\"pattern\":{\"fillmode\":\"overlay\",\"size\":10,\"solidity\":0.2}},\"type\":\"histogram\"}],\"scattergl\":[{\"type\":\"scattergl\",\"marker\":{\"colorbar\":{\"outlinewidth\":0,\"ticks\":\"\"}}}],\"scatter3d\":[{\"type\":\"scatter3d\",\"line\":{\"colorbar\":{\"outlinewidth\":0,\"ticks\":\"\"}},\"marker\":{\"colorbar\":{\"outlinewidth\":0,\"ticks\":\"\"}}}],\"scattermapbox\":[{\"type\":\"scattermapbox\",\"marker\":{\"colorbar\":{\"outlinewidth\":0,\"ticks\":\"\"}}}],\"scatterternary\":[{\"type\":\"scatterternary\",\"marker\":{\"colorbar\":{\"outlinewidth\":0,\"ticks\":\"\"}}}],\"scattercarpet\":[{\"type\":\"scattercarpet\",\"marker\":{\"colorbar\":{\"outlinewidth\":0,\"ticks\":\"\"}}}],\"carpet\":[{\"aaxis\":{\"endlinecolor\":\"#2a3f5f\",\"gridcolor\":\"white\",\"linecolor\":\"white\",\"minorgridcolor\":\"white\",\"startlinecolor\":\"#2a3f5f\"},\"baxis\":{\"endlinecolor\":\"#2a3f5f\",\"gridcolor\":\"white\",\"linecolor\":\"white\",\"minorgridcolor\":\"white\",\"startlinecolor\":\"#2a3f5f\"},\"type\":\"carpet\"}],\"table\":[{\"cells\":{\"fill\":{\"color\":\"#EBF0F8\"},\"line\":{\"color\":\"white\"}},\"header\":{\"fill\":{\"color\":\"#C8D4E3\"},\"line\":{\"color\":\"white\"}},\"type\":\"table\"}],\"barpolar\":[{\"marker\":{\"line\":{\"color\":\"#E5ECF6\",\"width\":0.5},\"pattern\":{\"fillmode\":\"overlay\",\"size\":10,\"solidity\":0.2}},\"type\":\"barpolar\"}],\"pie\":[{\"automargin\":true,\"type\":\"pie\"}]},\"layout\":{\"autotypenumbers\":\"strict\",\"colorway\":[\"#636efa\",\"#EF553B\",\"#00cc96\",\"#ab63fa\",\"#FFA15A\",\"#19d3f3\",\"#FF6692\",\"#B6E880\",\"#FF97FF\",\"#FECB52\"],\"font\":{\"color\":\"#2a3f5f\"},\"hovermode\":\"closest\",\"hoverlabel\":{\"align\":\"left\"},\"paper_bgcolor\":\"white\",\"plot_bgcolor\":\"#E5ECF6\",\"polar\":{\"bgcolor\":\"#E5ECF6\",\"angularaxis\":{\"gridcolor\":\"white\",\"linecolor\":\"white\",\"ticks\":\"\"},\"radialaxis\":{\"gridcolor\":\"white\",\"linecolor\":\"white\",\"ticks\":\"\"}},\"ternary\":{\"bgcolor\":\"#E5ECF6\",\"aaxis\":{\"gridcolor\":\"white\",\"linecolor\":\"white\",\"ticks\":\"\"},\"baxis\":{\"gridcolor\":\"white\",\"linecolor\":\"white\",\"ticks\":\"\"},\"caxis\":{\"gridcolor\":\"white\",\"linecolor\":\"white\",\"ticks\":\"\"}},\"coloraxis\":{\"colorbar\":{\"outlinewidth\":0,\"ticks\":\"\"}},\"colorscale\":{\"sequential\":[[0.0,\"#0d0887\"],[0.1111111111111111,\"#46039f\"],[0.2222222222222222,\"#7201a8\"],[0.3333333333333333,\"#9c179e\"],[0.4444444444444444,\"#bd3786\"],[0.5555555555555556,\"#d8576b\"],[0.6666666666666666,\"#ed7953\"],[0.7777777777777778,\"#fb9f3a\"],[0.8888888888888888,\"#fdca26\"],[1.0,\"#f0f921\"]],\"sequentialminus\":[[0.0,\"#0d0887\"],[0.1111111111111111,\"#46039f\"],[0.2222222222222222,\"#7201a8\"],[0.3333333333333333,\"#9c179e\"],[0.4444444444444444,\"#bd3786\"],[0.5555555555555556,\"#d8576b\"],[0.6666666666666666,\"#ed7953\"],[0.7777777777777778,\"#fb9f3a\"],[0.8888888888888888,\"#fdca26\"],[1.0,\"#f0f921\"]],\"diverging\":[[0,\"#8e0152\"],[0.1,\"#c51b7d\"],[0.2,\"#de77ae\"],[0.3,\"#f1b6da\"],[0.4,\"#fde0ef\"],[0.5,\"#f7f7f7\"],[0.6,\"#e6f5d0\"],[0.7,\"#b8e186\"],[0.8,\"#7fbc41\"],[0.9,\"#4d9221\"],[1,\"#276419\"]]},\"xaxis\":{\"gridcolor\":\"white\",\"linecolor\":\"white\",\"ticks\":\"\",\"title\":{\"standoff\":15},\"zerolinecolor\":\"white\",\"automargin\":true,\"zerolinewidth\":2},\"yaxis\":{\"gridcolor\":\"white\",\"linecolor\":\"white\",\"ticks\":\"\",\"title\":{\"standoff\":15},\"zerolinecolor\":\"white\",\"automargin\":true,\"zerolinewidth\":2},\"scene\":{\"xaxis\":{\"backgroundcolor\":\"#E5ECF6\",\"gridcolor\":\"white\",\"linecolor\":\"white\",\"showbackground\":true,\"ticks\":\"\",\"zerolinecolor\":\"white\",\"gridwidth\":2},\"yaxis\":{\"backgroundcolor\":\"#E5ECF6\",\"gridcolor\":\"white\",\"linecolor\":\"white\",\"showbackground\":true,\"ticks\":\"\",\"zerolinecolor\":\"white\",\"gridwidth\":2},\"zaxis\":{\"backgroundcolor\":\"#E5ECF6\",\"gridcolor\":\"white\",\"linecolor\":\"white\",\"showbackground\":true,\"ticks\":\"\",\"zerolinecolor\":\"white\",\"gridwidth\":2}},\"shapedefaults\":{\"line\":{\"color\":\"#2a3f5f\"}},\"annotationdefaults\":{\"arrowcolor\":\"#2a3f5f\",\"arrowhead\":0,\"arrowwidth\":1},\"geo\":{\"bgcolor\":\"white\",\"landcolor\":\"#E5ECF6\",\"subunitcolor\":\"white\",\"showland\":true,\"showlakes\":true,\"lakecolor\":\"white\"},\"title\":{\"x\":0.05},\"mapbox\":{\"style\":\"light\"}}},\"xaxis\":{\"anchor\":\"y\",\"domain\":[0.0,1.0],\"title\":{\"text\":\"Date\"}},\"yaxis\":{\"anchor\":\"x\",\"domain\":[0.0,1.0],\"title\":{\"text\":\"Load (MW)\"}},\"legend\":{\"tracegroupgap\":0},\"title\":{\"text\":\"AEP Load - First Week of 2005\"},\"showlegend\":true},                        {\"responsive\": true}                    ).then(function(){\n",
       "                            \n",
       "var gd = document.getElementById('1fb3aeb2-22a9-44fa-a986-5c5a760e4c12');\n",
       "var x = new MutationObserver(function (mutations, observer) {{\n",
       "        var display = window.getComputedStyle(gd).display;\n",
       "        if (!display || display === 'none') {{\n",
       "            console.log([gd, 'removed!']);\n",
       "            Plotly.purge(gd);\n",
       "            observer.disconnect();\n",
       "        }}\n",
       "}});\n",
       "\n",
       "// Listen for the removal of the full notebook cells\n",
       "var notebookContainer = gd.closest('#notebook-container');\n",
       "if (notebookContainer) {{\n",
       "    x.observe(notebookContainer, {childList: true});\n",
       "}}\n",
       "\n",
       "// Listen for the clearing of the current output cell\n",
       "var outputEl = gd.closest('.output');\n",
       "if (outputEl) {{\n",
       "    x.observe(outputEl, {childList: true});\n",
       "}}\n",
       "\n",
       "                        })                };                });            </script>        </div>"
      ]
     },
     "metadata": {},
     "output_type": "display_data"
    }
   ],
   "source": [
    "# Plot 2: One week of data (first week of 2005)\n",
    "week_data = df['2005-01-01':'2005-01-07'].reset_index()\n",
    "fig2 = px.line(week_data, x='Datetime', y='AEP_MW', title='AEP Load - First Week of 2005',\n",
    "               labels={'AEP_MW': 'Load (MW)', 'Datetime': 'Date'})\n",
    "fig2.update_layout(showlegend=True)\n",
    "week_plot_html = os.path.join(PLOT_DIR, 'week_plot.html')\n",
    "fig2.write_html(week_plot_html)\n",
    "\n",
    "fig2.show()"
   ]
  },
  {
   "cell_type": "code",
   "execution_count": null,
   "id": "66e29bad-02dc-40bd-920b-b84664698250",
   "metadata": {},
   "outputs": [],
   "source": [
    "Inference: Daily load cycles show peaks around 6–7 PM and lows around 3–5 AM, \n",
    "suggesting higher residential and commercial usage in the evening and reduced demand at night, \n",
    "consistent with typical human activity patterns."
   ]
  },
  {
   "cell_type": "code",
   "execution_count": 6,
   "id": "d652d700-b30d-49b6-98e3-546e0517b3b5",
   "metadata": {},
   "outputs": [
    {
     "name": "stdout",
     "output_type": "stream",
     "text": [
      "Monthly plot saved as HTML at: E:\\TIme series proj\\Dataset\\month_plot.html\n"
     ]
    },
    {
     "data": {
      "application/vnd.plotly.v1+json": {
       "config": {
        "plotlyServerURL": "https://plot.ly"
       },
       "data": [
        {
         "hovertemplate": "Date=%{x}<br>Load (MW)=%{y}<extra></extra>",
         "legendgroup": "",
         "line": {
          "color": "#636efa",
          "dash": "solid"
         },
         "marker": {
          "symbol": "circle"
         },
         "mode": "lines",
         "name": "",
         "orientation": "v",
         "showlegend": false,
         "type": "scatter",
         "x": [
          "2005-01-01T00:00:00",
          "2005-01-01T01:00:00",
          "2005-01-01T02:00:00",
          "2005-01-01T03:00:00",
          "2005-01-01T04:00:00",
          "2005-01-01T05:00:00",
          "2005-01-01T06:00:00",
          "2005-01-01T07:00:00",
          "2005-01-01T08:00:00",
          "2005-01-01T09:00:00",
          "2005-01-01T10:00:00",
          "2005-01-01T11:00:00",
          "2005-01-01T12:00:00",
          "2005-01-01T13:00:00",
          "2005-01-01T14:00:00",
          "2005-01-01T15:00:00",
          "2005-01-01T16:00:00",
          "2005-01-01T17:00:00",
          "2005-01-01T18:00:00",
          "2005-01-01T19:00:00",
          "2005-01-01T20:00:00",
          "2005-01-01T21:00:00",
          "2005-01-01T22:00:00",
          "2005-01-01T23:00:00",
          "2005-01-02T00:00:00",
          "2005-01-02T01:00:00",
          "2005-01-02T02:00:00",
          "2005-01-02T03:00:00",
          "2005-01-02T04:00:00",
          "2005-01-02T05:00:00",
          "2005-01-02T06:00:00",
          "2005-01-02T07:00:00",
          "2005-01-02T08:00:00",
          "2005-01-02T09:00:00",
          "2005-01-02T10:00:00",
          "2005-01-02T11:00:00",
          "2005-01-02T12:00:00",
          "2005-01-02T13:00:00",
          "2005-01-02T14:00:00",
          "2005-01-02T15:00:00",
          "2005-01-02T16:00:00",
          "2005-01-02T17:00:00",
          "2005-01-02T18:00:00",
          "2005-01-02T19:00:00",
          "2005-01-02T20:00:00",
          "2005-01-02T21:00:00",
          "2005-01-02T22:00:00",
          "2005-01-02T23:00:00",
          "2005-01-03T00:00:00",
          "2005-01-03T01:00:00",
          "2005-01-03T02:00:00",
          "2005-01-03T03:00:00",
          "2005-01-03T04:00:00",
          "2005-01-03T05:00:00",
          "2005-01-03T06:00:00",
          "2005-01-03T07:00:00",
          "2005-01-03T08:00:00",
          "2005-01-03T09:00:00",
          "2005-01-03T10:00:00",
          "2005-01-03T11:00:00",
          "2005-01-03T12:00:00",
          "2005-01-03T13:00:00",
          "2005-01-03T14:00:00",
          "2005-01-03T15:00:00",
          "2005-01-03T16:00:00",
          "2005-01-03T17:00:00",
          "2005-01-03T18:00:00",
          "2005-01-03T19:00:00",
          "2005-01-03T20:00:00",
          "2005-01-03T21:00:00",
          "2005-01-03T22:00:00",
          "2005-01-03T23:00:00",
          "2005-01-04T00:00:00",
          "2005-01-04T01:00:00",
          "2005-01-04T02:00:00",
          "2005-01-04T03:00:00",
          "2005-01-04T04:00:00",
          "2005-01-04T05:00:00",
          "2005-01-04T06:00:00",
          "2005-01-04T07:00:00",
          "2005-01-04T08:00:00",
          "2005-01-04T09:00:00",
          "2005-01-04T10:00:00",
          "2005-01-04T11:00:00",
          "2005-01-04T12:00:00",
          "2005-01-04T13:00:00",
          "2005-01-04T14:00:00",
          "2005-01-04T15:00:00",
          "2005-01-04T16:00:00",
          "2005-01-04T17:00:00",
          "2005-01-04T18:00:00",
          "2005-01-04T19:00:00",
          "2005-01-04T20:00:00",
          "2005-01-04T21:00:00",
          "2005-01-04T22:00:00",
          "2005-01-04T23:00:00",
          "2005-01-05T00:00:00",
          "2005-01-05T01:00:00",
          "2005-01-05T02:00:00",
          "2005-01-05T03:00:00",
          "2005-01-05T04:00:00",
          "2005-01-05T05:00:00",
          "2005-01-05T06:00:00",
          "2005-01-05T07:00:00",
          "2005-01-05T08:00:00",
          "2005-01-05T09:00:00",
          "2005-01-05T10:00:00",
          "2005-01-05T11:00:00",
          "2005-01-05T12:00:00",
          "2005-01-05T13:00:00",
          "2005-01-05T14:00:00",
          "2005-01-05T15:00:00",
          "2005-01-05T16:00:00",
          "2005-01-05T17:00:00",
          "2005-01-05T18:00:00",
          "2005-01-05T19:00:00",
          "2005-01-05T20:00:00",
          "2005-01-05T21:00:00",
          "2005-01-05T22:00:00",
          "2005-01-05T23:00:00",
          "2005-01-06T00:00:00",
          "2005-01-06T01:00:00",
          "2005-01-06T02:00:00",
          "2005-01-06T03:00:00",
          "2005-01-06T04:00:00",
          "2005-01-06T05:00:00",
          "2005-01-06T06:00:00",
          "2005-01-06T07:00:00",
          "2005-01-06T08:00:00",
          "2005-01-06T09:00:00",
          "2005-01-06T10:00:00",
          "2005-01-06T11:00:00",
          "2005-01-06T12:00:00",
          "2005-01-06T13:00:00",
          "2005-01-06T14:00:00",
          "2005-01-06T15:00:00",
          "2005-01-06T16:00:00",
          "2005-01-06T17:00:00",
          "2005-01-06T18:00:00",
          "2005-01-06T19:00:00",
          "2005-01-06T20:00:00",
          "2005-01-06T21:00:00",
          "2005-01-06T22:00:00",
          "2005-01-06T23:00:00",
          "2005-01-07T00:00:00",
          "2005-01-07T01:00:00",
          "2005-01-07T02:00:00",
          "2005-01-07T03:00:00",
          "2005-01-07T04:00:00",
          "2005-01-07T05:00:00",
          "2005-01-07T06:00:00",
          "2005-01-07T07:00:00",
          "2005-01-07T08:00:00",
          "2005-01-07T09:00:00",
          "2005-01-07T10:00:00",
          "2005-01-07T11:00:00",
          "2005-01-07T12:00:00",
          "2005-01-07T13:00:00",
          "2005-01-07T14:00:00",
          "2005-01-07T15:00:00",
          "2005-01-07T16:00:00",
          "2005-01-07T17:00:00",
          "2005-01-07T18:00:00",
          "2005-01-07T19:00:00",
          "2005-01-07T20:00:00",
          "2005-01-07T21:00:00",
          "2005-01-07T22:00:00",
          "2005-01-07T23:00:00",
          "2005-01-08T00:00:00",
          "2005-01-08T01:00:00",
          "2005-01-08T02:00:00",
          "2005-01-08T03:00:00",
          "2005-01-08T04:00:00",
          "2005-01-08T05:00:00",
          "2005-01-08T06:00:00",
          "2005-01-08T07:00:00",
          "2005-01-08T08:00:00",
          "2005-01-08T09:00:00",
          "2005-01-08T10:00:00",
          "2005-01-08T11:00:00",
          "2005-01-08T12:00:00",
          "2005-01-08T13:00:00",
          "2005-01-08T14:00:00",
          "2005-01-08T15:00:00",
          "2005-01-08T16:00:00",
          "2005-01-08T17:00:00",
          "2005-01-08T18:00:00",
          "2005-01-08T19:00:00",
          "2005-01-08T20:00:00",
          "2005-01-08T21:00:00",
          "2005-01-08T22:00:00",
          "2005-01-08T23:00:00",
          "2005-01-09T00:00:00",
          "2005-01-09T01:00:00",
          "2005-01-09T02:00:00",
          "2005-01-09T03:00:00",
          "2005-01-09T04:00:00",
          "2005-01-09T05:00:00",
          "2005-01-09T06:00:00",
          "2005-01-09T07:00:00",
          "2005-01-09T08:00:00",
          "2005-01-09T09:00:00",
          "2005-01-09T10:00:00",
          "2005-01-09T11:00:00",
          "2005-01-09T12:00:00",
          "2005-01-09T13:00:00",
          "2005-01-09T14:00:00",
          "2005-01-09T15:00:00",
          "2005-01-09T16:00:00",
          "2005-01-09T17:00:00",
          "2005-01-09T18:00:00",
          "2005-01-09T19:00:00",
          "2005-01-09T20:00:00",
          "2005-01-09T21:00:00",
          "2005-01-09T22:00:00",
          "2005-01-09T23:00:00",
          "2005-01-10T00:00:00",
          "2005-01-10T01:00:00",
          "2005-01-10T02:00:00",
          "2005-01-10T03:00:00",
          "2005-01-10T04:00:00",
          "2005-01-10T05:00:00",
          "2005-01-10T06:00:00",
          "2005-01-10T07:00:00",
          "2005-01-10T08:00:00",
          "2005-01-10T09:00:00",
          "2005-01-10T10:00:00",
          "2005-01-10T11:00:00",
          "2005-01-10T12:00:00",
          "2005-01-10T13:00:00",
          "2005-01-10T14:00:00",
          "2005-01-10T15:00:00",
          "2005-01-10T16:00:00",
          "2005-01-10T17:00:00",
          "2005-01-10T18:00:00",
          "2005-01-10T19:00:00",
          "2005-01-10T20:00:00",
          "2005-01-10T21:00:00",
          "2005-01-10T22:00:00",
          "2005-01-10T23:00:00",
          "2005-01-11T00:00:00",
          "2005-01-11T01:00:00",
          "2005-01-11T02:00:00",
          "2005-01-11T03:00:00",
          "2005-01-11T04:00:00",
          "2005-01-11T05:00:00",
          "2005-01-11T06:00:00",
          "2005-01-11T07:00:00",
          "2005-01-11T08:00:00",
          "2005-01-11T09:00:00",
          "2005-01-11T10:00:00",
          "2005-01-11T11:00:00",
          "2005-01-11T12:00:00",
          "2005-01-11T13:00:00",
          "2005-01-11T14:00:00",
          "2005-01-11T15:00:00",
          "2005-01-11T16:00:00",
          "2005-01-11T17:00:00",
          "2005-01-11T18:00:00",
          "2005-01-11T19:00:00",
          "2005-01-11T20:00:00",
          "2005-01-11T21:00:00",
          "2005-01-11T22:00:00",
          "2005-01-11T23:00:00",
          "2005-01-12T00:00:00",
          "2005-01-12T01:00:00",
          "2005-01-12T02:00:00",
          "2005-01-12T03:00:00",
          "2005-01-12T04:00:00",
          "2005-01-12T05:00:00",
          "2005-01-12T06:00:00",
          "2005-01-12T07:00:00",
          "2005-01-12T08:00:00",
          "2005-01-12T09:00:00",
          "2005-01-12T10:00:00",
          "2005-01-12T11:00:00",
          "2005-01-12T12:00:00",
          "2005-01-12T13:00:00",
          "2005-01-12T14:00:00",
          "2005-01-12T15:00:00",
          "2005-01-12T16:00:00",
          "2005-01-12T17:00:00",
          "2005-01-12T18:00:00",
          "2005-01-12T19:00:00",
          "2005-01-12T20:00:00",
          "2005-01-12T21:00:00",
          "2005-01-12T22:00:00",
          "2005-01-12T23:00:00",
          "2005-01-13T00:00:00",
          "2005-01-13T01:00:00",
          "2005-01-13T02:00:00",
          "2005-01-13T03:00:00",
          "2005-01-13T04:00:00",
          "2005-01-13T05:00:00",
          "2005-01-13T06:00:00",
          "2005-01-13T07:00:00",
          "2005-01-13T08:00:00",
          "2005-01-13T09:00:00",
          "2005-01-13T10:00:00",
          "2005-01-13T11:00:00",
          "2005-01-13T12:00:00",
          "2005-01-13T13:00:00",
          "2005-01-13T14:00:00",
          "2005-01-13T15:00:00",
          "2005-01-13T16:00:00",
          "2005-01-13T17:00:00",
          "2005-01-13T18:00:00",
          "2005-01-13T19:00:00",
          "2005-01-13T20:00:00",
          "2005-01-13T21:00:00",
          "2005-01-13T22:00:00",
          "2005-01-13T23:00:00",
          "2005-01-14T00:00:00",
          "2005-01-14T01:00:00",
          "2005-01-14T02:00:00",
          "2005-01-14T03:00:00",
          "2005-01-14T04:00:00",
          "2005-01-14T05:00:00",
          "2005-01-14T06:00:00",
          "2005-01-14T07:00:00",
          "2005-01-14T08:00:00",
          "2005-01-14T09:00:00",
          "2005-01-14T10:00:00",
          "2005-01-14T11:00:00",
          "2005-01-14T12:00:00",
          "2005-01-14T13:00:00",
          "2005-01-14T14:00:00",
          "2005-01-14T15:00:00",
          "2005-01-14T16:00:00",
          "2005-01-14T17:00:00",
          "2005-01-14T18:00:00",
          "2005-01-14T19:00:00",
          "2005-01-14T20:00:00",
          "2005-01-14T21:00:00",
          "2005-01-14T22:00:00",
          "2005-01-14T23:00:00",
          "2005-01-15T00:00:00",
          "2005-01-15T01:00:00",
          "2005-01-15T02:00:00",
          "2005-01-15T03:00:00",
          "2005-01-15T04:00:00",
          "2005-01-15T05:00:00",
          "2005-01-15T06:00:00",
          "2005-01-15T07:00:00",
          "2005-01-15T08:00:00",
          "2005-01-15T09:00:00",
          "2005-01-15T10:00:00",
          "2005-01-15T11:00:00",
          "2005-01-15T12:00:00",
          "2005-01-15T13:00:00",
          "2005-01-15T14:00:00",
          "2005-01-15T15:00:00",
          "2005-01-15T16:00:00",
          "2005-01-15T17:00:00",
          "2005-01-15T18:00:00",
          "2005-01-15T19:00:00",
          "2005-01-15T20:00:00",
          "2005-01-15T21:00:00",
          "2005-01-15T22:00:00",
          "2005-01-15T23:00:00",
          "2005-01-16T00:00:00",
          "2005-01-16T01:00:00",
          "2005-01-16T02:00:00",
          "2005-01-16T03:00:00",
          "2005-01-16T04:00:00",
          "2005-01-16T05:00:00",
          "2005-01-16T06:00:00",
          "2005-01-16T07:00:00",
          "2005-01-16T08:00:00",
          "2005-01-16T09:00:00",
          "2005-01-16T10:00:00",
          "2005-01-16T11:00:00",
          "2005-01-16T12:00:00",
          "2005-01-16T13:00:00",
          "2005-01-16T14:00:00",
          "2005-01-16T15:00:00",
          "2005-01-16T16:00:00",
          "2005-01-16T17:00:00",
          "2005-01-16T18:00:00",
          "2005-01-16T19:00:00",
          "2005-01-16T20:00:00",
          "2005-01-16T21:00:00",
          "2005-01-16T22:00:00",
          "2005-01-16T23:00:00",
          "2005-01-17T00:00:00",
          "2005-01-17T01:00:00",
          "2005-01-17T02:00:00",
          "2005-01-17T03:00:00",
          "2005-01-17T04:00:00",
          "2005-01-17T05:00:00",
          "2005-01-17T06:00:00",
          "2005-01-17T07:00:00",
          "2005-01-17T08:00:00",
          "2005-01-17T09:00:00",
          "2005-01-17T10:00:00",
          "2005-01-17T11:00:00",
          "2005-01-17T12:00:00",
          "2005-01-17T13:00:00",
          "2005-01-17T14:00:00",
          "2005-01-17T15:00:00",
          "2005-01-17T16:00:00",
          "2005-01-17T17:00:00",
          "2005-01-17T18:00:00",
          "2005-01-17T19:00:00",
          "2005-01-17T20:00:00",
          "2005-01-17T21:00:00",
          "2005-01-17T22:00:00",
          "2005-01-17T23:00:00",
          "2005-01-18T00:00:00",
          "2005-01-18T01:00:00",
          "2005-01-18T02:00:00",
          "2005-01-18T03:00:00",
          "2005-01-18T04:00:00",
          "2005-01-18T05:00:00",
          "2005-01-18T06:00:00",
          "2005-01-18T07:00:00",
          "2005-01-18T08:00:00",
          "2005-01-18T09:00:00",
          "2005-01-18T10:00:00",
          "2005-01-18T11:00:00",
          "2005-01-18T12:00:00",
          "2005-01-18T13:00:00",
          "2005-01-18T14:00:00",
          "2005-01-18T15:00:00",
          "2005-01-18T16:00:00",
          "2005-01-18T17:00:00",
          "2005-01-18T18:00:00",
          "2005-01-18T19:00:00",
          "2005-01-18T20:00:00",
          "2005-01-18T21:00:00",
          "2005-01-18T22:00:00",
          "2005-01-18T23:00:00",
          "2005-01-19T00:00:00",
          "2005-01-19T01:00:00",
          "2005-01-19T02:00:00",
          "2005-01-19T03:00:00",
          "2005-01-19T04:00:00",
          "2005-01-19T05:00:00",
          "2005-01-19T06:00:00",
          "2005-01-19T07:00:00",
          "2005-01-19T08:00:00",
          "2005-01-19T09:00:00",
          "2005-01-19T10:00:00",
          "2005-01-19T11:00:00",
          "2005-01-19T12:00:00",
          "2005-01-19T13:00:00",
          "2005-01-19T14:00:00",
          "2005-01-19T15:00:00",
          "2005-01-19T16:00:00",
          "2005-01-19T17:00:00",
          "2005-01-19T18:00:00",
          "2005-01-19T19:00:00",
          "2005-01-19T20:00:00",
          "2005-01-19T21:00:00",
          "2005-01-19T22:00:00",
          "2005-01-19T23:00:00",
          "2005-01-20T00:00:00",
          "2005-01-20T01:00:00",
          "2005-01-20T02:00:00",
          "2005-01-20T03:00:00",
          "2005-01-20T04:00:00",
          "2005-01-20T05:00:00",
          "2005-01-20T06:00:00",
          "2005-01-20T07:00:00",
          "2005-01-20T08:00:00",
          "2005-01-20T09:00:00",
          "2005-01-20T10:00:00",
          "2005-01-20T11:00:00",
          "2005-01-20T12:00:00",
          "2005-01-20T13:00:00",
          "2005-01-20T14:00:00",
          "2005-01-20T15:00:00",
          "2005-01-20T16:00:00",
          "2005-01-20T17:00:00",
          "2005-01-20T18:00:00",
          "2005-01-20T19:00:00",
          "2005-01-20T20:00:00",
          "2005-01-20T21:00:00",
          "2005-01-20T22:00:00",
          "2005-01-20T23:00:00",
          "2005-01-21T00:00:00",
          "2005-01-21T01:00:00",
          "2005-01-21T02:00:00",
          "2005-01-21T03:00:00",
          "2005-01-21T04:00:00",
          "2005-01-21T05:00:00",
          "2005-01-21T06:00:00",
          "2005-01-21T07:00:00",
          "2005-01-21T08:00:00",
          "2005-01-21T09:00:00",
          "2005-01-21T10:00:00",
          "2005-01-21T11:00:00",
          "2005-01-21T12:00:00",
          "2005-01-21T13:00:00",
          "2005-01-21T14:00:00",
          "2005-01-21T15:00:00",
          "2005-01-21T16:00:00",
          "2005-01-21T17:00:00",
          "2005-01-21T18:00:00",
          "2005-01-21T19:00:00",
          "2005-01-21T20:00:00",
          "2005-01-21T21:00:00",
          "2005-01-21T22:00:00",
          "2005-01-21T23:00:00",
          "2005-01-22T00:00:00",
          "2005-01-22T01:00:00",
          "2005-01-22T02:00:00",
          "2005-01-22T03:00:00",
          "2005-01-22T04:00:00",
          "2005-01-22T05:00:00",
          "2005-01-22T06:00:00",
          "2005-01-22T07:00:00",
          "2005-01-22T08:00:00",
          "2005-01-22T09:00:00",
          "2005-01-22T10:00:00",
          "2005-01-22T11:00:00",
          "2005-01-22T12:00:00",
          "2005-01-22T13:00:00",
          "2005-01-22T14:00:00",
          "2005-01-22T15:00:00",
          "2005-01-22T16:00:00",
          "2005-01-22T17:00:00",
          "2005-01-22T18:00:00",
          "2005-01-22T19:00:00",
          "2005-01-22T20:00:00",
          "2005-01-22T21:00:00",
          "2005-01-22T22:00:00",
          "2005-01-22T23:00:00",
          "2005-01-23T00:00:00",
          "2005-01-23T01:00:00",
          "2005-01-23T02:00:00",
          "2005-01-23T03:00:00",
          "2005-01-23T04:00:00",
          "2005-01-23T05:00:00",
          "2005-01-23T06:00:00",
          "2005-01-23T07:00:00",
          "2005-01-23T08:00:00",
          "2005-01-23T09:00:00",
          "2005-01-23T10:00:00",
          "2005-01-23T11:00:00",
          "2005-01-23T12:00:00",
          "2005-01-23T13:00:00",
          "2005-01-23T14:00:00",
          "2005-01-23T15:00:00",
          "2005-01-23T16:00:00",
          "2005-01-23T17:00:00",
          "2005-01-23T18:00:00",
          "2005-01-23T19:00:00",
          "2005-01-23T20:00:00",
          "2005-01-23T21:00:00",
          "2005-01-23T22:00:00",
          "2005-01-23T23:00:00",
          "2005-01-24T00:00:00",
          "2005-01-24T01:00:00",
          "2005-01-24T02:00:00",
          "2005-01-24T03:00:00",
          "2005-01-24T04:00:00",
          "2005-01-24T05:00:00",
          "2005-01-24T06:00:00",
          "2005-01-24T07:00:00",
          "2005-01-24T08:00:00",
          "2005-01-24T09:00:00",
          "2005-01-24T10:00:00",
          "2005-01-24T11:00:00",
          "2005-01-24T12:00:00",
          "2005-01-24T13:00:00",
          "2005-01-24T14:00:00",
          "2005-01-24T15:00:00",
          "2005-01-24T16:00:00",
          "2005-01-24T17:00:00",
          "2005-01-24T18:00:00",
          "2005-01-24T19:00:00",
          "2005-01-24T20:00:00",
          "2005-01-24T21:00:00",
          "2005-01-24T22:00:00",
          "2005-01-24T23:00:00",
          "2005-01-25T00:00:00",
          "2005-01-25T01:00:00",
          "2005-01-25T02:00:00",
          "2005-01-25T03:00:00",
          "2005-01-25T04:00:00",
          "2005-01-25T05:00:00",
          "2005-01-25T06:00:00",
          "2005-01-25T07:00:00",
          "2005-01-25T08:00:00",
          "2005-01-25T09:00:00",
          "2005-01-25T10:00:00",
          "2005-01-25T11:00:00",
          "2005-01-25T12:00:00",
          "2005-01-25T13:00:00",
          "2005-01-25T14:00:00",
          "2005-01-25T15:00:00",
          "2005-01-25T16:00:00",
          "2005-01-25T17:00:00",
          "2005-01-25T18:00:00",
          "2005-01-25T19:00:00",
          "2005-01-25T20:00:00",
          "2005-01-25T21:00:00",
          "2005-01-25T22:00:00",
          "2005-01-25T23:00:00",
          "2005-01-26T00:00:00",
          "2005-01-26T01:00:00",
          "2005-01-26T02:00:00",
          "2005-01-26T03:00:00",
          "2005-01-26T04:00:00",
          "2005-01-26T05:00:00",
          "2005-01-26T06:00:00",
          "2005-01-26T07:00:00",
          "2005-01-26T08:00:00",
          "2005-01-26T09:00:00",
          "2005-01-26T10:00:00",
          "2005-01-26T11:00:00",
          "2005-01-26T12:00:00",
          "2005-01-26T13:00:00",
          "2005-01-26T14:00:00",
          "2005-01-26T15:00:00",
          "2005-01-26T16:00:00",
          "2005-01-26T17:00:00",
          "2005-01-26T18:00:00",
          "2005-01-26T19:00:00",
          "2005-01-26T20:00:00",
          "2005-01-26T21:00:00",
          "2005-01-26T22:00:00",
          "2005-01-26T23:00:00",
          "2005-01-27T00:00:00",
          "2005-01-27T01:00:00",
          "2005-01-27T02:00:00",
          "2005-01-27T03:00:00",
          "2005-01-27T04:00:00",
          "2005-01-27T05:00:00",
          "2005-01-27T06:00:00",
          "2005-01-27T07:00:00",
          "2005-01-27T08:00:00",
          "2005-01-27T09:00:00",
          "2005-01-27T10:00:00",
          "2005-01-27T11:00:00",
          "2005-01-27T12:00:00",
          "2005-01-27T13:00:00",
          "2005-01-27T14:00:00",
          "2005-01-27T15:00:00",
          "2005-01-27T16:00:00",
          "2005-01-27T17:00:00",
          "2005-01-27T18:00:00",
          "2005-01-27T19:00:00",
          "2005-01-27T20:00:00",
          "2005-01-27T21:00:00",
          "2005-01-27T22:00:00",
          "2005-01-27T23:00:00",
          "2005-01-28T00:00:00",
          "2005-01-28T01:00:00",
          "2005-01-28T02:00:00",
          "2005-01-28T03:00:00",
          "2005-01-28T04:00:00",
          "2005-01-28T05:00:00",
          "2005-01-28T06:00:00",
          "2005-01-28T07:00:00",
          "2005-01-28T08:00:00",
          "2005-01-28T09:00:00",
          "2005-01-28T10:00:00",
          "2005-01-28T11:00:00",
          "2005-01-28T12:00:00",
          "2005-01-28T13:00:00",
          "2005-01-28T14:00:00",
          "2005-01-28T15:00:00",
          "2005-01-28T16:00:00",
          "2005-01-28T17:00:00",
          "2005-01-28T18:00:00",
          "2005-01-28T19:00:00",
          "2005-01-28T20:00:00",
          "2005-01-28T21:00:00",
          "2005-01-28T22:00:00",
          "2005-01-28T23:00:00",
          "2005-01-29T00:00:00",
          "2005-01-29T01:00:00",
          "2005-01-29T02:00:00",
          "2005-01-29T03:00:00",
          "2005-01-29T04:00:00",
          "2005-01-29T05:00:00",
          "2005-01-29T06:00:00",
          "2005-01-29T07:00:00",
          "2005-01-29T08:00:00",
          "2005-01-29T09:00:00",
          "2005-01-29T10:00:00",
          "2005-01-29T11:00:00",
          "2005-01-29T12:00:00",
          "2005-01-29T13:00:00",
          "2005-01-29T14:00:00",
          "2005-01-29T15:00:00",
          "2005-01-29T16:00:00",
          "2005-01-29T17:00:00",
          "2005-01-29T18:00:00",
          "2005-01-29T19:00:00",
          "2005-01-29T20:00:00",
          "2005-01-29T21:00:00",
          "2005-01-29T22:00:00",
          "2005-01-29T23:00:00",
          "2005-01-30T00:00:00",
          "2005-01-30T01:00:00",
          "2005-01-30T02:00:00",
          "2005-01-30T03:00:00",
          "2005-01-30T04:00:00",
          "2005-01-30T05:00:00",
          "2005-01-30T06:00:00",
          "2005-01-30T07:00:00",
          "2005-01-30T08:00:00",
          "2005-01-30T09:00:00",
          "2005-01-30T10:00:00",
          "2005-01-30T11:00:00",
          "2005-01-30T12:00:00",
          "2005-01-30T13:00:00",
          "2005-01-30T14:00:00",
          "2005-01-30T15:00:00",
          "2005-01-30T16:00:00",
          "2005-01-30T17:00:00",
          "2005-01-30T18:00:00",
          "2005-01-30T19:00:00",
          "2005-01-30T20:00:00",
          "2005-01-30T21:00:00",
          "2005-01-30T22:00:00",
          "2005-01-30T23:00:00",
          "2005-01-31T00:00:00",
          "2005-01-31T01:00:00",
          "2005-01-31T02:00:00",
          "2005-01-31T03:00:00",
          "2005-01-31T04:00:00",
          "2005-01-31T05:00:00",
          "2005-01-31T06:00:00",
          "2005-01-31T07:00:00",
          "2005-01-31T08:00:00",
          "2005-01-31T09:00:00",
          "2005-01-31T10:00:00",
          "2005-01-31T11:00:00",
          "2005-01-31T12:00:00",
          "2005-01-31T13:00:00",
          "2005-01-31T14:00:00",
          "2005-01-31T15:00:00",
          "2005-01-31T16:00:00",
          "2005-01-31T17:00:00",
          "2005-01-31T18:00:00",
          "2005-01-31T19:00:00",
          "2005-01-31T20:00:00",
          "2005-01-31T21:00:00",
          "2005-01-31T22:00:00",
          "2005-01-31T23:00:00"
         ],
         "xaxis": "x",
         "y": [
          12892,
          12316,
          11890,
          11579,
          11461,
          11472,
          11571,
          11898,
          12209,
          12396,
          12997,
          13455,
          13617,
          13665,
          13446,
          13340,
          13159,
          13449,
          14319,
          14536,
          14454,
          14248,
          13970,
          13558,
          12849,
          12291,
          11917,
          11681,
          11613,
          11685,
          11936,
          12342,
          12986,
          13485,
          13909,
          13840,
          13914,
          13991,
          13885,
          13818,
          13695,
          14026,
          15073,
          15269,
          15265,
          14916,
          14521,
          13805,
          13080,
          12566,
          12312,
          12179,
          12210,
          12610,
          13342,
          15021,
          16101,
          16225,
          16291,
          16440,
          16308,
          16242,
          16111,
          15992,
          15974,
          16098,
          16829,
          17097,
          16938,
          16638,
          16148,
          15185,
          14163,
          13421,
          12939,
          12764,
          12645,
          12942,
          13785,
          15375,
          16570,
          16474,
          16408,
          16494,
          16599,
          16428,
          16440,
          16266,
          16094,
          16471,
          17173,
          17434,
          17282,
          17120,
          16840,
          15876,
          14781,
          13994,
          13619,
          13369,
          13373,
          13599,
          14436,
          16068,
          17101,
          17132,
          17237,
          17398,
          17420,
          17450,
          17294,
          17184,
          16942,
          17262,
          17872,
          18061,
          17860,
          17394,
          16783,
          15816,
          14860,
          13813,
          13444,
          13136,
          13027,
          13251,
          13984,
          15342,
          16169,
          16065,
          16109,
          16205,
          16269,
          16194,
          16223,
          16081,
          15977,
          16309,
          17041,
          17492,
          17446,
          17342,
          17028,
          16044,
          15106,
          14471,
          14107,
          13946,
          13961,
          14198,
          15011,
          16459,
          17368,
          17339,
          17303,
          17377,
          17236,
          17117,
          16911,
          16769,
          16553,
          16692,
          17372,
          17474,
          17188,
          17039,
          16738,
          15944,
          15086,
          14347,
          13991,
          13804,
          13634,
          13512,
          13721,
          14064,
          14725,
          15349,
          15813,
          16156,
          16123,
          15809,
          15600,
          15325,
          15212,
          15417,
          16085,
          16472,
          16275,
          16073,
          15658,
          15087,
          14546,
          13862,
          13473,
          13272,
          13212,
          13226,
          13425,
          13996,
          14611,
          15122,
          15326,
          15088,
          14783,
          14736,
          14291,
          14128,
          13896,
          14172,
          15132,
          16045,
          16252,
          16148,
          15854,
          15232,
          14555,
          14135,
          13819,
          13863,
          13866,
          14169,
          15250,
          16759,
          17511,
          17552,
          17372,
          17295,
          17116,
          16957,
          16679,
          16457,
          16351,
          16527,
          17258,
          17815,
          17797,
          17617,
          17278,
          16334,
          15298,
          14780,
          14242,
          14088,
          14039,
          14284,
          15173,
          16794,
          17706,
          17621,
          17322,
          17409,
          17223,
          17237,
          17007,
          17032,
          16711,
          17040,
          17480,
          17822,
          17679,
          17380,
          16997,
          15886,
          14891,
          13967,
          13576,
          13380,
          13265,
          13379,
          14259,
          15622,
          16530,
          16588,
          16387,
          16219,
          16061,
          15896,
          15793,
          15604,
          15315,
          15336,
          16108,
          16554,
          16452,
          16193,
          15824,
          14866,
          13551,
          12744,
          12406,
          12279,
          12271,
          12419,
          13264,
          14895,
          16087,
          15955,
          15923,
          15840,
          15766,
          15759,
          15684,
          15558,
          15546,
          15731,
          16499,
          16845,
          16863,
          16819,
          16388,
          15528,
          14661,
          13948,
          13542,
          13444,
          13467,
          13699,
          14757,
          16370,
          17721,
          17865,
          18012,
          18231,
          18081,
          17939,
          17740,
          17318,
          17148,
          17283,
          18017,
          18690,
          18483,
          18246,
          18040,
          17305,
          16588,
          15879,
          15530,
          15452,
          15370,
          15541,
          15926,
          16456,
          17197,
          17720,
          18039,
          17754,
          17154,
          16699,
          16219,
          15740,
          15537,
          15905,
          16744,
          17616,
          17429,
          17410,
          17092,
          16536,
          15838,
          15207,
          15085,
          14801,
          14891,
          14980,
          15257,
          15679,
          16416,
          16939,
          17195,
          16876,
          16736,
          16711,
          16672,
          16562,
          16806,
          17178,
          18001,
          18801,
          18833,
          18803,
          18531,
          18130,
          17716,
          17280,
          17179,
          17349,
          17458,
          17966,
          18707,
          19919,
          20966,
          21263,
          21415,
          21221,
          20928,
          20674,
          20335,
          20129,
          19957,
          20305,
          21304,
          22127,
          22169,
          21918,
          21613,
          20801,
          20066,
          19329,
          19207,
          19127,
          19261,
          19538,
          20598,
          22134,
          22940,
          22886,
          22342,
          21744,
          21074,
          20675,
          20176,
          19767,
          19442,
          19817,
          20810,
          21948,
          22104,
          21931,
          21691,
          20743,
          19903,
          19140,
          18856,
          18465,
          18328,
          18491,
          19274,
          20627,
          21309,
          21073,
          20997,
          21019,
          20807,
          20583,
          20281,
          19908,
          19634,
          19838,
          20334,
          20650,
          20405,
          19942,
          19452,
          18503,
          17436,
          16640,
          16222,
          16048,
          16055,
          16299,
          17129,
          18766,
          19650,
          19739,
          19741,
          19676,
          19400,
          19326,
          19138,
          18964,
          18882,
          19096,
          19896,
          20636,
          20641,
          20402,
          19846,
          18854,
          17843,
          17145,
          16777,
          16632,
          16629,
          16868,
          17659,
          19226,
          20103,
          20241,
          20163,
          20087,
          19793,
          19559,
          19327,
          18977,
          18814,
          18803,
          19582,
          20358,
          20330,
          20103,
          19742,
          19015,
          17974,
          17293,
          16769,
          16549,
          16448,
          16429,
          16675,
          17183,
          17903,
          18306,
          18830,
          19086,
          19085,
          19013,
          18820,
          18408,
          18361,
          18668,
          19356,
          19965,
          19986,
          19790,
          19340,
          18876,
          18283,
          17906,
          17807,
          17732,
          17792,
          18221,
          18437,
          18931,
          19539,
          20009,
          20211,
          20133,
          19845,
          19424,
          18980,
          18597,
          18527,
          18695,
          19659,
          20803,
          21093,
          21200,
          20836,
          20327,
          19834,
          19408,
          19424,
          19386,
          19498,
          19943,
          20823,
          21965,
          22652,
          22639,
          22345,
          22075,
          21596,
          21133,
          20850,
          20288,
          19869,
          19631,
          20193,
          20934,
          20946,
          20688,
          20165,
          19242,
          18216,
          17572,
          17302,
          17057,
          17033,
          17347,
          18322,
          19862,
          20686,
          20458,
          20015,
          19449,
          18758,
          18091,
          17696,
          17256,
          16851,
          17131,
          17700,
          18902,
          19197,
          18953,
          18647,
          17842,
          16738,
          16130,
          15671,
          15443,
          15384,
          15510,
          16238,
          17865,
          18737,
          18516,
          18383,
          18261,
          17996,
          17909,
          17892,
          17725,
          17734,
          17900,
          18585,
          19472,
          19351,
          19181,
          18949,
          18081,
          17238,
          16767,
          16482,
          16429,
          16557,
          16895,
          18205,
          19954,
          21086,
          20989,
          20487,
          20262,
          19701,
          19269,
          18832,
          18615,
          18271,
          18430,
          19394,
          20778,
          20980,
          21002,
          20696,
          19957,
          19016,
          18493,
          18348,
          18354,
          18360,
          18633,
          19659,
          21482,
          22280,
          22063,
          21359,
          20843,
          20001,
          19479,
          18948,
          18516,
          18234,
          18458,
          18956,
          19589,
          19655,
          19406,
          19074,
          18382,
          17588,
          16905,
          16497,
          16272,
          16279,
          16430,
          16697,
          17244,
          17875,
          18479,
          18620,
          18677,
          18526,
          18164,
          18053,
          18005,
          17785,
          17907,
          18246,
          18754,
          18517,
          18007,
          17514,
          16861,
          16102,
          15475,
          15000,
          14766,
          14802,
          14806,
          14920,
          15253,
          15840,
          16262,
          16610,
          16665,
          16483,
          16415,
          16184,
          15723,
          15544,
          15785,
          16539,
          17510,
          17724,
          17687,
          17273,
          16738,
          16213,
          15909,
          15699,
          15787,
          15857,
          16345,
          17305,
          19077,
          20089,
          20066,
          19729,
          19182,
          18577,
          17935,
          17490,
          17190,
          16976,
          17150,
          17755,
          18726,
          18993,
          18870,
          18502,
          17648
         ],
         "yaxis": "y"
        }
       ],
       "layout": {
        "autosize": true,
        "legend": {
         "tracegroupgap": 0
        },
        "showlegend": true,
        "template": {
         "data": {
          "bar": [
           {
            "error_x": {
             "color": "#2a3f5f"
            },
            "error_y": {
             "color": "#2a3f5f"
            },
            "marker": {
             "line": {
              "color": "#E5ECF6",
              "width": 0.5
             },
             "pattern": {
              "fillmode": "overlay",
              "size": 10,
              "solidity": 0.2
             }
            },
            "type": "bar"
           }
          ],
          "barpolar": [
           {
            "marker": {
             "line": {
              "color": "#E5ECF6",
              "width": 0.5
             },
             "pattern": {
              "fillmode": "overlay",
              "size": 10,
              "solidity": 0.2
             }
            },
            "type": "barpolar"
           }
          ],
          "carpet": [
           {
            "aaxis": {
             "endlinecolor": "#2a3f5f",
             "gridcolor": "white",
             "linecolor": "white",
             "minorgridcolor": "white",
             "startlinecolor": "#2a3f5f"
            },
            "baxis": {
             "endlinecolor": "#2a3f5f",
             "gridcolor": "white",
             "linecolor": "white",
             "minorgridcolor": "white",
             "startlinecolor": "#2a3f5f"
            },
            "type": "carpet"
           }
          ],
          "choropleth": [
           {
            "colorbar": {
             "outlinewidth": 0,
             "ticks": ""
            },
            "type": "choropleth"
           }
          ],
          "contour": [
           {
            "colorbar": {
             "outlinewidth": 0,
             "ticks": ""
            },
            "colorscale": [
             [
              0,
              "#0d0887"
             ],
             [
              0.1111111111111111,
              "#46039f"
             ],
             [
              0.2222222222222222,
              "#7201a8"
             ],
             [
              0.3333333333333333,
              "#9c179e"
             ],
             [
              0.4444444444444444,
              "#bd3786"
             ],
             [
              0.5555555555555556,
              "#d8576b"
             ],
             [
              0.6666666666666666,
              "#ed7953"
             ],
             [
              0.7777777777777778,
              "#fb9f3a"
             ],
             [
              0.8888888888888888,
              "#fdca26"
             ],
             [
              1,
              "#f0f921"
             ]
            ],
            "type": "contour"
           }
          ],
          "contourcarpet": [
           {
            "colorbar": {
             "outlinewidth": 0,
             "ticks": ""
            },
            "type": "contourcarpet"
           }
          ],
          "heatmap": [
           {
            "colorbar": {
             "outlinewidth": 0,
             "ticks": ""
            },
            "colorscale": [
             [
              0,
              "#0d0887"
             ],
             [
              0.1111111111111111,
              "#46039f"
             ],
             [
              0.2222222222222222,
              "#7201a8"
             ],
             [
              0.3333333333333333,
              "#9c179e"
             ],
             [
              0.4444444444444444,
              "#bd3786"
             ],
             [
              0.5555555555555556,
              "#d8576b"
             ],
             [
              0.6666666666666666,
              "#ed7953"
             ],
             [
              0.7777777777777778,
              "#fb9f3a"
             ],
             [
              0.8888888888888888,
              "#fdca26"
             ],
             [
              1,
              "#f0f921"
             ]
            ],
            "type": "heatmap"
           }
          ],
          "heatmapgl": [
           {
            "colorbar": {
             "outlinewidth": 0,
             "ticks": ""
            },
            "colorscale": [
             [
              0,
              "#0d0887"
             ],
             [
              0.1111111111111111,
              "#46039f"
             ],
             [
              0.2222222222222222,
              "#7201a8"
             ],
             [
              0.3333333333333333,
              "#9c179e"
             ],
             [
              0.4444444444444444,
              "#bd3786"
             ],
             [
              0.5555555555555556,
              "#d8576b"
             ],
             [
              0.6666666666666666,
              "#ed7953"
             ],
             [
              0.7777777777777778,
              "#fb9f3a"
             ],
             [
              0.8888888888888888,
              "#fdca26"
             ],
             [
              1,
              "#f0f921"
             ]
            ],
            "type": "heatmapgl"
           }
          ],
          "histogram": [
           {
            "marker": {
             "pattern": {
              "fillmode": "overlay",
              "size": 10,
              "solidity": 0.2
             }
            },
            "type": "histogram"
           }
          ],
          "histogram2d": [
           {
            "colorbar": {
             "outlinewidth": 0,
             "ticks": ""
            },
            "colorscale": [
             [
              0,
              "#0d0887"
             ],
             [
              0.1111111111111111,
              "#46039f"
             ],
             [
              0.2222222222222222,
              "#7201a8"
             ],
             [
              0.3333333333333333,
              "#9c179e"
             ],
             [
              0.4444444444444444,
              "#bd3786"
             ],
             [
              0.5555555555555556,
              "#d8576b"
             ],
             [
              0.6666666666666666,
              "#ed7953"
             ],
             [
              0.7777777777777778,
              "#fb9f3a"
             ],
             [
              0.8888888888888888,
              "#fdca26"
             ],
             [
              1,
              "#f0f921"
             ]
            ],
            "type": "histogram2d"
           }
          ],
          "histogram2dcontour": [
           {
            "colorbar": {
             "outlinewidth": 0,
             "ticks": ""
            },
            "colorscale": [
             [
              0,
              "#0d0887"
             ],
             [
              0.1111111111111111,
              "#46039f"
             ],
             [
              0.2222222222222222,
              "#7201a8"
             ],
             [
              0.3333333333333333,
              "#9c179e"
             ],
             [
              0.4444444444444444,
              "#bd3786"
             ],
             [
              0.5555555555555556,
              "#d8576b"
             ],
             [
              0.6666666666666666,
              "#ed7953"
             ],
             [
              0.7777777777777778,
              "#fb9f3a"
             ],
             [
              0.8888888888888888,
              "#fdca26"
             ],
             [
              1,
              "#f0f921"
             ]
            ],
            "type": "histogram2dcontour"
           }
          ],
          "mesh3d": [
           {
            "colorbar": {
             "outlinewidth": 0,
             "ticks": ""
            },
            "type": "mesh3d"
           }
          ],
          "parcoords": [
           {
            "line": {
             "colorbar": {
              "outlinewidth": 0,
              "ticks": ""
             }
            },
            "type": "parcoords"
           }
          ],
          "pie": [
           {
            "automargin": true,
            "type": "pie"
           }
          ],
          "scatter": [
           {
            "fillpattern": {
             "fillmode": "overlay",
             "size": 10,
             "solidity": 0.2
            },
            "type": "scatter"
           }
          ],
          "scatter3d": [
           {
            "line": {
             "colorbar": {
              "outlinewidth": 0,
              "ticks": ""
             }
            },
            "marker": {
             "colorbar": {
              "outlinewidth": 0,
              "ticks": ""
             }
            },
            "type": "scatter3d"
           }
          ],
          "scattercarpet": [
           {
            "marker": {
             "colorbar": {
              "outlinewidth": 0,
              "ticks": ""
             }
            },
            "type": "scattercarpet"
           }
          ],
          "scattergeo": [
           {
            "marker": {
             "colorbar": {
              "outlinewidth": 0,
              "ticks": ""
             }
            },
            "type": "scattergeo"
           }
          ],
          "scattergl": [
           {
            "marker": {
             "colorbar": {
              "outlinewidth": 0,
              "ticks": ""
             }
            },
            "type": "scattergl"
           }
          ],
          "scattermapbox": [
           {
            "marker": {
             "colorbar": {
              "outlinewidth": 0,
              "ticks": ""
             }
            },
            "type": "scattermapbox"
           }
          ],
          "scatterpolar": [
           {
            "marker": {
             "colorbar": {
              "outlinewidth": 0,
              "ticks": ""
             }
            },
            "type": "scatterpolar"
           }
          ],
          "scatterpolargl": [
           {
            "marker": {
             "colorbar": {
              "outlinewidth": 0,
              "ticks": ""
             }
            },
            "type": "scatterpolargl"
           }
          ],
          "scatterternary": [
           {
            "marker": {
             "colorbar": {
              "outlinewidth": 0,
              "ticks": ""
             }
            },
            "type": "scatterternary"
           }
          ],
          "surface": [
           {
            "colorbar": {
             "outlinewidth": 0,
             "ticks": ""
            },
            "colorscale": [
             [
              0,
              "#0d0887"
             ],
             [
              0.1111111111111111,
              "#46039f"
             ],
             [
              0.2222222222222222,
              "#7201a8"
             ],
             [
              0.3333333333333333,
              "#9c179e"
             ],
             [
              0.4444444444444444,
              "#bd3786"
             ],
             [
              0.5555555555555556,
              "#d8576b"
             ],
             [
              0.6666666666666666,
              "#ed7953"
             ],
             [
              0.7777777777777778,
              "#fb9f3a"
             ],
             [
              0.8888888888888888,
              "#fdca26"
             ],
             [
              1,
              "#f0f921"
             ]
            ],
            "type": "surface"
           }
          ],
          "table": [
           {
            "cells": {
             "fill": {
              "color": "#EBF0F8"
             },
             "line": {
              "color": "white"
             }
            },
            "header": {
             "fill": {
              "color": "#C8D4E3"
             },
             "line": {
              "color": "white"
             }
            },
            "type": "table"
           }
          ]
         },
         "layout": {
          "annotationdefaults": {
           "arrowcolor": "#2a3f5f",
           "arrowhead": 0,
           "arrowwidth": 1
          },
          "autotypenumbers": "strict",
          "coloraxis": {
           "colorbar": {
            "outlinewidth": 0,
            "ticks": ""
           }
          },
          "colorscale": {
           "diverging": [
            [
             0,
             "#8e0152"
            ],
            [
             0.1,
             "#c51b7d"
            ],
            [
             0.2,
             "#de77ae"
            ],
            [
             0.3,
             "#f1b6da"
            ],
            [
             0.4,
             "#fde0ef"
            ],
            [
             0.5,
             "#f7f7f7"
            ],
            [
             0.6,
             "#e6f5d0"
            ],
            [
             0.7,
             "#b8e186"
            ],
            [
             0.8,
             "#7fbc41"
            ],
            [
             0.9,
             "#4d9221"
            ],
            [
             1,
             "#276419"
            ]
           ],
           "sequential": [
            [
             0,
             "#0d0887"
            ],
            [
             0.1111111111111111,
             "#46039f"
            ],
            [
             0.2222222222222222,
             "#7201a8"
            ],
            [
             0.3333333333333333,
             "#9c179e"
            ],
            [
             0.4444444444444444,
             "#bd3786"
            ],
            [
             0.5555555555555556,
             "#d8576b"
            ],
            [
             0.6666666666666666,
             "#ed7953"
            ],
            [
             0.7777777777777778,
             "#fb9f3a"
            ],
            [
             0.8888888888888888,
             "#fdca26"
            ],
            [
             1,
             "#f0f921"
            ]
           ],
           "sequentialminus": [
            [
             0,
             "#0d0887"
            ],
            [
             0.1111111111111111,
             "#46039f"
            ],
            [
             0.2222222222222222,
             "#7201a8"
            ],
            [
             0.3333333333333333,
             "#9c179e"
            ],
            [
             0.4444444444444444,
             "#bd3786"
            ],
            [
             0.5555555555555556,
             "#d8576b"
            ],
            [
             0.6666666666666666,
             "#ed7953"
            ],
            [
             0.7777777777777778,
             "#fb9f3a"
            ],
            [
             0.8888888888888888,
             "#fdca26"
            ],
            [
             1,
             "#f0f921"
            ]
           ]
          },
          "colorway": [
           "#636efa",
           "#EF553B",
           "#00cc96",
           "#ab63fa",
           "#FFA15A",
           "#19d3f3",
           "#FF6692",
           "#B6E880",
           "#FF97FF",
           "#FECB52"
          ],
          "font": {
           "color": "#2a3f5f"
          },
          "geo": {
           "bgcolor": "white",
           "lakecolor": "white",
           "landcolor": "#E5ECF6",
           "showlakes": true,
           "showland": true,
           "subunitcolor": "white"
          },
          "hoverlabel": {
           "align": "left"
          },
          "hovermode": "closest",
          "mapbox": {
           "style": "light"
          },
          "paper_bgcolor": "white",
          "plot_bgcolor": "#E5ECF6",
          "polar": {
           "angularaxis": {
            "gridcolor": "white",
            "linecolor": "white",
            "ticks": ""
           },
           "bgcolor": "#E5ECF6",
           "radialaxis": {
            "gridcolor": "white",
            "linecolor": "white",
            "ticks": ""
           }
          },
          "scene": {
           "xaxis": {
            "backgroundcolor": "#E5ECF6",
            "gridcolor": "white",
            "gridwidth": 2,
            "linecolor": "white",
            "showbackground": true,
            "ticks": "",
            "zerolinecolor": "white"
           },
           "yaxis": {
            "backgroundcolor": "#E5ECF6",
            "gridcolor": "white",
            "gridwidth": 2,
            "linecolor": "white",
            "showbackground": true,
            "ticks": "",
            "zerolinecolor": "white"
           },
           "zaxis": {
            "backgroundcolor": "#E5ECF6",
            "gridcolor": "white",
            "gridwidth": 2,
            "linecolor": "white",
            "showbackground": true,
            "ticks": "",
            "zerolinecolor": "white"
           }
          },
          "shapedefaults": {
           "line": {
            "color": "#2a3f5f"
           }
          },
          "ternary": {
           "aaxis": {
            "gridcolor": "white",
            "linecolor": "white",
            "ticks": ""
           },
           "baxis": {
            "gridcolor": "white",
            "linecolor": "white",
            "ticks": ""
           },
           "bgcolor": "#E5ECF6",
           "caxis": {
            "gridcolor": "white",
            "linecolor": "white",
            "ticks": ""
           }
          },
          "title": {
           "x": 0.05
          },
          "xaxis": {
           "automargin": true,
           "gridcolor": "white",
           "linecolor": "white",
           "ticks": "",
           "title": {
            "standoff": 15
           },
           "zerolinecolor": "white",
           "zerolinewidth": 2
          },
          "yaxis": {
           "automargin": true,
           "gridcolor": "white",
           "linecolor": "white",
           "ticks": "",
           "title": {
            "standoff": 15
           },
           "zerolinecolor": "white",
           "zerolinewidth": 2
          }
         }
        },
        "title": {
         "text": "AEP Load - January 2005"
        },
        "xaxis": {
         "anchor": "y",
         "autorange": true,
         "domain": [
          0,
          1
         ],
         "range": [
          "2005-01-01",
          "2005-01-31 23:00"
         ],
         "title": {
          "text": "Date"
         },
         "type": "date"
        },
        "yaxis": {
         "anchor": "x",
         "autorange": true,
         "domain": [
          0,
          1
         ],
         "range": [
          10823.277777777777,
          23577.722222222223
         ],
         "title": {
          "text": "Load (MW)"
         },
         "type": "linear"
        }
       }
      },
      "image/png": "[encoded data removed]",
      "text/html": [
       "<div>                            <div id=\"b5b35fcd-1d4b-4ebd-8fb0-29cacb07f71d\" class=\"plotly-graph-div\" style=\"height:525px; width:100%;\"></div>            <script type=\"text/javascript\">                require([\"plotly\"], function(Plotly) {                    window.PLOTLYENV=window.PLOTLYENV || {};                                    if (document.getElementById(\"b5b35fcd-1d4b-4ebd-8fb0-29cacb07f71d\")) {                    Plotly.newPlot(                        \"b5b35fcd-1d4b-4ebd-8fb0-29cacb07f71d\",                        [{\"hovertemplate\":\"Date=%{x}\\u003cbr\\u003eLoad (MW)=%{y}\\u003cextra\\u003e\\u003c\\u002fextra\\u003e\",\"legendgroup\":\"\",\"line\":{\"color\":\"#636efa\",\"dash\":\"solid\"},\"marker\":{\"symbol\":\"circle\"},\"mode\":\"lines\",\"name\":\"\",\"orientation\":\"v\",\"showlegend\":false,\"x\":[\"2005-01-01T00:00:00\",\"2005-01-01T01:00:00\",\"2005-01-01T02:00:00\",\"2005-01-01T03:00:00\",\"2005-01-01T04:00:00\",\"2005-01-01T05:00:00\",\"2005-01-01T06:00:00\",\"2005-01-01T07:00:00\",\"2005-01-01T08:00:00\",\"2005-01-01T09:00:00\",\"2005-01-01T10:00:00\",\"2005-01-01T11:00:00\",\"2005-01-01T12:00:00\",\"2005-01-01T13:00:00\",\"2005-01-01T14:00:00\",\"2005-01-01T15:00:00\",\"2005-01-01T16:00:00\",\"2005-01-01T17:00:00\",\"2005-01-01T18:00:00\",\"2005-01-01T19:00:00\",\"2005-01-01T20:00:00\",\"2005-01-01T21:00:00\",\"2005-01-01T22:00:00\",\"2005-01-01T23:00:00\",\"2005-01-02T00:00:00\",\"2005-01-02T01:00:00\",\"2005-01-02T02:00:00\",\"2005-01-02T03:00:00\",\"2005-01-02T04:00:00\",\"2005-01-02T05:00:00\",\"2005-01-02T06:00:00\",\"2005-01-02T07:00:00\",\"2005-01-02T08:00:00\",\"2005-01-02T09:00:00\",\"2005-01-02T10:00:00\",\"2005-01-02T11:00:00\",\"2005-01-02T12:00:00\",\"2005-01-02T13:00:00\",\"2005-01-02T14:00:00\",\"2005-01-02T15:00:00\",\"2005-01-02T16:00:00\",\"2005-01-02T17:00:00\",\"2005-01-02T18:00:00\",\"2005-01-02T19:00:00\",\"2005-01-02T20:00:00\",\"2005-01-02T21:00:00\",\"2005-01-02T22:00:00\",\"2005-01-02T23:00:00\",\"2005-01-03T00:00:00\",\"2005-01-03T01:00:00\",\"2005-01-03T02:00:00\",\"2005-01-03T03:00:00\",\"2005-01-03T04:00:00\",\"2005-01-03T05:00:00\",\"2005-01-03T06:00:00\",\"2005-01-03T07:00:00\",\"2005-01-03T08:00:00\",\"2005-01-03T09:00:00\",\"2005-01-03T10:00:00\",\"2005-01-03T11:00:00\",\"2005-01-03T12:00:00\",\"2005-01-03T13:00:00\",\"2005-01-03T14:00:00\",\"2005-01-03T15:00:00\",\"2005-01-03T16:00:00\",\"2005-01-03T17:00:00\",\"2005-01-03T18:00:00\",\"2005-01-03T19:00:00\",\"2005-01-03T20:00:00\",\"2005-01-03T21:00:00\",\"2005-01-03T22:00:00\",\"2005-01-03T23:00:00\",\"2005-01-04T00:00:00\",\"2005-01-04T01:00:00\",\"2005-01-04T02:00:00\",\"2005-01-04T03:00:00\",\"2005-01-04T04:00:00\",\"2005-01-04T05:00:00\",\"2005-01-04T06:00:00\",\"2005-01-04T07:00:00\",\"2005-01-04T08:00:00\",\"2005-01-04T09:00:00\",\"2005-01-04T10:00:00\",\"2005-01-04T11:00:00\",\"2005-01-04T12:00:00\",\"2005-01-04T13:00:00\",\"2005-01-04T14:00:00\",\"2005-01-04T15:00:00\",\"2005-01-04T16:00:00\",\"2005-01-04T17:00:00\",\"2005-01-04T18:00:00\",\"2005-01-04T19:00:00\",\"2005-01-04T20:00:00\",\"2005-01-04T21:00:00\",\"2005-01-04T22:00:00\",\"2005-01-04T23:00:00\",\"2005-01-05T00:00:00\",\"2005-01-05T01:00:00\",\"2005-01-05T02:00:00\",\"2005-01-05T03:00:00\",\"2005-01-05T04:00:00\",\"2005-01-05T05:00:00\",\"2005-01-05T06:00:00\",\"2005-01-05T07:00:00\",\"2005-01-05T08:00:00\",\"2005-01-05T09:00:00\",\"2005-01-05T10:00:00\",\"2005-01-05T11:00:00\",\"2005-01-05T12:00:00\",\"2005-01-05T13:00:00\",\"2005-01-05T14:00:00\",\"2005-01-05T15:00:00\",\"2005-01-05T16:00:00\",\"2005-01-05T17:00:00\",\"2005-01-05T18:00:00\",\"2005-01-05T19:00:00\",\"2005-01-05T20:00:00\",\"2005-01-05T21:00:00\",\"2005-01-05T22:00:00\",\"2005-01-05T23:00:00\",\"2005-01-06T00:00:00\",\"2005-01-06T01:00:00\",\"2005-01-06T02:00:00\",\"2005-01-06T03:00:00\",\"2005-01-06T04:00:00\",\"2005-01-06T05:00:00\",\"2005-01-06T06:00:00\",\"2005-01-06T07:00:00\",\"2005-01-06T08:00:00\",\"2005-01-06T09:00:00\",\"2005-01-06T10:00:00\",\"2005-01-06T11:00:00\",\"2005-01-06T12:00:00\",\"2005-01-06T13:00:00\",\"2005-01-06T14:00:00\",\"2005-01-06T15:00:00\",\"2005-01-06T16:00:00\",\"2005-01-06T17:00:00\",\"2005-01-06T18:00:00\",\"2005-01-06T19:00:00\",\"2005-01-06T20:00:00\",\"2005-01-06T21:00:00\",\"2005-01-06T22:00:00\",\"2005-01-06T23:00:00\",\"2005-01-07T00:00:00\",\"2005-01-07T01:00:00\",\"2005-01-07T02:00:00\",\"2005-01-07T03:00:00\",\"2005-01-07T04:00:00\",\"2005-01-07T05:00:00\",\"2005-01-07T06:00:00\",\"2005-01-07T07:00:00\",\"2005-01-07T08:00:00\",\"2005-01-07T09:00:00\",\"2005-01-07T10:00:00\",\"2005-01-07T11:00:00\",\"2005-01-07T12:00:00\",\"2005-01-07T13:00:00\",\"2005-01-07T14:00:00\",\"2005-01-07T15:00:00\",\"2005-01-07T16:00:00\",\"2005-01-07T17:00:00\",\"2005-01-07T18:00:00\",\"2005-01-07T19:00:00\",\"2005-01-07T20:00:00\",\"2005-01-07T21:00:00\",\"2005-01-07T22:00:00\",\"2005-01-07T23:00:00\",\"2005-01-08T00:00:00\",\"2005-01-08T01:00:00\",\"2005-01-08T02:00:00\",\"2005-01-08T03:00:00\",\"2005-01-08T04:00:00\",\"2005-01-08T05:00:00\",\"2005-01-08T06:00:00\",\"2005-01-08T07:00:00\",\"2005-01-08T08:00:00\",\"2005-01-08T09:00:00\",\"2005-01-08T10:00:00\",\"2005-01-08T11:00:00\",\"2005-01-08T12:00:00\",\"2005-01-08T13:00:00\",\"2005-01-08T14:00:00\",\"2005-01-08T15:00:00\",\"2005-01-08T16:00:00\",\"2005-01-08T17:00:00\",\"2005-01-08T18:00:00\",\"2005-01-08T19:00:00\",\"2005-01-08T20:00:00\",\"2005-01-08T21:00:00\",\"2005-01-08T22:00:00\",\"2005-01-08T23:00:00\",\"2005-01-09T00:00:00\",\"2005-01-09T01:00:00\",\"2005-01-09T02:00:00\",\"2005-01-09T03:00:00\",\"2005-01-09T04:00:00\",\"2005-01-09T05:00:00\",\"2005-01-09T06:00:00\",\"2005-01-09T07:00:00\",\"2005-01-09T08:00:00\",\"2005-01-09T09:00:00\",\"2005-01-09T10:00:00\",\"2005-01-09T11:00:00\",\"2005-01-09T12:00:00\",\"2005-01-09T13:00:00\",\"2005-01-09T14:00:00\",\"2005-01-09T15:00:00\",\"2005-01-09T16:00:00\",\"2005-01-09T17:00:00\",\"2005-01-09T18:00:00\",\"2005-01-09T19:00:00\",\"2005-01-09T20:00:00\",\"2005-01-09T21:00:00\",\"2005-01-09T22:00:00\",\"2005-01-09T23:00:00\",\"2005-01-10T00:00:00\",\"2005-01-10T01:00:00\",\"2005-01-10T02:00:00\",\"2005-01-10T03:00:00\",\"2005-01-10T04:00:00\",\"2005-01-10T05:00:00\",\"2005-01-10T06:00:00\",\"2005-01-10T07:00:00\",\"2005-01-10T08:00:00\",\"2005-01-10T09:00:00\",\"2005-01-10T10:00:00\",\"2005-01-10T11:00:00\",\"2005-01-10T12:00:00\",\"2005-01-10T13:00:00\",\"2005-01-10T14:00:00\",\"2005-01-10T15:00:00\",\"2005-01-10T16:00:00\",\"2005-01-10T17:00:00\",\"2005-01-10T18:00:00\",\"2005-01-10T19:00:00\",\"2005-01-10T20:00:00\",\"2005-01-10T21:00:00\",\"2005-01-10T22:00:00\",\"2005-01-10T23:00:00\",\"2005-01-11T00:00:00\",\"2005-01-11T01:00:00\",\"2005-01-11T02:00:00\",\"2005-01-11T03:00:00\",\"2005-01-11T04:00:00\",\"2005-01-11T05:00:00\",\"2005-01-11T06:00:00\",\"2005-01-11T07:00:00\",\"2005-01-11T08:00:00\",\"2005-01-11T09:00:00\",\"2005-01-11T10:00:00\",\"2005-01-11T11:00:00\",\"2005-01-11T12:00:00\",\"2005-01-11T13:00:00\",\"2005-01-11T14:00:00\",\"2005-01-11T15:00:00\",\"2005-01-11T16:00:00\",\"2005-01-11T17:00:00\",\"2005-01-11T18:00:00\",\"2005-01-11T19:00:00\",\"2005-01-11T20:00:00\",\"2005-01-11T21:00:00\",\"2005-01-11T22:00:00\",\"2005-01-11T23:00:00\",\"2005-01-12T00:00:00\",\"2005-01-12T01:00:00\",\"2005-01-12T02:00:00\",\"2005-01-12T03:00:00\",\"2005-01-12T04:00:00\",\"2005-01-12T05:00:00\",\"2005-01-12T06:00:00\",\"2005-01-12T07:00:00\",\"2005-01-12T08:00:00\",\"2005-01-12T09:00:00\",\"2005-01-12T10:00:00\",\"2005-01-12T11:00:00\",\"2005-01-12T12:00:00\",\"2005-01-12T13:00:00\",\"2005-01-12T14:00:00\",\"2005-01-12T15:00:00\",\"2005-01-12T16:00:00\",\"2005-01-12T17:00:00\",\"2005-01-12T18:00:00\",\"2005-01-12T19:00:00\",\"2005-01-12T20:00:00\",\"2005-01-12T21:00:00\",\"2005-01-12T22:00:00\",\"2005-01-12T23:00:00\",\"2005-01-13T00:00:00\",\"2005-01-13T01:00:00\",\"2005-01-13T02:00:00\",\"2005-01-13T03:00:00\",\"2005-01-13T04:00:00\",\"2005-01-13T05:00:00\",\"2005-01-13T06:00:00\",\"2005-01-13T07:00:00\",\"2005-01-13T08:00:00\",\"2005-01-13T09:00:00\",\"2005-01-13T10:00:00\",\"2005-01-13T11:00:00\",\"2005-01-13T12:00:00\",\"2005-01-13T13:00:00\",\"2005-01-13T14:00:00\",\"2005-01-13T15:00:00\",\"2005-01-13T16:00:00\",\"2005-01-13T17:00:00\",\"2005-01-13T18:00:00\",\"2005-01-13T19:00:00\",\"2005-01-13T20:00:00\",\"2005-01-13T21:00:00\",\"2005-01-13T22:00:00\",\"2005-01-13T23:00:00\",\"2005-01-14T00:00:00\",\"2005-01-14T01:00:00\",\"2005-01-14T02:00:00\",\"2005-01-14T03:00:00\",\"2005-01-14T04:00:00\",\"2005-01-14T05:00:00\",\"2005-01-14T06:00:00\",\"2005-01-14T07:00:00\",\"2005-01-14T08:00:00\",\"2005-01-14T09:00:00\",\"2005-01-14T10:00:00\",\"2005-01-14T11:00:00\",\"2005-01-14T12:00:00\",\"2005-01-14T13:00:00\",\"2005-01-14T14:00:00\",\"2005-01-14T15:00:00\",\"2005-01-14T16:00:00\",\"2005-01-14T17:00:00\",\"2005-01-14T18:00:00\",\"2005-01-14T19:00:00\",\"2005-01-14T20:00:00\",\"2005-01-14T21:00:00\",\"2005-01-14T22:00:00\",\"2005-01-14T23:00:00\",\"2005-01-15T00:00:00\",\"2005-01-15T01:00:00\",\"2005-01-15T02:00:00\",\"2005-01-15T03:00:00\",\"2005-01-15T04:00:00\",\"2005-01-15T05:00:00\",\"2005-01-15T06:00:00\",\"2005-01-15T07:00:00\",\"2005-01-15T08:00:00\",\"2005-01-15T09:00:00\",\"2005-01-15T10:00:00\",\"2005-01-15T11:00:00\",\"2005-01-15T12:00:00\",\"2005-01-15T13:00:00\",\"2005-01-15T14:00:00\",\"2005-01-15T15:00:00\",\"2005-01-15T16:00:00\",\"2005-01-15T17:00:00\",\"2005-01-15T18:00:00\",\"2005-01-15T19:00:00\",\"2005-01-15T20:00:00\",\"2005-01-15T21:00:00\",\"2005-01-15T22:00:00\",\"2005-01-15T23:00:00\",\"2005-01-16T00:00:00\",\"2005-01-16T01:00:00\",\"2005-01-16T02:00:00\",\"2005-01-16T03:00:00\",\"2005-01-16T04:00:00\",\"2005-01-16T05:00:00\",\"2005-01-16T06:00:00\",\"2005-01-16T07:00:00\",\"2005-01-16T08:00:00\",\"2005-01-16T09:00:00\",\"2005-01-16T10:00:00\",\"2005-01-16T11:00:00\",\"2005-01-16T12:00:00\",\"2005-01-16T13:00:00\",\"2005-01-16T14:00:00\",\"2005-01-16T15:00:00\",\"2005-01-16T16:00:00\",\"2005-01-16T17:00:00\",\"2005-01-16T18:00:00\",\"2005-01-16T19:00:00\",\"2005-01-16T20:00:00\",\"2005-01-16T21:00:00\",\"2005-01-16T22:00:00\",\"2005-01-16T23:00:00\",\"2005-01-17T00:00:00\",\"2005-01-17T01:00:00\",\"2005-01-17T02:00:00\",\"2005-01-17T03:00:00\",\"2005-01-17T04:00:00\",\"2005-01-17T05:00:00\",\"2005-01-17T06:00:00\",\"2005-01-17T07:00:00\",\"2005-01-17T08:00:00\",\"2005-01-17T09:00:00\",\"2005-01-17T10:00:00\",\"2005-01-17T11:00:00\",\"2005-01-17T12:00:00\",\"2005-01-17T13:00:00\",\"2005-01-17T14:00:00\",\"2005-01-17T15:00:00\",\"2005-01-17T16:00:00\",\"2005-01-17T17:00:00\",\"2005-01-17T18:00:00\",\"2005-01-17T19:00:00\",\"2005-01-17T20:00:00\",\"2005-01-17T21:00:00\",\"2005-01-17T22:00:00\",\"2005-01-17T23:00:00\",\"2005-01-18T00:00:00\",\"2005-01-18T01:00:00\",\"2005-01-18T02:00:00\",\"2005-01-18T03:00:00\",\"2005-01-18T04:00:00\",\"2005-01-18T05:00:00\",\"2005-01-18T06:00:00\",\"2005-01-18T07:00:00\",\"2005-01-18T08:00:00\",\"2005-01-18T09:00:00\",\"2005-01-18T10:00:00\",\"2005-01-18T11:00:00\",\"2005-01-18T12:00:00\",\"2005-01-18T13:00:00\",\"2005-01-18T14:00:00\",\"2005-01-18T15:00:00\",\"2005-01-18T16:00:00\",\"2005-01-18T17:00:00\",\"2005-01-18T18:00:00\",\"2005-01-18T19:00:00\",\"2005-01-18T20:00:00\",\"2005-01-18T21:00:00\",\"2005-01-18T22:00:00\",\"2005-01-18T23:00:00\",\"2005-01-19T00:00:00\",\"2005-01-19T01:00:00\",\"2005-01-19T02:00:00\",\"2005-01-19T03:00:00\",\"2005-01-19T04:00:00\",\"2005-01-19T05:00:00\",\"2005-01-19T06:00:00\",\"2005-01-19T07:00:00\",\"2005-01-19T08:00:00\",\"2005-01-19T09:00:00\",\"2005-01-19T10:00:00\",\"2005-01-19T11:00:00\",\"2005-01-19T12:00:00\",\"2005-01-19T13:00:00\",\"2005-01-19T14:00:00\",\"2005-01-19T15:00:00\",\"2005-01-19T16:00:00\",\"2005-01-19T17:00:00\",\"2005-01-19T18:00:00\",\"2005-01-19T19:00:00\",\"2005-01-19T20:00:00\",\"2005-01-19T21:00:00\",\"2005-01-19T22:00:00\",\"2005-01-19T23:00:00\",\"2005-01-20T00:00:00\",\"2005-01-20T01:00:00\",\"2005-01-20T02:00:00\",\"2005-01-20T03:00:00\",\"2005-01-20T04:00:00\",\"2005-01-20T05:00:00\",\"2005-01-20T06:00:00\",\"2005-01-20T07:00:00\",\"2005-01-20T08:00:00\",\"2005-01-20T09:00:00\",\"2005-01-20T10:00:00\",\"2005-01-20T11:00:00\",\"2005-01-20T12:00:00\",\"2005-01-20T13:00:00\",\"2005-01-20T14:00:00\",\"2005-01-20T15:00:00\",\"2005-01-20T16:00:00\",\"2005-01-20T17:00:00\",\"2005-01-20T18:00:00\",\"2005-01-20T19:00:00\",\"2005-01-20T20:00:00\",\"2005-01-20T21:00:00\",\"2005-01-20T22:00:00\",\"2005-01-20T23:00:00\",\"2005-01-21T00:00:00\",\"2005-01-21T01:00:00\",\"2005-01-21T02:00:00\",\"2005-01-21T03:00:00\",\"2005-01-21T04:00:00\",\"2005-01-21T05:00:00\",\"2005-01-21T06:00:00\",\"2005-01-21T07:00:00\",\"2005-01-21T08:00:00\",\"2005-01-21T09:00:00\",\"2005-01-21T10:00:00\",\"2005-01-21T11:00:00\",\"2005-01-21T12:00:00\",\"2005-01-21T13:00:00\",\"2005-01-21T14:00:00\",\"2005-01-21T15:00:00\",\"2005-01-21T16:00:00\",\"2005-01-21T17:00:00\",\"2005-01-21T18:00:00\",\"2005-01-21T19:00:00\",\"2005-01-21T20:00:00\",\"2005-01-21T21:00:00\",\"2005-01-21T22:00:00\",\"2005-01-21T23:00:00\",\"2005-01-22T00:00:00\",\"2005-01-22T01:00:00\",\"2005-01-22T02:00:00\",\"2005-01-22T03:00:00\",\"2005-01-22T04:00:00\",\"2005-01-22T05:00:00\",\"2005-01-22T06:00:00\",\"2005-01-22T07:00:00\",\"2005-01-22T08:00:00\",\"2005-01-22T09:00:00\",\"2005-01-22T10:00:00\",\"2005-01-22T11:00:00\",\"2005-01-22T12:00:00\",\"2005-01-22T13:00:00\",\"2005-01-22T14:00:00\",\"2005-01-22T15:00:00\",\"2005-01-22T16:00:00\",\"2005-01-22T17:00:00\",\"2005-01-22T18:00:00\",\"2005-01-22T19:00:00\",\"2005-01-22T20:00:00\",\"2005-01-22T21:00:00\",\"2005-01-22T22:00:00\",\"2005-01-22T23:00:00\",\"2005-01-23T00:00:00\",\"2005-01-23T01:00:00\",\"2005-01-23T02:00:00\",\"2005-01-23T03:00:00\",\"2005-01-23T04:00:00\",\"2005-01-23T05:00:00\",\"2005-01-23T06:00:00\",\"2005-01-23T07:00:00\",\"2005-01-23T08:00:00\",\"2005-01-23T09:00:00\",\"2005-01-23T10:00:00\",\"2005-01-23T11:00:00\",\"2005-01-23T12:00:00\",\"2005-01-23T13:00:00\",\"2005-01-23T14:00:00\",\"2005-01-23T15:00:00\",\"2005-01-23T16:00:00\",\"2005-01-23T17:00:00\",\"2005-01-23T18:00:00\",\"2005-01-23T19:00:00\",\"2005-01-23T20:00:00\",\"2005-01-23T21:00:00\",\"2005-01-23T22:00:00\",\"2005-01-23T23:00:00\",\"2005-01-24T00:00:00\",\"2005-01-24T01:00:00\",\"2005-01-24T02:00:00\",\"2005-01-24T03:00:00\",\"2005-01-24T04:00:00\",\"2005-01-24T05:00:00\",\"2005-01-24T06:00:00\",\"2005-01-24T07:00:00\",\"2005-01-24T08:00:00\",\"2005-01-24T09:00:00\",\"2005-01-24T10:00:00\",\"2005-01-24T11:00:00\",\"2005-01-24T12:00:00\",\"2005-01-24T13:00:00\",\"2005-01-24T14:00:00\",\"2005-01-24T15:00:00\",\"2005-01-24T16:00:00\",\"2005-01-24T17:00:00\",\"2005-01-24T18:00:00\",\"2005-01-24T19:00:00\",\"2005-01-24T20:00:00\",\"2005-01-24T21:00:00\",\"2005-01-24T22:00:00\",\"2005-01-24T23:00:00\",\"2005-01-25T00:00:00\",\"2005-01-25T01:00:00\",\"2005-01-25T02:00:00\",\"2005-01-25T03:00:00\",\"2005-01-25T04:00:00\",\"2005-01-25T05:00:00\",\"2005-01-25T06:00:00\",\"2005-01-25T07:00:00\",\"2005-01-25T08:00:00\",\"2005-01-25T09:00:00\",\"2005-01-25T10:00:00\",\"2005-01-25T11:00:00\",\"2005-01-25T12:00:00\",\"2005-01-25T13:00:00\",\"2005-01-25T14:00:00\",\"2005-01-25T15:00:00\",\"2005-01-25T16:00:00\",\"2005-01-25T17:00:00\",\"2005-01-25T18:00:00\",\"2005-01-25T19:00:00\",\"2005-01-25T20:00:00\",\"2005-01-25T21:00:00\",\"2005-01-25T22:00:00\",\"2005-01-25T23:00:00\",\"2005-01-26T00:00:00\",\"2005-01-26T01:00:00\",\"2005-01-26T02:00:00\",\"2005-01-26T03:00:00\",\"2005-01-26T04:00:00\",\"2005-01-26T05:00:00\",\"2005-01-26T06:00:00\",\"2005-01-26T07:00:00\",\"2005-01-26T08:00:00\",\"2005-01-26T09:00:00\",\"2005-01-26T10:00:00\",\"2005-01-26T11:00:00\",\"2005-01-26T12:00:00\",\"2005-01-26T13:00:00\",\"2005-01-26T14:00:00\",\"2005-01-26T15:00:00\",\"2005-01-26T16:00:00\",\"2005-01-26T17:00:00\",\"2005-01-26T18:00:00\",\"2005-01-26T19:00:00\",\"2005-01-26T20:00:00\",\"2005-01-26T21:00:00\",\"2005-01-26T22:00:00\",\"2005-01-26T23:00:00\",\"2005-01-27T00:00:00\",\"2005-01-27T01:00:00\",\"2005-01-27T02:00:00\",\"2005-01-27T03:00:00\",\"2005-01-27T04:00:00\",\"2005-01-27T05:00:00\",\"2005-01-27T06:00:00\",\"2005-01-27T07:00:00\",\"2005-01-27T08:00:00\",\"2005-01-27T09:00:00\",\"2005-01-27T10:00:00\",\"2005-01-27T11:00:00\",\"2005-01-27T12:00:00\",\"2005-01-27T13:00:00\",\"2005-01-27T14:00:00\",\"2005-01-27T15:00:00\",\"2005-01-27T16:00:00\",\"2005-01-27T17:00:00\",\"2005-01-27T18:00:00\",\"2005-01-27T19:00:00\",\"2005-01-27T20:00:00\",\"2005-01-27T21:00:00\",\"2005-01-27T22:00:00\",\"2005-01-27T23:00:00\",\"2005-01-28T00:00:00\",\"2005-01-28T01:00:00\",\"2005-01-28T02:00:00\",\"2005-01-28T03:00:00\",\"2005-01-28T04:00:00\",\"2005-01-28T05:00:00\",\"2005-01-28T06:00:00\",\"2005-01-28T07:00:00\",\"2005-01-28T08:00:00\",\"2005-01-28T09:00:00\",\"2005-01-28T10:00:00\",\"2005-01-28T11:00:00\",\"2005-01-28T12:00:00\",\"2005-01-28T13:00:00\",\"2005-01-28T14:00:00\",\"2005-01-28T15:00:00\",\"2005-01-28T16:00:00\",\"2005-01-28T17:00:00\",\"2005-01-28T18:00:00\",\"2005-01-28T19:00:00\",\"2005-01-28T20:00:00\",\"2005-01-28T21:00:00\",\"2005-01-28T22:00:00\",\"2005-01-28T23:00:00\",\"2005-01-29T00:00:00\",\"2005-01-29T01:00:00\",\"2005-01-29T02:00:00\",\"2005-01-29T03:00:00\",\"2005-01-29T04:00:00\",\"2005-01-29T05:00:00\",\"2005-01-29T06:00:00\",\"2005-01-29T07:00:00\",\"2005-01-29T08:00:00\",\"2005-01-29T09:00:00\",\"2005-01-29T10:00:00\",\"2005-01-29T11:00:00\",\"2005-01-29T12:00:00\",\"2005-01-29T13:00:00\",\"2005-01-29T14:00:00\",\"2005-01-29T15:00:00\",\"2005-01-29T16:00:00\",\"2005-01-29T17:00:00\",\"2005-01-29T18:00:00\",\"2005-01-29T19:00:00\",\"2005-01-29T20:00:00\",\"2005-01-29T21:00:00\",\"2005-01-29T22:00:00\",\"2005-01-29T23:00:00\",\"2005-01-30T00:00:00\",\"2005-01-30T01:00:00\",\"2005-01-30T02:00:00\",\"2005-01-30T03:00:00\",\"2005-01-30T04:00:00\",\"2005-01-30T05:00:00\",\"2005-01-30T06:00:00\",\"2005-01-30T07:00:00\",\"2005-01-30T08:00:00\",\"2005-01-30T09:00:00\",\"2005-01-30T10:00:00\",\"2005-01-30T11:00:00\",\"2005-01-30T12:00:00\",\"2005-01-30T13:00:00\",\"2005-01-30T14:00:00\",\"2005-01-30T15:00:00\",\"2005-01-30T16:00:00\",\"2005-01-30T17:00:00\",\"2005-01-30T18:00:00\",\"2005-01-30T19:00:00\",\"2005-01-30T20:00:00\",\"2005-01-30T21:00:00\",\"2005-01-30T22:00:00\",\"2005-01-30T23:00:00\",\"2005-01-31T00:00:00\",\"2005-01-31T01:00:00\",\"2005-01-31T02:00:00\",\"2005-01-31T03:00:00\",\"2005-01-31T04:00:00\",\"2005-01-31T05:00:00\",\"2005-01-31T06:00:00\",\"2005-01-31T07:00:00\",\"2005-01-31T08:00:00\",\"2005-01-31T09:00:00\",\"2005-01-31T10:00:00\",\"2005-01-31T11:00:00\",\"2005-01-31T12:00:00\",\"2005-01-31T13:00:00\",\"2005-01-31T14:00:00\",\"2005-01-31T15:00:00\",\"2005-01-31T16:00:00\",\"2005-01-31T17:00:00\",\"2005-01-31T18:00:00\",\"2005-01-31T19:00:00\",\"2005-01-31T20:00:00\",\"2005-01-31T21:00:00\",\"2005-01-31T22:00:00\",\"2005-01-31T23:00:00\"],\"xaxis\":\"x\",\"y\":[12892.0,12316.0,11890.0,11579.0,11461.0,11472.0,11571.0,11898.0,12209.0,12396.0,12997.0,13455.0,13617.0,13665.0,13446.0,13340.0,13159.0,13449.0,14319.0,14536.0,14454.0,14248.0,13970.0,13558.0,12849.0,12291.0,11917.0,11681.0,11613.0,11685.0,11936.0,12342.0,12986.0,13485.0,13909.0,13840.0,13914.0,13991.0,13885.0,13818.0,13695.0,14026.0,15073.0,15269.0,15265.0,14916.0,14521.0,13805.0,13080.0,12566.0,12312.0,12179.0,12210.0,12610.0,13342.0,15021.0,16101.0,16225.0,16291.0,16440.0,16308.0,16242.0,16111.0,15992.0,15974.0,16098.0,16829.0,17097.0,16938.0,16638.0,16148.0,15185.0,14163.0,13421.0,12939.0,12764.0,12645.0,12942.0,13785.0,15375.0,16570.0,16474.0,16408.0,16494.0,16599.0,16428.0,16440.0,16266.0,16094.0,16471.0,17173.0,17434.0,17282.0,17120.0,16840.0,15876.0,14781.0,13994.0,13619.0,13369.0,13373.0,13599.0,14436.0,16068.0,17101.0,17132.0,17237.0,17398.0,17420.0,17450.0,17294.0,17184.0,16942.0,17262.0,17872.0,18061.0,17860.0,17394.0,16783.0,15816.0,14860.0,13813.0,13444.0,13136.0,13027.0,13251.0,13984.0,15342.0,16169.0,16065.0,16109.0,16205.0,16269.0,16194.0,16223.0,16081.0,15977.0,16309.0,17041.0,17492.0,17446.0,17342.0,17028.0,16044.0,15106.0,14471.0,14107.0,13946.0,13961.0,14198.0,15011.0,16459.0,17368.0,17339.0,17303.0,17377.0,17236.0,17117.0,16911.0,16769.0,16553.0,16692.0,17372.0,17474.0,17188.0,17039.0,16738.0,15944.0,15086.0,14347.0,13991.0,13804.0,13634.0,13512.0,13721.0,14064.0,14725.0,15349.0,15813.0,16156.0,16123.0,15809.0,15600.0,15325.0,15212.0,15417.0,16085.0,16472.0,16275.0,16073.0,15658.0,15087.0,14546.0,13862.0,13473.0,13272.0,13212.0,13226.0,13425.0,13996.0,14611.0,15122.0,15326.0,15088.0,14783.0,14736.0,14291.0,14128.0,13896.0,14172.0,15132.0,16045.0,16252.0,16148.0,15854.0,15232.0,14555.0,14135.0,13819.0,13863.0,13866.0,14169.0,15250.0,16759.0,17511.0,17552.0,17372.0,17295.0,17116.0,16957.0,16679.0,16457.0,16351.0,16527.0,17258.0,17815.0,17797.0,17617.0,17278.0,16334.0,15298.0,14780.0,14242.0,14088.0,14039.0,14284.0,15173.0,16794.0,17706.0,17621.0,17322.0,17409.0,17223.0,17237.0,17007.0,17032.0,16711.0,17040.0,17480.0,17822.0,17679.0,17380.0,16997.0,15886.0,14891.0,13967.0,13576.0,13380.0,13265.0,13379.0,14259.0,15622.0,16530.0,16588.0,16387.0,16219.0,16061.0,15896.0,15793.0,15604.0,15315.0,15336.0,16108.0,16554.0,16452.0,16193.0,15824.0,14866.0,13551.0,12744.0,12406.0,12279.0,12271.0,12419.0,13264.0,14895.0,16087.0,15955.0,15923.0,15840.0,15766.0,15759.0,15684.0,15558.0,15546.0,15731.0,16499.0,16845.0,16863.0,16819.0,16388.0,15528.0,14661.0,13948.0,13542.0,13444.0,13467.0,13699.0,14757.0,16370.0,17721.0,17865.0,18012.0,18231.0,18081.0,17939.0,17740.0,17318.0,17148.0,17283.0,18017.0,18690.0,18483.0,18246.0,18040.0,17305.0,16588.0,15879.0,15530.0,15452.0,15370.0,15541.0,15926.0,16456.0,17197.0,17720.0,18039.0,17754.0,17154.0,16699.0,16219.0,15740.0,15537.0,15905.0,16744.0,17616.0,17429.0,17410.0,17092.0,16536.0,15838.0,15207.0,15085.0,14801.0,14891.0,14980.0,15257.0,15679.0,16416.0,16939.0,17195.0,16876.0,16736.0,16711.0,16672.0,16562.0,16806.0,17178.0,18001.0,18801.0,18833.0,18803.0,18531.0,18130.0,17716.0,17280.0,17179.0,17349.0,17458.0,17966.0,18707.0,19919.0,20966.0,21263.0,21415.0,21221.0,20928.0,20674.0,20335.0,20129.0,19957.0,20305.0,21304.0,22127.0,22169.0,21918.0,21613.0,20801.0,20066.0,19329.0,19207.0,19127.0,19261.0,19538.0,20598.0,22134.0,22940.0,22886.0,22342.0,21744.0,21074.0,20675.0,20176.0,19767.0,19442.0,19817.0,20810.0,21948.0,22104.0,21931.0,21691.0,20743.0,19903.0,19140.0,18856.0,18465.0,18328.0,18491.0,19274.0,20627.0,21309.0,21073.0,20997.0,21019.0,20807.0,20583.0,20281.0,19908.0,19634.0,19838.0,20334.0,20650.0,20405.0,19942.0,19452.0,18503.0,17436.0,16640.0,16222.0,16048.0,16055.0,16299.0,17129.0,18766.0,19650.0,19739.0,19741.0,19676.0,19400.0,19326.0,19138.0,18964.0,18882.0,19096.0,19896.0,20636.0,20641.0,20402.0,19846.0,18854.0,17843.0,17145.0,16777.0,16632.0,16629.0,16868.0,17659.0,19226.0,20103.0,20241.0,20163.0,20087.0,19793.0,19559.0,19327.0,18977.0,18814.0,18803.0,19582.0,20358.0,20330.0,20103.0,19742.0,19015.0,17974.0,17293.0,16769.0,16549.0,16448.0,16429.0,16675.0,17183.0,17903.0,18306.0,18830.0,19086.0,19085.0,19013.0,18820.0,18408.0,18361.0,18668.0,19356.0,19965.0,19986.0,19790.0,19340.0,18876.0,18283.0,17906.0,17807.0,17732.0,17792.0,18221.0,18437.0,18931.0,19539.0,20009.0,20211.0,20133.0,19845.0,19424.0,18980.0,18597.0,18527.0,18695.0,19659.0,20803.0,21093.0,21200.0,20836.0,20327.0,19834.0,19408.0,19424.0,19386.0,19498.0,19943.0,20823.0,21965.0,22652.0,22639.0,22345.0,22075.0,21596.0,21133.0,20850.0,20288.0,19869.0,19631.0,20193.0,20934.0,20946.0,20688.0,20165.0,19242.0,18216.0,17572.0,17302.0,17057.0,17033.0,17347.0,18322.0,19862.0,20686.0,20458.0,20015.0,19449.0,18758.0,18091.0,17696.0,17256.0,16851.0,17131.0,17700.0,18902.0,19197.0,18953.0,18647.0,17842.0,16738.0,16130.0,15671.0,15443.0,15384.0,15510.0,16238.0,17865.0,18737.0,18516.0,18383.0,18261.0,17996.0,17909.0,17892.0,17725.0,17734.0,17900.0,18585.0,19472.0,19351.0,19181.0,18949.0,18081.0,17238.0,16767.0,16482.0,16429.0,16557.0,16895.0,18205.0,19954.0,21086.0,20989.0,20487.0,20262.0,19701.0,19269.0,18832.0,18615.0,18271.0,18430.0,19394.0,20778.0,20980.0,21002.0,20696.0,19957.0,19016.0,18493.0,18348.0,18354.0,18360.0,18633.0,19659.0,21482.0,22280.0,22063.0,21359.0,20843.0,20001.0,19479.0,18948.0,18516.0,18234.0,18458.0,18956.0,19589.0,19655.0,19406.0,19074.0,18382.0,17588.0,16905.0,16497.0,16272.0,16279.0,16430.0,16697.0,17244.0,17875.0,18479.0,18620.0,18677.0,18526.0,18164.0,18053.0,18005.0,17785.0,17907.0,18246.0,18754.0,18517.0,18007.0,17514.0,16861.0,16102.0,15475.0,15000.0,14766.0,14802.0,14806.0,14920.0,15253.0,15840.0,16262.0,16610.0,16665.0,16483.0,16415.0,16184.0,15723.0,15544.0,15785.0,16539.0,17510.0,17724.0,17687.0,17273.0,16738.0,16213.0,15909.0,15699.0,15787.0,15857.0,16345.0,17305.0,19077.0,20089.0,20066.0,19729.0,19182.0,18577.0,17935.0,17490.0,17190.0,16976.0,17150.0,17755.0,18726.0,18993.0,18870.0,18502.0,17648.0],\"yaxis\":\"y\",\"type\":\"scatter\"}],                        {\"template\":{\"data\":{\"histogram2dcontour\":[{\"type\":\"histogram2dcontour\",\"colorbar\":{\"outlinewidth\":0,\"ticks\":\"\"},\"colorscale\":[[0.0,\"#0d0887\"],[0.1111111111111111,\"#46039f\"],[0.2222222222222222,\"#7201a8\"],[0.3333333333333333,\"#9c179e\"],[0.4444444444444444,\"#bd3786\"],[0.5555555555555556,\"#d8576b\"],[0.6666666666666666,\"#ed7953\"],[0.7777777777777778,\"#fb9f3a\"],[0.8888888888888888,\"#fdca26\"],[1.0,\"#f0f921\"]]}],\"choropleth\":[{\"type\":\"choropleth\",\"colorbar\":{\"outlinewidth\":0,\"ticks\":\"\"}}],\"histogram2d\":[{\"type\":\"histogram2d\",\"colorbar\":{\"outlinewidth\":0,\"ticks\":\"\"},\"colorscale\":[[0.0,\"#0d0887\"],[0.1111111111111111,\"#46039f\"],[0.2222222222222222,\"#7201a8\"],[0.3333333333333333,\"#9c179e\"],[0.4444444444444444,\"#bd3786\"],[0.5555555555555556,\"#d8576b\"],[0.6666666666666666,\"#ed7953\"],[0.7777777777777778,\"#fb9f3a\"],[0.8888888888888888,\"#fdca26\"],[1.0,\"#f0f921\"]]}],\"heatmap\":[{\"type\":\"heatmap\",\"colorbar\":{\"outlinewidth\":0,\"ticks\":\"\"},\"colorscale\":[[0.0,\"#0d0887\"],[0.1111111111111111,\"#46039f\"],[0.2222222222222222,\"#7201a8\"],[0.3333333333333333,\"#9c179e\"],[0.4444444444444444,\"#bd3786\"],[0.5555555555555556,\"#d8576b\"],[0.6666666666666666,\"#ed7953\"],[0.7777777777777778,\"#fb9f3a\"],[0.8888888888888888,\"#fdca26\"],[1.0,\"#f0f921\"]]}],\"heatmapgl\":[{\"type\":\"heatmapgl\",\"colorbar\":{\"outlinewidth\":0,\"ticks\":\"\"},\"colorscale\":[[0.0,\"#0d0887\"],[0.1111111111111111,\"#46039f\"],[0.2222222222222222,\"#7201a8\"],[0.3333333333333333,\"#9c179e\"],[0.4444444444444444,\"#bd3786\"],[0.5555555555555556,\"#d8576b\"],[0.6666666666666666,\"#ed7953\"],[0.7777777777777778,\"#fb9f3a\"],[0.8888888888888888,\"#fdca26\"],[1.0,\"#f0f921\"]]}],\"contourcarpet\":[{\"type\":\"contourcarpet\",\"colorbar\":{\"outlinewidth\":0,\"ticks\":\"\"}}],\"contour\":[{\"type\":\"contour\",\"colorbar\":{\"outlinewidth\":0,\"ticks\":\"\"},\"colorscale\":[[0.0,\"#0d0887\"],[0.1111111111111111,\"#46039f\"],[0.2222222222222222,\"#7201a8\"],[0.3333333333333333,\"#9c179e\"],[0.4444444444444444,\"#bd3786\"],[0.5555555555555556,\"#d8576b\"],[0.6666666666666666,\"#ed7953\"],[0.7777777777777778,\"#fb9f3a\"],[0.8888888888888888,\"#fdca26\"],[1.0,\"#f0f921\"]]}],\"surface\":[{\"type\":\"surface\",\"colorbar\":{\"outlinewidth\":0,\"ticks\":\"\"},\"colorscale\":[[0.0,\"#0d0887\"],[0.1111111111111111,\"#46039f\"],[0.2222222222222222,\"#7201a8\"],[0.3333333333333333,\"#9c179e\"],[0.4444444444444444,\"#bd3786\"],[0.5555555555555556,\"#d8576b\"],[0.6666666666666666,\"#ed7953\"],[0.7777777777777778,\"#fb9f3a\"],[0.8888888888888888,\"#fdca26\"],[1.0,\"#f0f921\"]]}],\"mesh3d\":[{\"type\":\"mesh3d\",\"colorbar\":{\"outlinewidth\":0,\"ticks\":\"\"}}],\"scatter\":[{\"fillpattern\":{\"fillmode\":\"overlay\",\"size\":10,\"solidity\":0.2},\"type\":\"scatter\"}],\"parcoords\":[{\"type\":\"parcoords\",\"line\":{\"colorbar\":{\"outlinewidth\":0,\"ticks\":\"\"}}}],\"scatterpolargl\":[{\"type\":\"scatterpolargl\",\"marker\":{\"colorbar\":{\"outlinewidth\":0,\"ticks\":\"\"}}}],\"bar\":[{\"error_x\":{\"color\":\"#2a3f5f\"},\"error_y\":{\"color\":\"#2a3f5f\"},\"marker\":{\"line\":{\"color\":\"#E5ECF6\",\"width\":0.5},\"pattern\":{\"fillmode\":\"overlay\",\"size\":10,\"solidity\":0.2}},\"type\":\"bar\"}],\"scattergeo\":[{\"type\":\"scattergeo\",\"marker\":{\"colorbar\":{\"outlinewidth\":0,\"ticks\":\"\"}}}],\"scatterpolar\":[{\"type\":\"scatterpolar\",\"marker\":{\"colorbar\":{\"outlinewidth\":0,\"ticks\":\"\"}}}],\"histogram\":[{\"marker\":{\"pattern\":{\"fillmode\":\"overlay\",\"size\":10,\"solidity\":0.2}},\"type\":\"histogram\"}],\"scattergl\":[{\"type\":\"scattergl\",\"marker\":{\"colorbar\":{\"outlinewidth\":0,\"ticks\":\"\"}}}],\"scatter3d\":[{\"type\":\"scatter3d\",\"line\":{\"colorbar\":{\"outlinewidth\":0,\"ticks\":\"\"}},\"marker\":{\"colorbar\":{\"outlinewidth\":0,\"ticks\":\"\"}}}],\"scattermapbox\":[{\"type\":\"scattermapbox\",\"marker\":{\"colorbar\":{\"outlinewidth\":0,\"ticks\":\"\"}}}],\"scatterternary\":[{\"type\":\"scatterternary\",\"marker\":{\"colorbar\":{\"outlinewidth\":0,\"ticks\":\"\"}}}],\"scattercarpet\":[{\"type\":\"scattercarpet\",\"marker\":{\"colorbar\":{\"outlinewidth\":0,\"ticks\":\"\"}}}],\"carpet\":[{\"aaxis\":{\"endlinecolor\":\"#2a3f5f\",\"gridcolor\":\"white\",\"linecolor\":\"white\",\"minorgridcolor\":\"white\",\"startlinecolor\":\"#2a3f5f\"},\"baxis\":{\"endlinecolor\":\"#2a3f5f\",\"gridcolor\":\"white\",\"linecolor\":\"white\",\"minorgridcolor\":\"white\",\"startlinecolor\":\"#2a3f5f\"},\"type\":\"carpet\"}],\"table\":[{\"cells\":{\"fill\":{\"color\":\"#EBF0F8\"},\"line\":{\"color\":\"white\"}},\"header\":{\"fill\":{\"color\":\"#C8D4E3\"},\"line\":{\"color\":\"white\"}},\"type\":\"table\"}],\"barpolar\":[{\"marker\":{\"line\":{\"color\":\"#E5ECF6\",\"width\":0.5},\"pattern\":{\"fillmode\":\"overlay\",\"size\":10,\"solidity\":0.2}},\"type\":\"barpolar\"}],\"pie\":[{\"automargin\":true,\"type\":\"pie\"}]},\"layout\":{\"autotypenumbers\":\"strict\",\"colorway\":[\"#636efa\",\"#EF553B\",\"#00cc96\",\"#ab63fa\",\"#FFA15A\",\"#19d3f3\",\"#FF6692\",\"#B6E880\",\"#FF97FF\",\"#FECB52\"],\"font\":{\"color\":\"#2a3f5f\"},\"hovermode\":\"closest\",\"hoverlabel\":{\"align\":\"left\"},\"paper_bgcolor\":\"white\",\"plot_bgcolor\":\"#E5ECF6\",\"polar\":{\"bgcolor\":\"#E5ECF6\",\"angularaxis\":{\"gridcolor\":\"white\",\"linecolor\":\"white\",\"ticks\":\"\"},\"radialaxis\":{\"gridcolor\":\"white\",\"linecolor\":\"white\",\"ticks\":\"\"}},\"ternary\":{\"bgcolor\":\"#E5ECF6\",\"aaxis\":{\"gridcolor\":\"white\",\"linecolor\":\"white\",\"ticks\":\"\"},\"baxis\":{\"gridcolor\":\"white\",\"linecolor\":\"white\",\"ticks\":\"\"},\"caxis\":{\"gridcolor\":\"white\",\"linecolor\":\"white\",\"ticks\":\"\"}},\"coloraxis\":{\"colorbar\":{\"outlinewidth\":0,\"ticks\":\"\"}},\"colorscale\":{\"sequential\":[[0.0,\"#0d0887\"],[0.1111111111111111,\"#46039f\"],[0.2222222222222222,\"#7201a8\"],[0.3333333333333333,\"#9c179e\"],[0.4444444444444444,\"#bd3786\"],[0.5555555555555556,\"#d8576b\"],[0.6666666666666666,\"#ed7953\"],[0.7777777777777778,\"#fb9f3a\"],[0.8888888888888888,\"#fdca26\"],[1.0,\"#f0f921\"]],\"sequentialminus\":[[0.0,\"#0d0887\"],[0.1111111111111111,\"#46039f\"],[0.2222222222222222,\"#7201a8\"],[0.3333333333333333,\"#9c179e\"],[0.4444444444444444,\"#bd3786\"],[0.5555555555555556,\"#d8576b\"],[0.6666666666666666,\"#ed7953\"],[0.7777777777777778,\"#fb9f3a\"],[0.8888888888888888,\"#fdca26\"],[1.0,\"#f0f921\"]],\"diverging\":[[0,\"#8e0152\"],[0.1,\"#c51b7d\"],[0.2,\"#de77ae\"],[0.3,\"#f1b6da\"],[0.4,\"#fde0ef\"],[0.5,\"#f7f7f7\"],[0.6,\"#e6f5d0\"],[0.7,\"#b8e186\"],[0.8,\"#7fbc41\"],[0.9,\"#4d9221\"],[1,\"#276419\"]]},\"xaxis\":{\"gridcolor\":\"white\",\"linecolor\":\"white\",\"ticks\":\"\",\"title\":{\"standoff\":15},\"zerolinecolor\":\"white\",\"automargin\":true,\"zerolinewidth\":2},\"yaxis\":{\"gridcolor\":\"white\",\"linecolor\":\"white\",\"ticks\":\"\",\"title\":{\"standoff\":15},\"zerolinecolor\":\"white\",\"automargin\":true,\"zerolinewidth\":2},\"scene\":{\"xaxis\":{\"backgroundcolor\":\"#E5ECF6\",\"gridcolor\":\"white\",\"linecolor\":\"white\",\"showbackground\":true,\"ticks\":\"\",\"zerolinecolor\":\"white\",\"gridwidth\":2},\"yaxis\":{\"backgroundcolor\":\"#E5ECF6\",\"gridcolor\":\"white\",\"linecolor\":\"white\",\"showbackground\":true,\"ticks\":\"\",\"zerolinecolor\":\"white\",\"gridwidth\":2},\"zaxis\":{\"backgroundcolor\":\"#E5ECF6\",\"gridcolor\":\"white\",\"linecolor\":\"white\",\"showbackground\":true,\"ticks\":\"\",\"zerolinecolor\":\"white\",\"gridwidth\":2}},\"shapedefaults\":{\"line\":{\"color\":\"#2a3f5f\"}},\"annotationdefaults\":{\"arrowcolor\":\"#2a3f5f\",\"arrowhead\":0,\"arrowwidth\":1},\"geo\":{\"bgcolor\":\"white\",\"landcolor\":\"#E5ECF6\",\"subunitcolor\":\"white\",\"showland\":true,\"showlakes\":true,\"lakecolor\":\"white\"},\"title\":{\"x\":0.05},\"mapbox\":{\"style\":\"light\"}}},\"xaxis\":{\"anchor\":\"y\",\"domain\":[0.0,1.0],\"title\":{\"text\":\"Date\"}},\"yaxis\":{\"anchor\":\"x\",\"domain\":[0.0,1.0],\"title\":{\"text\":\"Load (MW)\"}},\"legend\":{\"tracegroupgap\":0},\"title\":{\"text\":\"AEP Load - January 2005\"},\"showlegend\":true},                        {\"responsive\": true}                    ).then(function(){\n",
       "                            \n",
       "var gd = document.getElementById('b5b35fcd-1d4b-4ebd-8fb0-29cacb07f71d');\n",
       "var x = new MutationObserver(function (mutations, observer) {{\n",
       "        var display = window.getComputedStyle(gd).display;\n",
       "        if (!display || display === 'none') {{\n",
       "            console.log([gd, 'removed!']);\n",
       "            Plotly.purge(gd);\n",
       "            observer.disconnect();\n",
       "        }}\n",
       "}});\n",
       "\n",
       "// Listen for the removal of the full notebook cells\n",
       "var notebookContainer = gd.closest('#notebook-container');\n",
       "if (notebookContainer) {{\n",
       "    x.observe(notebookContainer, {childList: true});\n",
       "}}\n",
       "\n",
       "// Listen for the clearing of the current output cell\n",
       "var outputEl = gd.closest('.output');\n",
       "if (outputEl) {{\n",
       "    x.observe(outputEl, {childList: true});\n",
       "}}\n",
       "\n",
       "                        })                };                });            </script>        </div>"
      ]
     },
     "metadata": {},
     "output_type": "display_data"
    }
   ],
   "source": [
    "# Plot 3: One month of data (January 2005)\n",
    "month_data = df['2005-01-01':'2005-01-31'].reset_index()\n",
    "fig3 = px.line(month_data, x='Datetime', y='AEP_MW', title='AEP Load - January 2005',\n",
    "               labels={'AEP_MW': 'Load (MW)', 'Datetime': 'Date'})\n",
    "fig3.update_layout(showlegend=True)\n",
    "month_plot_html = os.path.join(PLOT_DIR, 'month_plot.html')\n",
    "fig3.write_html(month_plot_html)\n",
    "\n",
    "print(f\"Monthly plot saved as HTML at: {month_plot_html}\")\n",
    "fig3.show()"
   ]
  },
  {
   "cell_type": "code",
   "execution_count": null,
   "id": "5813cbb7-2c94-4f11-976d-5e38b5bffe32",
   "metadata": {},
   "outputs": [],
   "source": [
    "Inference: The load follows a consistent daily cycle with peaks around 6–7 PM, and a mid-month spike (e.g., Jan 15–20) \n",
    "suggests a possible cold snap or increased industrial activity,\n",
    "driving higher demand in mid-January."
   ]
  },
  {
   "cell_type": "code",
   "execution_count": 7,
   "id": "08d37a74-8b5e-4492-afc1-00634931b166",
   "metadata": {},
   "outputs": [
    {
     "data": {
      "application/vnd.plotly.v1+json": {
       "config": {
        "plotlyServerURL": "https://plot.ly"
       },
       "data": [
        {
         "hovertemplate": "Date=%{x}<br>Load (MW)=%{y}<extra></extra>",
         "legendgroup": "",
         "line": {
          "color": "#636efa",
          "dash": "solid"
         },
         "marker": {
          "symbol": "circle"
         },
         "mode": "lines",
         "name": "",
         "orientation": "v",
         "showlegend": false,
         "type": "scatter",
         "x": [
          "2005-07-25T00:00:00",
          "2005-07-25T01:00:00",
          "2005-07-25T02:00:00",
          "2005-07-25T03:00:00",
          "2005-07-25T04:00:00",
          "2005-07-25T05:00:00",
          "2005-07-25T06:00:00",
          "2005-07-25T07:00:00",
          "2005-07-25T08:00:00",
          "2005-07-25T09:00:00",
          "2005-07-25T10:00:00",
          "2005-07-25T11:00:00",
          "2005-07-25T12:00:00",
          "2005-07-25T13:00:00",
          "2005-07-25T14:00:00",
          "2005-07-25T15:00:00",
          "2005-07-25T16:00:00",
          "2005-07-25T17:00:00",
          "2005-07-25T18:00:00",
          "2005-07-25T19:00:00",
          "2005-07-25T20:00:00",
          "2005-07-25T21:00:00",
          "2005-07-25T22:00:00",
          "2005-07-25T23:00:00",
          "2005-07-26T00:00:00",
          "2005-07-26T01:00:00",
          "2005-07-26T02:00:00",
          "2005-07-26T03:00:00",
          "2005-07-26T04:00:00",
          "2005-07-26T05:00:00",
          "2005-07-26T06:00:00",
          "2005-07-26T07:00:00",
          "2005-07-26T08:00:00",
          "2005-07-26T09:00:00",
          "2005-07-26T10:00:00",
          "2005-07-26T11:00:00",
          "2005-07-26T12:00:00",
          "2005-07-26T13:00:00",
          "2005-07-26T14:00:00",
          "2005-07-26T15:00:00",
          "2005-07-26T16:00:00",
          "2005-07-26T17:00:00",
          "2005-07-26T18:00:00",
          "2005-07-26T19:00:00",
          "2005-07-26T20:00:00",
          "2005-07-26T21:00:00",
          "2005-07-26T22:00:00",
          "2005-07-26T23:00:00"
         ],
         "xaxis": "x",
         "y": [
          17828,
          16572,
          15778,
          15248,
          14907,
          14883,
          15408,
          16224,
          17252,
          18774,
          20199,
          21489,
          22363,
          23022,
          23558,
          23741,
          22942,
          22455,
          22107,
          21808,
          21317,
          21003,
          20801,
          19724,
          18105,
          16753,
          15709,
          15161,
          14732,
          14695,
          15039,
          15772,
          16847,
          18191,
          19649,
          21014,
          22058,
          22922,
          23470,
          23860,
          24015,
          23708,
          23543,
          22910,
          22483,
          21982,
          21789,
          20465
         ],
         "yaxis": "y"
        }
       ],
       "layout": {
        "autosize": true,
        "legend": {
         "tracegroupgap": 0
        },
        "showlegend": true,
        "template": {
         "data": {
          "bar": [
           {
            "error_x": {
             "color": "#2a3f5f"
            },
            "error_y": {
             "color": "#2a3f5f"
            },
            "marker": {
             "line": {
              "color": "#E5ECF6",
              "width": 0.5
             },
             "pattern": {
              "fillmode": "overlay",
              "size": 10,
              "solidity": 0.2
             }
            },
            "type": "bar"
           }
          ],
          "barpolar": [
           {
            "marker": {
             "line": {
              "color": "#E5ECF6",
              "width": 0.5
             },
             "pattern": {
              "fillmode": "overlay",
              "size": 10,
              "solidity": 0.2
             }
            },
            "type": "barpolar"
           }
          ],
          "carpet": [
           {
            "aaxis": {
             "endlinecolor": "#2a3f5f",
             "gridcolor": "white",
             "linecolor": "white",
             "minorgridcolor": "white",
             "startlinecolor": "#2a3f5f"
            },
            "baxis": {
             "endlinecolor": "#2a3f5f",
             "gridcolor": "white",
             "linecolor": "white",
             "minorgridcolor": "white",
             "startlinecolor": "#2a3f5f"
            },
            "type": "carpet"
           }
          ],
          "choropleth": [
           {
            "colorbar": {
             "outlinewidth": 0,
             "ticks": ""
            },
            "type": "choropleth"
           }
          ],
          "contour": [
           {
            "colorbar": {
             "outlinewidth": 0,
             "ticks": ""
            },
            "colorscale": [
             [
              0,
              "#0d0887"
             ],
             [
              0.1111111111111111,
              "#46039f"
             ],
             [
              0.2222222222222222,
              "#7201a8"
             ],
             [
              0.3333333333333333,
              "#9c179e"
             ],
             [
              0.4444444444444444,
              "#bd3786"
             ],
             [
              0.5555555555555556,
              "#d8576b"
             ],
             [
              0.6666666666666666,
              "#ed7953"
             ],
             [
              0.7777777777777778,
              "#fb9f3a"
             ],
             [
              0.8888888888888888,
              "#fdca26"
             ],
             [
              1,
              "#f0f921"
             ]
            ],
            "type": "contour"
           }
          ],
          "contourcarpet": [
           {
            "colorbar": {
             "outlinewidth": 0,
             "ticks": ""
            },
            "type": "contourcarpet"
           }
          ],
          "heatmap": [
           {
            "colorbar": {
             "outlinewidth": 0,
             "ticks": ""
            },
            "colorscale": [
             [
              0,
              "#0d0887"
             ],
             [
              0.1111111111111111,
              "#46039f"
             ],
             [
              0.2222222222222222,
              "#7201a8"
             ],
             [
              0.3333333333333333,
              "#9c179e"
             ],
             [
              0.4444444444444444,
              "#bd3786"
             ],
             [
              0.5555555555555556,
              "#d8576b"
             ],
             [
              0.6666666666666666,
              "#ed7953"
             ],
             [
              0.7777777777777778,
              "#fb9f3a"
             ],
             [
              0.8888888888888888,
              "#fdca26"
             ],
             [
              1,
              "#f0f921"
             ]
            ],
            "type": "heatmap"
           }
          ],
          "heatmapgl": [
           {
            "colorbar": {
             "outlinewidth": 0,
             "ticks": ""
            },
            "colorscale": [
             [
              0,
              "#0d0887"
             ],
             [
              0.1111111111111111,
              "#46039f"
             ],
             [
              0.2222222222222222,
              "#7201a8"
             ],
             [
              0.3333333333333333,
              "#9c179e"
             ],
             [
              0.4444444444444444,
              "#bd3786"
             ],
             [
              0.5555555555555556,
              "#d8576b"
             ],
             [
              0.6666666666666666,
              "#ed7953"
             ],
             [
              0.7777777777777778,
              "#fb9f3a"
             ],
             [
              0.8888888888888888,
              "#fdca26"
             ],
             [
              1,
              "#f0f921"
             ]
            ],
            "type": "heatmapgl"
           }
          ],
          "histogram": [
           {
            "marker": {
             "pattern": {
              "fillmode": "overlay",
              "size": 10,
              "solidity": 0.2
             }
            },
            "type": "histogram"
           }
          ],
          "histogram2d": [
           {
            "colorbar": {
             "outlinewidth": 0,
             "ticks": ""
            },
            "colorscale": [
             [
              0,
              "#0d0887"
             ],
             [
              0.1111111111111111,
              "#46039f"
             ],
             [
              0.2222222222222222,
              "#7201a8"
             ],
             [
              0.3333333333333333,
              "#9c179e"
             ],
             [
              0.4444444444444444,
              "#bd3786"
             ],
             [
              0.5555555555555556,
              "#d8576b"
             ],
             [
              0.6666666666666666,
              "#ed7953"
             ],
             [
              0.7777777777777778,
              "#fb9f3a"
             ],
             [
              0.8888888888888888,
              "#fdca26"
             ],
             [
              1,
              "#f0f921"
             ]
            ],
            "type": "histogram2d"
           }
          ],
          "histogram2dcontour": [
           {
            "colorbar": {
             "outlinewidth": 0,
             "ticks": ""
            },
            "colorscale": [
             [
              0,
              "#0d0887"
             ],
             [
              0.1111111111111111,
              "#46039f"
             ],
             [
              0.2222222222222222,
              "#7201a8"
             ],
             [
              0.3333333333333333,
              "#9c179e"
             ],
             [
              0.4444444444444444,
              "#bd3786"
             ],
             [
              0.5555555555555556,
              "#d8576b"
             ],
             [
              0.6666666666666666,
              "#ed7953"
             ],
             [
              0.7777777777777778,
              "#fb9f3a"
             ],
             [
              0.8888888888888888,
              "#fdca26"
             ],
             [
              1,
              "#f0f921"
             ]
            ],
            "type": "histogram2dcontour"
           }
          ],
          "mesh3d": [
           {
            "colorbar": {
             "outlinewidth": 0,
             "ticks": ""
            },
            "type": "mesh3d"
           }
          ],
          "parcoords": [
           {
            "line": {
             "colorbar": {
              "outlinewidth": 0,
              "ticks": ""
             }
            },
            "type": "parcoords"
           }
          ],
          "pie": [
           {
            "automargin": true,
            "type": "pie"
           }
          ],
          "scatter": [
           {
            "fillpattern": {
             "fillmode": "overlay",
             "size": 10,
             "solidity": 0.2
            },
            "type": "scatter"
           }
          ],
          "scatter3d": [
           {
            "line": {
             "colorbar": {
              "outlinewidth": 0,
              "ticks": ""
             }
            },
            "marker": {
             "colorbar": {
              "outlinewidth": 0,
              "ticks": ""
             }
            },
            "type": "scatter3d"
           }
          ],
          "scattercarpet": [
           {
            "marker": {
             "colorbar": {
              "outlinewidth": 0,
              "ticks": ""
             }
            },
            "type": "scattercarpet"
           }
          ],
          "scattergeo": [
           {
            "marker": {
             "colorbar": {
              "outlinewidth": 0,
              "ticks": ""
             }
            },
            "type": "scattergeo"
           }
          ],
          "scattergl": [
           {
            "marker": {
             "colorbar": {
              "outlinewidth": 0,
              "ticks": ""
             }
            },
            "type": "scattergl"
           }
          ],
          "scattermapbox": [
           {
            "marker": {
             "colorbar": {
              "outlinewidth": 0,
              "ticks": ""
             }
            },
            "type": "scattermapbox"
           }
          ],
          "scatterpolar": [
           {
            "marker": {
             "colorbar": {
              "outlinewidth": 0,
              "ticks": ""
             }
            },
            "type": "scatterpolar"
           }
          ],
          "scatterpolargl": [
           {
            "marker": {
             "colorbar": {
              "outlinewidth": 0,
              "ticks": ""
             }
            },
            "type": "scatterpolargl"
           }
          ],
          "scatterternary": [
           {
            "marker": {
             "colorbar": {
              "outlinewidth": 0,
              "ticks": ""
             }
            },
            "type": "scatterternary"
           }
          ],
          "surface": [
           {
            "colorbar": {
             "outlinewidth": 0,
             "ticks": ""
            },
            "colorscale": [
             [
              0,
              "#0d0887"
             ],
             [
              0.1111111111111111,
              "#46039f"
             ],
             [
              0.2222222222222222,
              "#7201a8"
             ],
             [
              0.3333333333333333,
              "#9c179e"
             ],
             [
              0.4444444444444444,
              "#bd3786"
             ],
             [
              0.5555555555555556,
              "#d8576b"
             ],
             [
              0.6666666666666666,
              "#ed7953"
             ],
             [
              0.7777777777777778,
              "#fb9f3a"
             ],
             [
              0.8888888888888888,
              "#fdca26"
             ],
             [
              1,
              "#f0f921"
             ]
            ],
            "type": "surface"
           }
          ],
          "table": [
           {
            "cells": {
             "fill": {
              "color": "#EBF0F8"
             },
             "line": {
              "color": "white"
             }
            },
            "header": {
             "fill": {
              "color": "#C8D4E3"
             },
             "line": {
              "color": "white"
             }
            },
            "type": "table"
           }
          ]
         },
         "layout": {
          "annotationdefaults": {
           "arrowcolor": "#2a3f5f",
           "arrowhead": 0,
           "arrowwidth": 1
          },
          "autotypenumbers": "strict",
          "coloraxis": {
           "colorbar": {
            "outlinewidth": 0,
            "ticks": ""
           }
          },
          "colorscale": {
           "diverging": [
            [
             0,
             "#8e0152"
            ],
            [
             0.1,
             "#c51b7d"
            ],
            [
             0.2,
             "#de77ae"
            ],
            [
             0.3,
             "#f1b6da"
            ],
            [
             0.4,
             "#fde0ef"
            ],
            [
             0.5,
             "#f7f7f7"
            ],
            [
             0.6,
             "#e6f5d0"
            ],
            [
             0.7,
             "#b8e186"
            ],
            [
             0.8,
             "#7fbc41"
            ],
            [
             0.9,
             "#4d9221"
            ],
            [
             1,
             "#276419"
            ]
           ],
           "sequential": [
            [
             0,
             "#0d0887"
            ],
            [
             0.1111111111111111,
             "#46039f"
            ],
            [
             0.2222222222222222,
             "#7201a8"
            ],
            [
             0.3333333333333333,
             "#9c179e"
            ],
            [
             0.4444444444444444,
             "#bd3786"
            ],
            [
             0.5555555555555556,
             "#d8576b"
            ],
            [
             0.6666666666666666,
             "#ed7953"
            ],
            [
             0.7777777777777778,
             "#fb9f3a"
            ],
            [
             0.8888888888888888,
             "#fdca26"
            ],
            [
             1,
             "#f0f921"
            ]
           ],
           "sequentialminus": [
            [
             0,
             "#0d0887"
            ],
            [
             0.1111111111111111,
             "#46039f"
            ],
            [
             0.2222222222222222,
             "#7201a8"
            ],
            [
             0.3333333333333333,
             "#9c179e"
            ],
            [
             0.4444444444444444,
             "#bd3786"
            ],
            [
             0.5555555555555556,
             "#d8576b"
            ],
            [
             0.6666666666666666,
             "#ed7953"
            ],
            [
             0.7777777777777778,
             "#fb9f3a"
            ],
            [
             0.8888888888888888,
             "#fdca26"
            ],
            [
             1,
             "#f0f921"
            ]
           ]
          },
          "colorway": [
           "#636efa",
           "#EF553B",
           "#00cc96",
           "#ab63fa",
           "#FFA15A",
           "#19d3f3",
           "#FF6692",
           "#B6E880",
           "#FF97FF",
           "#FECB52"
          ],
          "font": {
           "color": "#2a3f5f"
          },
          "geo": {
           "bgcolor": "white",
           "lakecolor": "white",
           "landcolor": "#E5ECF6",
           "showlakes": true,
           "showland": true,
           "subunitcolor": "white"
          },
          "hoverlabel": {
           "align": "left"
          },
          "hovermode": "closest",
          "mapbox": {
           "style": "light"
          },
          "paper_bgcolor": "white",
          "plot_bgcolor": "#E5ECF6",
          "polar": {
           "angularaxis": {
            "gridcolor": "white",
            "linecolor": "white",
            "ticks": ""
           },
           "bgcolor": "#E5ECF6",
           "radialaxis": {
            "gridcolor": "white",
            "linecolor": "white",
            "ticks": ""
           }
          },
          "scene": {
           "xaxis": {
            "backgroundcolor": "#E5ECF6",
            "gridcolor": "white",
            "gridwidth": 2,
            "linecolor": "white",
            "showbackground": true,
            "ticks": "",
            "zerolinecolor": "white"
           },
           "yaxis": {
            "backgroundcolor": "#E5ECF6",
            "gridcolor": "white",
            "gridwidth": 2,
            "linecolor": "white",
            "showbackground": true,
            "ticks": "",
            "zerolinecolor": "white"
           },
           "zaxis": {
            "backgroundcolor": "#E5ECF6",
            "gridcolor": "white",
            "gridwidth": 2,
            "linecolor": "white",
            "showbackground": true,
            "ticks": "",
            "zerolinecolor": "white"
           }
          },
          "shapedefaults": {
           "line": {
            "color": "#2a3f5f"
           }
          },
          "ternary": {
           "aaxis": {
            "gridcolor": "white",
            "linecolor": "white",
            "ticks": ""
           },
           "baxis": {
            "gridcolor": "white",
            "linecolor": "white",
            "ticks": ""
           },
           "bgcolor": "#E5ECF6",
           "caxis": {
            "gridcolor": "white",
            "linecolor": "white",
            "ticks": ""
           }
          },
          "title": {
           "x": 0.05
          },
          "xaxis": {
           "automargin": true,
           "gridcolor": "white",
           "linecolor": "white",
           "ticks": "",
           "title": {
            "standoff": 15
           },
           "zerolinecolor": "white",
           "zerolinewidth": 2
          },
          "yaxis": {
           "automargin": true,
           "gridcolor": "white",
           "linecolor": "white",
           "ticks": "",
           "title": {
            "standoff": 15
           },
           "zerolinecolor": "white",
           "zerolinewidth": 2
          }
         }
        },
        "title": {
         "text": "AEP Load - Outlier Period (July 25-26, 2005)"
        },
        "xaxis": {
         "anchor": "y",
         "autorange": true,
         "domain": [
          0,
          1
         ],
         "range": [
          "2005-07-25",
          "2005-07-26 23:00"
         ],
         "title": {
          "text": "Date"
         },
         "type": "date"
        },
        "yaxis": {
         "anchor": "x",
         "autorange": true,
         "domain": [
          0,
          1
         ],
         "range": [
          14177.222222222223,
          24532.777777777777
         ],
         "title": {
          "text": "Load (MW)"
         },
         "type": "linear"
        }
       }
      },
      "image/png": "[encoded data removed]",
      "text/html": [
       "<div>                            <div id=\"ca99b14a-f1a2-4a88-ae1b-06a1eb468ecb\" class=\"plotly-graph-div\" style=\"height:525px; width:100%;\"></div>            <script type=\"text/javascript\">                require([\"plotly\"], function(Plotly) {                    window.PLOTLYENV=window.PLOTLYENV || {};                                    if (document.getElementById(\"ca99b14a-f1a2-4a88-ae1b-06a1eb468ecb\")) {                    Plotly.newPlot(                        \"ca99b14a-f1a2-4a88-ae1b-06a1eb468ecb\",                        [{\"hovertemplate\":\"Date=%{x}\\u003cbr\\u003eLoad (MW)=%{y}\\u003cextra\\u003e\\u003c\\u002fextra\\u003e\",\"legendgroup\":\"\",\"line\":{\"color\":\"#636efa\",\"dash\":\"solid\"},\"marker\":{\"symbol\":\"circle\"},\"mode\":\"lines\",\"name\":\"\",\"orientation\":\"v\",\"showlegend\":false,\"x\":[\"2005-07-25T00:00:00\",\"2005-07-25T01:00:00\",\"2005-07-25T02:00:00\",\"2005-07-25T03:00:00\",\"2005-07-25T04:00:00\",\"2005-07-25T05:00:00\",\"2005-07-25T06:00:00\",\"2005-07-25T07:00:00\",\"2005-07-25T08:00:00\",\"2005-07-25T09:00:00\",\"2005-07-25T10:00:00\",\"2005-07-25T11:00:00\",\"2005-07-25T12:00:00\",\"2005-07-25T13:00:00\",\"2005-07-25T14:00:00\",\"2005-07-25T15:00:00\",\"2005-07-25T16:00:00\",\"2005-07-25T17:00:00\",\"2005-07-25T18:00:00\",\"2005-07-25T19:00:00\",\"2005-07-25T20:00:00\",\"2005-07-25T21:00:00\",\"2005-07-25T22:00:00\",\"2005-07-25T23:00:00\",\"2005-07-26T00:00:00\",\"2005-07-26T01:00:00\",\"2005-07-26T02:00:00\",\"2005-07-26T03:00:00\",\"2005-07-26T04:00:00\",\"2005-07-26T05:00:00\",\"2005-07-26T06:00:00\",\"2005-07-26T07:00:00\",\"2005-07-26T08:00:00\",\"2005-07-26T09:00:00\",\"2005-07-26T10:00:00\",\"2005-07-26T11:00:00\",\"2005-07-26T12:00:00\",\"2005-07-26T13:00:00\",\"2005-07-26T14:00:00\",\"2005-07-26T15:00:00\",\"2005-07-26T16:00:00\",\"2005-07-26T17:00:00\",\"2005-07-26T18:00:00\",\"2005-07-26T19:00:00\",\"2005-07-26T20:00:00\",\"2005-07-26T21:00:00\",\"2005-07-26T22:00:00\",\"2005-07-26T23:00:00\"],\"xaxis\":\"x\",\"y\":[17828.0,16572.0,15778.0,15248.0,14907.0,14883.0,15408.0,16224.0,17252.0,18774.0,20199.0,21489.0,22363.0,23022.0,23558.0,23741.0,22942.0,22455.0,22107.0,21808.0,21317.0,21003.0,20801.0,19724.0,18105.0,16753.0,15709.0,15161.0,14732.0,14695.0,15039.0,15772.0,16847.0,18191.0,19649.0,21014.0,22058.0,22922.0,23470.0,23860.0,24015.0,23708.0,23543.0,22910.0,22483.0,21982.0,21789.0,20465.0],\"yaxis\":\"y\",\"type\":\"scatter\"}],                        {\"template\":{\"data\":{\"histogram2dcontour\":[{\"type\":\"histogram2dcontour\",\"colorbar\":{\"outlinewidth\":0,\"ticks\":\"\"},\"colorscale\":[[0.0,\"#0d0887\"],[0.1111111111111111,\"#46039f\"],[0.2222222222222222,\"#7201a8\"],[0.3333333333333333,\"#9c179e\"],[0.4444444444444444,\"#bd3786\"],[0.5555555555555556,\"#d8576b\"],[0.6666666666666666,\"#ed7953\"],[0.7777777777777778,\"#fb9f3a\"],[0.8888888888888888,\"#fdca26\"],[1.0,\"#f0f921\"]]}],\"choropleth\":[{\"type\":\"choropleth\",\"colorbar\":{\"outlinewidth\":0,\"ticks\":\"\"}}],\"histogram2d\":[{\"type\":\"histogram2d\",\"colorbar\":{\"outlinewidth\":0,\"ticks\":\"\"},\"colorscale\":[[0.0,\"#0d0887\"],[0.1111111111111111,\"#46039f\"],[0.2222222222222222,\"#7201a8\"],[0.3333333333333333,\"#9c179e\"],[0.4444444444444444,\"#bd3786\"],[0.5555555555555556,\"#d8576b\"],[0.6666666666666666,\"#ed7953\"],[0.7777777777777778,\"#fb9f3a\"],[0.8888888888888888,\"#fdca26\"],[1.0,\"#f0f921\"]]}],\"heatmap\":[{\"type\":\"heatmap\",\"colorbar\":{\"outlinewidth\":0,\"ticks\":\"\"},\"colorscale\":[[0.0,\"#0d0887\"],[0.1111111111111111,\"#46039f\"],[0.2222222222222222,\"#7201a8\"],[0.3333333333333333,\"#9c179e\"],[0.4444444444444444,\"#bd3786\"],[0.5555555555555556,\"#d8576b\"],[0.6666666666666666,\"#ed7953\"],[0.7777777777777778,\"#fb9f3a\"],[0.8888888888888888,\"#fdca26\"],[1.0,\"#f0f921\"]]}],\"heatmapgl\":[{\"type\":\"heatmapgl\",\"colorbar\":{\"outlinewidth\":0,\"ticks\":\"\"},\"colorscale\":[[0.0,\"#0d0887\"],[0.1111111111111111,\"#46039f\"],[0.2222222222222222,\"#7201a8\"],[0.3333333333333333,\"#9c179e\"],[0.4444444444444444,\"#bd3786\"],[0.5555555555555556,\"#d8576b\"],[0.6666666666666666,\"#ed7953\"],[0.7777777777777778,\"#fb9f3a\"],[0.8888888888888888,\"#fdca26\"],[1.0,\"#f0f921\"]]}],\"contourcarpet\":[{\"type\":\"contourcarpet\",\"colorbar\":{\"outlinewidth\":0,\"ticks\":\"\"}}],\"contour\":[{\"type\":\"contour\",\"colorbar\":{\"outlinewidth\":0,\"ticks\":\"\"},\"colorscale\":[[0.0,\"#0d0887\"],[0.1111111111111111,\"#46039f\"],[0.2222222222222222,\"#7201a8\"],[0.3333333333333333,\"#9c179e\"],[0.4444444444444444,\"#bd3786\"],[0.5555555555555556,\"#d8576b\"],[0.6666666666666666,\"#ed7953\"],[0.7777777777777778,\"#fb9f3a\"],[0.8888888888888888,\"#fdca26\"],[1.0,\"#f0f921\"]]}],\"surface\":[{\"type\":\"surface\",\"colorbar\":{\"outlinewidth\":0,\"ticks\":\"\"},\"colorscale\":[[0.0,\"#0d0887\"],[0.1111111111111111,\"#46039f\"],[0.2222222222222222,\"#7201a8\"],[0.3333333333333333,\"#9c179e\"],[0.4444444444444444,\"#bd3786\"],[0.5555555555555556,\"#d8576b\"],[0.6666666666666666,\"#ed7953\"],[0.7777777777777778,\"#fb9f3a\"],[0.8888888888888888,\"#fdca26\"],[1.0,\"#f0f921\"]]}],\"mesh3d\":[{\"type\":\"mesh3d\",\"colorbar\":{\"outlinewidth\":0,\"ticks\":\"\"}}],\"scatter\":[{\"fillpattern\":{\"fillmode\":\"overlay\",\"size\":10,\"solidity\":0.2},\"type\":\"scatter\"}],\"parcoords\":[{\"type\":\"parcoords\",\"line\":{\"colorbar\":{\"outlinewidth\":0,\"ticks\":\"\"}}}],\"scatterpolargl\":[{\"type\":\"scatterpolargl\",\"marker\":{\"colorbar\":{\"outlinewidth\":0,\"ticks\":\"\"}}}],\"bar\":[{\"error_x\":{\"color\":\"#2a3f5f\"},\"error_y\":{\"color\":\"#2a3f5f\"},\"marker\":{\"line\":{\"color\":\"#E5ECF6\",\"width\":0.5},\"pattern\":{\"fillmode\":\"overlay\",\"size\":10,\"solidity\":0.2}},\"type\":\"bar\"}],\"scattergeo\":[{\"type\":\"scattergeo\",\"marker\":{\"colorbar\":{\"outlinewidth\":0,\"ticks\":\"\"}}}],\"scatterpolar\":[{\"type\":\"scatterpolar\",\"marker\":{\"colorbar\":{\"outlinewidth\":0,\"ticks\":\"\"}}}],\"histogram\":[{\"marker\":{\"pattern\":{\"fillmode\":\"overlay\",\"size\":10,\"solidity\":0.2}},\"type\":\"histogram\"}],\"scattergl\":[{\"type\":\"scattergl\",\"marker\":{\"colorbar\":{\"outlinewidth\":0,\"ticks\":\"\"}}}],\"scatter3d\":[{\"type\":\"scatter3d\",\"line\":{\"colorbar\":{\"outlinewidth\":0,\"ticks\":\"\"}},\"marker\":{\"colorbar\":{\"outlinewidth\":0,\"ticks\":\"\"}}}],\"scattermapbox\":[{\"type\":\"scattermapbox\",\"marker\":{\"colorbar\":{\"outlinewidth\":0,\"ticks\":\"\"}}}],\"scatterternary\":[{\"type\":\"scatterternary\",\"marker\":{\"colorbar\":{\"outlinewidth\":0,\"ticks\":\"\"}}}],\"scattercarpet\":[{\"type\":\"scattercarpet\",\"marker\":{\"colorbar\":{\"outlinewidth\":0,\"ticks\":\"\"}}}],\"carpet\":[{\"aaxis\":{\"endlinecolor\":\"#2a3f5f\",\"gridcolor\":\"white\",\"linecolor\":\"white\",\"minorgridcolor\":\"white\",\"startlinecolor\":\"#2a3f5f\"},\"baxis\":{\"endlinecolor\":\"#2a3f5f\",\"gridcolor\":\"white\",\"linecolor\":\"white\",\"minorgridcolor\":\"white\",\"startlinecolor\":\"#2a3f5f\"},\"type\":\"carpet\"}],\"table\":[{\"cells\":{\"fill\":{\"color\":\"#EBF0F8\"},\"line\":{\"color\":\"white\"}},\"header\":{\"fill\":{\"color\":\"#C8D4E3\"},\"line\":{\"color\":\"white\"}},\"type\":\"table\"}],\"barpolar\":[{\"marker\":{\"line\":{\"color\":\"#E5ECF6\",\"width\":0.5},\"pattern\":{\"fillmode\":\"overlay\",\"size\":10,\"solidity\":0.2}},\"type\":\"barpolar\"}],\"pie\":[{\"automargin\":true,\"type\":\"pie\"}]},\"layout\":{\"autotypenumbers\":\"strict\",\"colorway\":[\"#636efa\",\"#EF553B\",\"#00cc96\",\"#ab63fa\",\"#FFA15A\",\"#19d3f3\",\"#FF6692\",\"#B6E880\",\"#FF97FF\",\"#FECB52\"],\"font\":{\"color\":\"#2a3f5f\"},\"hovermode\":\"closest\",\"hoverlabel\":{\"align\":\"left\"},\"paper_bgcolor\":\"white\",\"plot_bgcolor\":\"#E5ECF6\",\"polar\":{\"bgcolor\":\"#E5ECF6\",\"angularaxis\":{\"gridcolor\":\"white\",\"linecolor\":\"white\",\"ticks\":\"\"},\"radialaxis\":{\"gridcolor\":\"white\",\"linecolor\":\"white\",\"ticks\":\"\"}},\"ternary\":{\"bgcolor\":\"#E5ECF6\",\"aaxis\":{\"gridcolor\":\"white\",\"linecolor\":\"white\",\"ticks\":\"\"},\"baxis\":{\"gridcolor\":\"white\",\"linecolor\":\"white\",\"ticks\":\"\"},\"caxis\":{\"gridcolor\":\"white\",\"linecolor\":\"white\",\"ticks\":\"\"}},\"coloraxis\":{\"colorbar\":{\"outlinewidth\":0,\"ticks\":\"\"}},\"colorscale\":{\"sequential\":[[0.0,\"#0d0887\"],[0.1111111111111111,\"#46039f\"],[0.2222222222222222,\"#7201a8\"],[0.3333333333333333,\"#9c179e\"],[0.4444444444444444,\"#bd3786\"],[0.5555555555555556,\"#d8576b\"],[0.6666666666666666,\"#ed7953\"],[0.7777777777777778,\"#fb9f3a\"],[0.8888888888888888,\"#fdca26\"],[1.0,\"#f0f921\"]],\"sequentialminus\":[[0.0,\"#0d0887\"],[0.1111111111111111,\"#46039f\"],[0.2222222222222222,\"#7201a8\"],[0.3333333333333333,\"#9c179e\"],[0.4444444444444444,\"#bd3786\"],[0.5555555555555556,\"#d8576b\"],[0.6666666666666666,\"#ed7953\"],[0.7777777777777778,\"#fb9f3a\"],[0.8888888888888888,\"#fdca26\"],[1.0,\"#f0f921\"]],\"diverging\":[[0,\"#8e0152\"],[0.1,\"#c51b7d\"],[0.2,\"#de77ae\"],[0.3,\"#f1b6da\"],[0.4,\"#fde0ef\"],[0.5,\"#f7f7f7\"],[0.6,\"#e6f5d0\"],[0.7,\"#b8e186\"],[0.8,\"#7fbc41\"],[0.9,\"#4d9221\"],[1,\"#276419\"]]},\"xaxis\":{\"gridcolor\":\"white\",\"linecolor\":\"white\",\"ticks\":\"\",\"title\":{\"standoff\":15},\"zerolinecolor\":\"white\",\"automargin\":true,\"zerolinewidth\":2},\"yaxis\":{\"gridcolor\":\"white\",\"linecolor\":\"white\",\"ticks\":\"\",\"title\":{\"standoff\":15},\"zerolinecolor\":\"white\",\"automargin\":true,\"zerolinewidth\":2},\"scene\":{\"xaxis\":{\"backgroundcolor\":\"#E5ECF6\",\"gridcolor\":\"white\",\"linecolor\":\"white\",\"showbackground\":true,\"ticks\":\"\",\"zerolinecolor\":\"white\",\"gridwidth\":2},\"yaxis\":{\"backgroundcolor\":\"#E5ECF6\",\"gridcolor\":\"white\",\"linecolor\":\"white\",\"showbackground\":true,\"ticks\":\"\",\"zerolinecolor\":\"white\",\"gridwidth\":2},\"zaxis\":{\"backgroundcolor\":\"#E5ECF6\",\"gridcolor\":\"white\",\"linecolor\":\"white\",\"showbackground\":true,\"ticks\":\"\",\"zerolinecolor\":\"white\",\"gridwidth\":2}},\"shapedefaults\":{\"line\":{\"color\":\"#2a3f5f\"}},\"annotationdefaults\":{\"arrowcolor\":\"#2a3f5f\",\"arrowhead\":0,\"arrowwidth\":1},\"geo\":{\"bgcolor\":\"white\",\"landcolor\":\"#E5ECF6\",\"subunitcolor\":\"white\",\"showland\":true,\"showlakes\":true,\"lakecolor\":\"white\"},\"title\":{\"x\":0.05},\"mapbox\":{\"style\":\"light\"}}},\"xaxis\":{\"anchor\":\"y\",\"domain\":[0.0,1.0],\"title\":{\"text\":\"Date\"}},\"yaxis\":{\"anchor\":\"x\",\"domain\":[0.0,1.0],\"title\":{\"text\":\"Load (MW)\"}},\"legend\":{\"tracegroupgap\":0},\"title\":{\"text\":\"AEP Load - Outlier Period (July 25-26, 2005)\"},\"showlegend\":true},                        {\"responsive\": true}                    ).then(function(){\n",
       "                            \n",
       "var gd = document.getElementById('ca99b14a-f1a2-4a88-ae1b-06a1eb468ecb');\n",
       "var x = new MutationObserver(function (mutations, observer) {{\n",
       "        var display = window.getComputedStyle(gd).display;\n",
       "        if (!display || display === 'none') {{\n",
       "            console.log([gd, 'removed!']);\n",
       "            Plotly.purge(gd);\n",
       "            observer.disconnect();\n",
       "        }}\n",
       "}});\n",
       "\n",
       "// Listen for the removal of the full notebook cells\n",
       "var notebookContainer = gd.closest('#notebook-container');\n",
       "if (notebookContainer) {{\n",
       "    x.observe(notebookContainer, {childList: true});\n",
       "}}\n",
       "\n",
       "// Listen for the clearing of the current output cell\n",
       "var outputEl = gd.closest('.output');\n",
       "if (outputEl) {{\n",
       "    x.observe(outputEl, {childList: true});\n",
       "}}\n",
       "\n",
       "                        })                };                });            </script>        </div>"
      ]
     },
     "metadata": {},
     "output_type": "display_data"
    }
   ],
   "source": [
    "# Plot: Zoom into outlier period (July 25-26, 2005)\n",
    "outlier_data = df['2005-07-25':'2005-07-26'].reset_index()\n",
    "fig4 = px.line(outlier_data, x='Datetime', y='AEP_MW', title='AEP Load - Outlier Period (July 25-26, 2005)',\n",
    "               labels={'AEP_MW': 'Load (MW)', 'Datetime': 'Date'})\n",
    "fig4.update_layout(showlegend=True)\n",
    "outlier_plot_html = os.path.join(PLOT_DIR, 'outlier_july_2005.html')\n",
    "fig4.write_html(outlier_plot_html)\n",
    "\n",
    "fig4.show()"
   ]
  },
  {
   "cell_type": "code",
   "execution_count": null,
   "id": "182f6708-531a-4080-958a-a8d50dcf8b14",
   "metadata": {},
   "outputs": [],
   "source": [
    "Inference: The sharp peaks at 14:00–16:00 (reaching ~24k MW) indicate a significant demand surge,\n",
    "likely due to a heatwave, as summer afternoons typically see high air conditioning usage, \n",
    "confirming the outliers as real events."
   ]
  },
  {
   "cell_type": "code",
   "execution_count": 8,
   "id": "ac033879-100a-442e-8819-d194d0135d4a",
   "metadata": {},
   "outputs": [
    {
     "name": "stdout",
     "output_type": "stream",
     "text": [
      "\n",
      "Section 4: Save Cleaned Dataset\n",
      "Cleaned dataset saved at: E:\\TIme series proj\\Dataset\\cleaned_dataset.csv\n",
      "Cleaned dataset also saved as pickle at: E:\\TIme series proj\\files\\cleaned_dataset.pkl\n"
     ]
    }
   ],
   "source": [
    "# --- Section 4: Save Cleaned Dataset ---\n",
    "print(\"\\nSection 4: Save Cleaned Dataset\")\n",
    "# Save the cleaned dataset as CSV\n",
    "df.to_csv(OUTPUT_CSV_PATH)\n",
    "print(f\"Cleaned dataset saved at: {OUTPUT_CSV_PATH}\")\n",
    "\n",
    "# Save as pickle for faster loading later\n",
    "pickle_path = os.path.join(PICKLE_DIR, 'cleaned_dataset.pkl')\n",
    "df.to_pickle(pickle_path)\n",
    "print(f\"Cleaned dataset also saved as pickle at: {pickle_path}\")"
   ]
  },
  {
   "cell_type": "code",
   "execution_count": null,
   "id": "90ed7a93-0540-45ab-a2c1-2e9aaf86ff86",
   "metadata": {},
   "outputs": [],
   "source": []
  }
 ],
 "metadata": {
  "kernelspec": {
   "display_name": "Python 3 (ipykernel)",
   "language": "python",
   "name": "python3"
  },
  "language_info": {
   "codemirror_mode": {
    "name": "ipython",
    "version": 3
   },
   "file_extension": ".py",
   "mimetype": "text/x-python",
   "name": "python",
   "nbconvert_exporter": "python",
   "pygments_lexer": "ipython3",
   "version": "3.12.7"
  }
 },
 "nbformat": 4,
 "nbformat_minor": 5
}
